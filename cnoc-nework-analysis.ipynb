{
 "cells": [
  {
   "cell_type": "code",
   "execution_count": 313,
   "metadata": {},
   "outputs": [
    {
     "name": "stdout",
     "output_type": "stream",
     "text": [
      "2020-07-19 09:29:54.902973\n"
     ]
    }
   ],
   "source": [
    "import datetime\n",
    "print(datetime.datetime.now())"
   ]
  },
  {
   "cell_type": "code",
   "execution_count": 381,
   "metadata": {},
   "outputs": [],
   "source": [
    "import pandas as pd\n",
    "import numpy as np\n",
    "import iso8601 # need this for handling ISO8601 timestamps"
   ]
  },
  {
   "cell_type": "code",
   "execution_count": 383,
   "metadata": {},
   "outputs": [],
   "source": [
    "#cnoc_test = pd.read_csv('/c/Users/rick_/Google Drive/E.Personal/MCUR/Projects/P04.cnoc/cnoc-test2.csv')\n",
    "cnoc_test = pd.read_csv('/home/rbarthel/git/cnoc/results.csv',parse_dates=True)"
   ]
  },
  {
   "cell_type": "markdown",
   "metadata": {},
   "source": [
    "Create the Index from the timestamp and sort for later use. Strictly, this is not necessary if not using rolling windows. The incoming timestamp , with an object data type, is an ISO8601 timestamp and this is converted to a nornmal DateTime before being made into an index."
   ]
  },
  {
   "cell_type": "code",
   "execution_count": 384,
   "metadata": {},
   "outputs": [],
   "source": [
    "cnoc_test['timestamp']=cnoc_test['timestamp'].apply(lambda x: iso8601.parse_date(x))"
   ]
  },
  {
   "cell_type": "code",
   "execution_count": 385,
   "metadata": {},
   "outputs": [],
   "source": [
    "cnoc_test.set_index('timestamp', inplace=True)\n",
    "cnoc_test = cnoc_test.sort_index()"
   ]
  },
  {
   "cell_type": "code",
   "execution_count": 386,
   "metadata": {},
   "outputs": [
    {
     "name": "stdout",
     "output_type": "stream",
     "text": [
      "<class 'pandas.core.frame.DataFrame'>\n",
      "DatetimeIndex: 233463 entries, 2020-03-12 23:59:59.760000+00:00 to 2020-03-13 00:51:33.588000+00:00\n",
      "Data columns (total 3 columns):\n",
      " #   Column      Non-Null Count   Dtype  \n",
      "---  ------      --------------   -----  \n",
      " 0   mac         233463 non-null  object \n",
      " 1   latitude    233463 non-null  float64\n",
      " 2   longtitude  233463 non-null  float64\n",
      "dtypes: float64(2), object(1)\n",
      "memory usage: 7.1+ MB\n"
     ]
    }
   ],
   "source": [
    "cnoc_test.info()"
   ]
  },
  {
   "cell_type": "code",
   "execution_count": 387,
   "metadata": {},
   "outputs": [
    {
     "data": {
      "text/plain": [
       "timestamp\n",
       "2020-03-12 23:59:59.760000+00:00    52.13\n",
       "2020-03-12 23:59:59.760000+00:00    52.13\n",
       "2020-03-12 23:59:59.761000+00:00    52.13\n",
       "2020-03-12 23:59:59.761000+00:00    52.13\n",
       "2020-03-12 23:59:59.765000+00:00    52.13\n",
       "                                    ...  \n",
       "2020-03-13 00:51:33.481000+00:00    52.13\n",
       "2020-03-13 00:51:33.489000+00:00    52.13\n",
       "2020-03-13 00:51:33.493000+00:00    52.13\n",
       "2020-03-13 00:51:33.498000+00:00    52.13\n",
       "2020-03-13 00:51:33.588000+00:00    52.13\n",
       "Name: latitude, Length: 233463, dtype: float64"
      ]
     },
     "execution_count": 387,
     "metadata": {},
     "output_type": "execute_result"
    }
   ],
   "source": [
    "cnoc_test['latitude'].round(3)"
   ]
  },
  {
   "cell_type": "markdown",
   "metadata": {},
   "source": [
    "## Rolling Time Windows\n",
    "Rolling time windows are needed just in case events occur at the edges of each window. For example, event 1 2020-07-18 12:04:30 and event 2 2020-07-18 12:05:10.\n",
    "\n",
    "In a ````pandas```` dataframe it should be possible to do this with a rolling data frame"
   ]
  },
  {
   "cell_type": "markdown",
   "metadata": {},
   "source": [
    "## Location Proximity\n",
    "Location is similar to time. If lat/lon is rounded to 3 decimal places locations may be in close proximity but would appear on different polygons. To overcome this it must be possible to develop an 'edge' through proximity."
   ]
  },
  {
   "cell_type": "markdown",
   "metadata": {},
   "source": [
    "## Developing the Edges\n",
    "In order to deduce the edges we would need to:\n",
    "    1. Establish the list of nodes in the time window\n",
    "    2. For each node calculate the proximity between every other observed node\n",
    "    3. Discard any nodes outside the threshold of proximity\n",
    "    4. Create an edge based on the proximity between the two nodes and use the distance as the weighting (possibly think about the impact of time as an additional weighting factor and add that as an additional weighting attribute)"
   ]
  },
  {
   "cell_type": "markdown",
   "metadata": {},
   "source": [
    "## Calculate distance between 2 points\n",
    "Probably stick this into a lambda function when we start with the pandas dataframe"
   ]
  },
  {
   "cell_type": "code",
   "execution_count": 388,
   "metadata": {},
   "outputs": [
    {
     "name": "stdout",
     "output_type": "stream",
     "text": [
      "278.45856843965976\n"
     ]
    }
   ],
   "source": [
    "from geopy.distance import great_circle\n",
    "\n",
    "coords_1 = (52.2296756, 21.0122287)\n",
    "coords_2 = (52.406374, 16.9251681)\n",
    "\n",
    "print(great_circle(coords_1, coords_2).km)"
   ]
  },
  {
   "cell_type": "code",
   "execution_count": 389,
   "metadata": {},
   "outputs": [
    {
     "name": "stdout",
     "output_type": "stream",
     "text": [
      "<class 'pandas.core.frame.DataFrame'>\n",
      "DatetimeIndex: 233463 entries, 2020-03-12 23:59:59.760000+00:00 to 2020-03-13 00:51:33.588000+00:00\n",
      "Data columns (total 3 columns):\n",
      " #   Column      Non-Null Count   Dtype  \n",
      "---  ------      --------------   -----  \n",
      " 0   mac         233463 non-null  object \n",
      " 1   latitude    233463 non-null  float64\n",
      " 2   longtitude  233463 non-null  float64\n",
      "dtypes: float64(2), object(1)\n",
      "memory usage: 7.1+ MB\n"
     ]
    }
   ],
   "source": [
    "cnoc_test.info()"
   ]
  },
  {
   "cell_type": "code",
   "execution_count": 390,
   "metadata": {},
   "outputs": [],
   "source": [
    "import networkx as nx\n",
    "MACnw = nx.Graph()"
   ]
  },
  {
   "cell_type": "code",
   "execution_count": 391,
   "metadata": {},
   "outputs": [
    {
     "name": "stdout",
     "output_type": "stream",
     "text": [
      "datetime64[ns, UTC]\n"
     ]
    }
   ],
   "source": [
    "print(cnoc_test.index.dtype)"
   ]
  },
  {
   "cell_type": "markdown",
   "metadata": {},
   "source": [
    "## This block took ages to process and was interrupted.\n",
    "Problem here is the use of a manual sliding window over the whole data set and then looking for each relationship in the whole dataset to create the edges.\n"
   ]
  },
  {
   "cell_type": "code",
   "execution_count": 394,
   "metadata": {},
   "outputs": [
    {
     "ename": "KeyboardInterrupt",
     "evalue": "",
     "output_type": "error",
     "traceback": [
      "\u001b[0;31m---------------------------------------------------------------------------\u001b[0m",
      "\u001b[0;31mAttributeError\u001b[0m                            Traceback (most recent call last)",
      "\u001b[0;32m~/yes/envs/py37/lib/python3.7/site-packages/pandas/core/generic.py\u001b[0m in \u001b[0;36m__setattr__\u001b[0;34m(self, name, value)\u001b[0m\n\u001b[1;32m   5285\u001b[0m         \u001b[0;32mtry\u001b[0m\u001b[0;34m:\u001b[0m\u001b[0;34m\u001b[0m\u001b[0;34m\u001b[0m\u001b[0m\n\u001b[0;32m-> 5286\u001b[0;31m             \u001b[0mobject\u001b[0m\u001b[0;34m.\u001b[0m\u001b[0m__getattribute__\u001b[0m\u001b[0;34m(\u001b[0m\u001b[0mself\u001b[0m\u001b[0;34m,\u001b[0m \u001b[0mname\u001b[0m\u001b[0;34m)\u001b[0m\u001b[0;34m\u001b[0m\u001b[0;34m\u001b[0m\u001b[0m\n\u001b[0m\u001b[1;32m   5287\u001b[0m             \u001b[0;32mreturn\u001b[0m \u001b[0mobject\u001b[0m\u001b[0;34m.\u001b[0m\u001b[0m__setattr__\u001b[0m\u001b[0;34m(\u001b[0m\u001b[0mself\u001b[0m\u001b[0;34m,\u001b[0m \u001b[0mname\u001b[0m\u001b[0;34m,\u001b[0m \u001b[0mvalue\u001b[0m\u001b[0;34m)\u001b[0m\u001b[0;34m\u001b[0m\u001b[0;34m\u001b[0m\u001b[0m\n",
      "\u001b[0;32m~/yes/envs/py37/lib/python3.7/site-packages/pandas/core/series.py\u001b[0m in \u001b[0;36mname\u001b[0;34m(self)\u001b[0m\n\u001b[1;32m    429\u001b[0m     \u001b[0;32mdef\u001b[0m \u001b[0mname\u001b[0m\u001b[0;34m(\u001b[0m\u001b[0mself\u001b[0m\u001b[0;34m)\u001b[0m \u001b[0;34m->\u001b[0m \u001b[0mOptional\u001b[0m\u001b[0;34m[\u001b[0m\u001b[0mHashable\u001b[0m\u001b[0;34m]\u001b[0m\u001b[0;34m:\u001b[0m\u001b[0;34m\u001b[0m\u001b[0;34m\u001b[0m\u001b[0m\n\u001b[0;32m--> 430\u001b[0;31m         \u001b[0;32mreturn\u001b[0m \u001b[0mself\u001b[0m\u001b[0;34m.\u001b[0m\u001b[0m_name\u001b[0m\u001b[0;34m\u001b[0m\u001b[0;34m\u001b[0m\u001b[0m\n\u001b[0m\u001b[1;32m    431\u001b[0m \u001b[0;34m\u001b[0m\u001b[0m\n",
      "\u001b[0;32m~/yes/envs/py37/lib/python3.7/site-packages/pandas/core/generic.py\u001b[0m in \u001b[0;36m__getattr__\u001b[0;34m(self, name)\u001b[0m\n\u001b[1;32m   5269\u001b[0m         ):\n\u001b[0;32m-> 5270\u001b[0;31m             \u001b[0;32mreturn\u001b[0m \u001b[0mobject\u001b[0m\u001b[0;34m.\u001b[0m\u001b[0m__getattribute__\u001b[0m\u001b[0;34m(\u001b[0m\u001b[0mself\u001b[0m\u001b[0;34m,\u001b[0m \u001b[0mname\u001b[0m\u001b[0;34m)\u001b[0m\u001b[0;34m\u001b[0m\u001b[0;34m\u001b[0m\u001b[0m\n\u001b[0m\u001b[1;32m   5271\u001b[0m         \u001b[0;32melse\u001b[0m\u001b[0;34m:\u001b[0m\u001b[0;34m\u001b[0m\u001b[0;34m\u001b[0m\u001b[0m\n",
      "\u001b[0;31mAttributeError\u001b[0m: 'Series' object has no attribute '_name'",
      "\nDuring handling of the above exception, another exception occurred:\n",
      "\u001b[0;31mKeyboardInterrupt\u001b[0m                         Traceback (most recent call last)",
      "\u001b[0;32m<ipython-input-394-db27dab0fc14>\u001b[0m in \u001b[0;36m<module>\u001b[0;34m\u001b[0m\n\u001b[1;32m     12\u001b[0m     \u001b[0;31m##curr_set = curr_set.apply(lambda x: great_circle((curr_lat, curr_lon), (x['latitude'],x['longitude'])).km, axis=1)\u001b[0m\u001b[0;34m\u001b[0m\u001b[0;34m\u001b[0m\u001b[0;34m\u001b[0m\u001b[0m\n\u001b[1;32m     13\u001b[0m     \u001b[0;31m#curr_set = curr_set[]\u001b[0m\u001b[0;34m\u001b[0m\u001b[0;34m\u001b[0m\u001b[0;34m\u001b[0m\u001b[0m\n\u001b[0;32m---> 14\u001b[0;31m     \u001b[0;32mfor\u001b[0m \u001b[0mi1\u001b[0m\u001b[0;34m,\u001b[0m \u001b[0mr1\u001b[0m \u001b[0;32min\u001b[0m \u001b[0mcurr_set\u001b[0m\u001b[0;34m.\u001b[0m\u001b[0miterrows\u001b[0m\u001b[0;34m(\u001b[0m\u001b[0;34m)\u001b[0m\u001b[0;34m:\u001b[0m\u001b[0;34m\u001b[0m\u001b[0;34m\u001b[0m\u001b[0m\n\u001b[0m\u001b[1;32m     15\u001b[0m         \u001b[0mprox\u001b[0m \u001b[0;34m=\u001b[0m \u001b[0mgreat_circle\u001b[0m\u001b[0;34m(\u001b[0m\u001b[0;34m(\u001b[0m\u001b[0mcurr_lat\u001b[0m\u001b[0;34m,\u001b[0m \u001b[0mcurr_lon\u001b[0m\u001b[0;34m)\u001b[0m\u001b[0;34m,\u001b[0m \u001b[0;34m(\u001b[0m\u001b[0mr1\u001b[0m\u001b[0;34m[\u001b[0m\u001b[0;34m'latitude'\u001b[0m\u001b[0;34m]\u001b[0m\u001b[0;34m,\u001b[0m\u001b[0mr1\u001b[0m\u001b[0;34m[\u001b[0m\u001b[0;34m'longtitude'\u001b[0m\u001b[0;34m]\u001b[0m\u001b[0;34m)\u001b[0m\u001b[0;34m)\u001b[0m\u001b[0;34m.\u001b[0m\u001b[0mm\u001b[0m\u001b[0;34m\u001b[0m\u001b[0;34m\u001b[0m\u001b[0m\n\u001b[1;32m     16\u001b[0m         \u001b[0mwindow\u001b[0m\u001b[0;34m=\u001b[0m\u001b[0mi1\u001b[0m\u001b[0;34m.\u001b[0m\u001b[0mstrftime\u001b[0m\u001b[0;34m(\u001b[0m\u001b[0;34m'%X%x'\u001b[0m\u001b[0;34m)\u001b[0m\u001b[0;34m\u001b[0m\u001b[0;34m\u001b[0m\u001b[0m\n",
      "\u001b[0;32m~/yes/envs/py37/lib/python3.7/site-packages/pandas/core/frame.py\u001b[0m in \u001b[0;36miterrows\u001b[0;34m(self)\u001b[0m\n\u001b[1;32m    950\u001b[0m         \u001b[0mklass\u001b[0m \u001b[0;34m=\u001b[0m \u001b[0mself\u001b[0m\u001b[0;34m.\u001b[0m\u001b[0m_constructor_sliced\u001b[0m\u001b[0;34m\u001b[0m\u001b[0;34m\u001b[0m\u001b[0m\n\u001b[1;32m    951\u001b[0m         \u001b[0;32mfor\u001b[0m \u001b[0mk\u001b[0m\u001b[0;34m,\u001b[0m \u001b[0mv\u001b[0m \u001b[0;32min\u001b[0m \u001b[0mzip\u001b[0m\u001b[0;34m(\u001b[0m\u001b[0mself\u001b[0m\u001b[0;34m.\u001b[0m\u001b[0mindex\u001b[0m\u001b[0;34m,\u001b[0m \u001b[0mself\u001b[0m\u001b[0;34m.\u001b[0m\u001b[0mvalues\u001b[0m\u001b[0;34m)\u001b[0m\u001b[0;34m:\u001b[0m\u001b[0;34m\u001b[0m\u001b[0;34m\u001b[0m\u001b[0m\n\u001b[0;32m--> 952\u001b[0;31m             \u001b[0ms\u001b[0m \u001b[0;34m=\u001b[0m \u001b[0mklass\u001b[0m\u001b[0;34m(\u001b[0m\u001b[0mv\u001b[0m\u001b[0;34m,\u001b[0m \u001b[0mindex\u001b[0m\u001b[0;34m=\u001b[0m\u001b[0mcolumns\u001b[0m\u001b[0;34m,\u001b[0m \u001b[0mname\u001b[0m\u001b[0;34m=\u001b[0m\u001b[0mk\u001b[0m\u001b[0;34m)\u001b[0m\u001b[0;34m\u001b[0m\u001b[0;34m\u001b[0m\u001b[0m\n\u001b[0m\u001b[1;32m    953\u001b[0m             \u001b[0;32myield\u001b[0m \u001b[0mk\u001b[0m\u001b[0;34m,\u001b[0m \u001b[0ms\u001b[0m\u001b[0;34m\u001b[0m\u001b[0;34m\u001b[0m\u001b[0m\n\u001b[1;32m    954\u001b[0m \u001b[0;34m\u001b[0m\u001b[0m\n",
      "\u001b[0;32m~/yes/envs/py37/lib/python3.7/site-packages/pandas/core/series.py\u001b[0m in \u001b[0;36m__init__\u001b[0;34m(self, data, index, dtype, name, copy, fastpath)\u001b[0m\n\u001b[1;32m    308\u001b[0m \u001b[0;34m\u001b[0m\u001b[0m\n\u001b[1;32m    309\u001b[0m         \u001b[0mgeneric\u001b[0m\u001b[0;34m.\u001b[0m\u001b[0mNDFrame\u001b[0m\u001b[0;34m.\u001b[0m\u001b[0m__init__\u001b[0m\u001b[0;34m(\u001b[0m\u001b[0mself\u001b[0m\u001b[0;34m,\u001b[0m \u001b[0mdata\u001b[0m\u001b[0;34m,\u001b[0m \u001b[0mfastpath\u001b[0m\u001b[0;34m=\u001b[0m\u001b[0;32mTrue\u001b[0m\u001b[0;34m)\u001b[0m\u001b[0;34m\u001b[0m\u001b[0;34m\u001b[0m\u001b[0m\n\u001b[0;32m--> 310\u001b[0;31m         \u001b[0mself\u001b[0m\u001b[0;34m.\u001b[0m\u001b[0mname\u001b[0m \u001b[0;34m=\u001b[0m \u001b[0mname\u001b[0m\u001b[0;34m\u001b[0m\u001b[0;34m\u001b[0m\u001b[0m\n\u001b[0m\u001b[1;32m    311\u001b[0m         \u001b[0mself\u001b[0m\u001b[0;34m.\u001b[0m\u001b[0m_set_axis\u001b[0m\u001b[0;34m(\u001b[0m\u001b[0;36m0\u001b[0m\u001b[0;34m,\u001b[0m \u001b[0mindex\u001b[0m\u001b[0;34m,\u001b[0m \u001b[0mfastpath\u001b[0m\u001b[0;34m=\u001b[0m\u001b[0;32mTrue\u001b[0m\u001b[0;34m)\u001b[0m\u001b[0;34m\u001b[0m\u001b[0;34m\u001b[0m\u001b[0m\n\u001b[1;32m    312\u001b[0m \u001b[0;34m\u001b[0m\u001b[0m\n",
      "\u001b[0;32m~/yes/envs/py37/lib/python3.7/site-packages/pandas/core/generic.py\u001b[0m in \u001b[0;36m__setattr__\u001b[0;34m(self, name, value)\u001b[0m\n\u001b[1;32m   5286\u001b[0m             \u001b[0mobject\u001b[0m\u001b[0;34m.\u001b[0m\u001b[0m__getattribute__\u001b[0m\u001b[0;34m(\u001b[0m\u001b[0mself\u001b[0m\u001b[0;34m,\u001b[0m \u001b[0mname\u001b[0m\u001b[0;34m)\u001b[0m\u001b[0;34m\u001b[0m\u001b[0;34m\u001b[0m\u001b[0m\n\u001b[1;32m   5287\u001b[0m             \u001b[0;32mreturn\u001b[0m \u001b[0mobject\u001b[0m\u001b[0;34m.\u001b[0m\u001b[0m__setattr__\u001b[0m\u001b[0;34m(\u001b[0m\u001b[0mself\u001b[0m\u001b[0;34m,\u001b[0m \u001b[0mname\u001b[0m\u001b[0;34m,\u001b[0m \u001b[0mvalue\u001b[0m\u001b[0;34m)\u001b[0m\u001b[0;34m\u001b[0m\u001b[0;34m\u001b[0m\u001b[0m\n\u001b[0;32m-> 5288\u001b[0;31m         \u001b[0;32mexcept\u001b[0m \u001b[0mAttributeError\u001b[0m\u001b[0;34m:\u001b[0m\u001b[0;34m\u001b[0m\u001b[0;34m\u001b[0m\u001b[0m\n\u001b[0m\u001b[1;32m   5289\u001b[0m             \u001b[0;32mpass\u001b[0m\u001b[0;34m\u001b[0m\u001b[0;34m\u001b[0m\u001b[0m\n\u001b[1;32m   5290\u001b[0m \u001b[0;34m\u001b[0m\u001b[0m\n",
      "\u001b[0;31mKeyboardInterrupt\u001b[0m: "
     ]
    }
   ],
   "source": [
    "for index, row in cnoc_test.iterrows():\n",
    "## print(row['mac-address'], row['location'], index, index - pd.Timedelta('2m30s'), index + pd.Timedelta('2m30s'))\n",
    "    curr_MAC = row['mac']\n",
    "    MACnw.add_node(curr_MAC) #, MAC_label=row['mac-label'], locn=row['location'])\n",
    "    curr_lat = row['latitude']\n",
    "    curr_lon = row['longtitude']\n",
    "    win_early = index - pd.Timedelta('2m30s')\n",
    "    win_late = index + pd.Timedelta('2m30s')\n",
    "    curr_set = cnoc_test[(cnoc_test['mac'] != curr_MAC) &\\\n",
    "                         (cnoc_test.index >= win_early) &\\\n",
    "                         (cnoc_test.index <= win_late)]\n",
    "    ##curr_set = curr_set.apply(lambda x: great_circle((curr_lat, curr_lon), (x['latitude'],x['longitude'])).km, axis=1)\n",
    "    #curr_set = curr_set[]\n",
    "    for i1, r1 in curr_set.iterrows():\n",
    "        prox = great_circle((curr_lat, curr_lon), (r1['latitude'],r1['longtitude'])).m\n",
    "        window=i1.strftime('%X%x')\n",
    "        if prox < 100 :\n",
    "            MACnw.add_node(r1['mac']) #, MAC_label=r1['mac-label'], locn=r1['location'])\n",
    "                #node[\"title\"] += \" Neighbors:<br>\" + \"<br>\".join(neighbor_map[node[\"id\"]])\n",
    "                #node[\"value\"] = len(neighbor_map[node[\"id\"]])\n",
    "            MACnw.add_edge(curr_MAC, r1['mac'], weight=prox, twindow=window)"
   ]
  },
  {
   "cell_type": "code",
   "execution_count": 395,
   "metadata": {},
   "outputs": [],
   "source": [
    "from pyvis.network import Network\n",
    "net = Network(notebook=True)"
   ]
  },
  {
   "cell_type": "code",
   "execution_count": 396,
   "metadata": {},
   "outputs": [
    {
     "data": {
      "text/html": [
       "\n",
       "        <iframe\n",
       "            width=\"500px\"\n",
       "            height=\"500px\"\n",
       "            src=\"MACs.html\"\n",
       "            frameborder=\"0\"\n",
       "            allowfullscreen\n",
       "        ></iframe>\n",
       "        "
      ],
      "text/plain": [
       "<IPython.lib.display.IFrame at 0x7f2d703af6d0>"
      ]
     },
     "execution_count": 396,
     "metadata": {},
     "output_type": "execute_result"
    }
   ],
   "source": [
    "net.from_nx(MACnw)\n",
    "net.show(\"MACs.html\")"
   ]
  },
  {
   "cell_type": "code",
   "execution_count": 399,
   "metadata": {},
   "outputs": [
    {
     "name": "stdout",
     "output_type": "stream",
     "text": [
      "99\n"
     ]
    }
   ],
   "source": [
    "print(MACnw.number_of_nodes())"
   ]
  },
  {
   "cell_type": "code",
   "execution_count": 400,
   "metadata": {},
   "outputs": [
    {
     "name": "stdout",
     "output_type": "stream",
     "text": [
      "4074\n"
     ]
    }
   ],
   "source": [
    "print(MACnw.number_of_edges())"
   ]
  },
  {
   "cell_type": "code",
   "execution_count": 401,
   "metadata": {},
   "outputs": [
    {
     "name": "stdout",
     "output_type": "stream",
     "text": [
      "Name: \n",
      "Type: Graph\n",
      "Number of nodes: 99\n",
      "Number of edges: 4074\n",
      "Average degree:  82.3030\n"
     ]
    }
   ],
   "source": [
    "print(nx.info(MACnw))"
   ]
  },
  {
   "cell_type": "code",
   "execution_count": null,
   "metadata": {},
   "outputs": [],
   "source": [
    "for edges in MACnw.edges :\n",
    "    print(edges)"
   ]
  },
  {
   "cell_type": "code",
   "execution_count": 402,
   "metadata": {},
   "outputs": [
    {
     "ename": "AttributeError",
     "evalue": "module 'networkx' has no attribute 'to_pandas_dataframe'",
     "output_type": "error",
     "traceback": [
      "\u001b[0;31m---------------------------------------------------------------------------\u001b[0m",
      "\u001b[0;31mAttributeError\u001b[0m                            Traceback (most recent call last)",
      "\u001b[0;32m<ipython-input-402-940defeed78d>\u001b[0m in \u001b[0;36m<module>\u001b[0;34m\u001b[0m\n\u001b[0;32m----> 1\u001b[0;31m \u001b[0mgraphdf\u001b[0m \u001b[0;34m=\u001b[0m \u001b[0mnx\u001b[0m\u001b[0;34m.\u001b[0m\u001b[0mto_pandas_dataframe\u001b[0m\u001b[0;34m(\u001b[0m\u001b[0mMACnw\u001b[0m\u001b[0;34m)\u001b[0m\u001b[0;34m\u001b[0m\u001b[0;34m\u001b[0m\u001b[0m\n\u001b[0m",
      "\u001b[0;31mAttributeError\u001b[0m: module 'networkx' has no attribute 'to_pandas_dataframe'"
     ]
    }
   ],
   "source": [
    "graphdf = nx.to_pandas_dataframe(MACnw)"
   ]
  },
  {
   "cell_type": "markdown",
   "metadata": {},
   "source": [
    "## [Clustering Coefficient](https://www.datacamp.com/community/tutorials/social-network-analysis-python)\n",
    "\n",
    "It is observed that people who share connections in a social network tend to form associations. In other words, there is a tendency in a social network to form clusters. We can determine the clusters of a node, Local Clustering Coefficient, which is the fraction of pairs of the node's friends (that is connections) that are connected with each other. To determine the local clustering coefficient, we make use of nx.clustering(Graph, Node) function."
   ]
  },
  {
   "cell_type": "code",
   "execution_count": null,
   "metadata": {},
   "outputs": [],
   "source": [
    "import networkx as nx\n",
    "simpleMACnw = nx.Graph()\n",
    "\n",
    "for index, row in cnoc_test.iterrows():\n",
    "## print(row['mac-address'], row['location'], index, index - pd.Timedelta('2m30s'), index + pd.Timedelta('2m30s'))\n",
    "    curr_MAC = row['mac']\n",
    "    MACnw.add_node(curr_MAC) #, MAC_label=row['mac-label'], locn=row['location'])\n",
    "    curr_lat = row['latitude']\n",
    "    curr_lon = row['longtitude']\n",
    "    win_early = index - pd.Timedelta('2m30s')\n",
    "    win_late = index + pd.Timedelta('2m30s')\n",
    "    curr_set = cnoc_test[(cnoc_test['mac'] != curr_MAC) &\\\n",
    "                         (cnoc_test.index >= win_early) &\\\n",
    "                         (cnoc_test.index <= win_late)]\n",
    "    ##curr_set = curr_set.apply(lambda x: great_circle((curr_lat, curr_lon), (x['latitude'],x['longitude'])).km, axis=1)\n",
    "    #curr_set = curr_set[]\n",
    "    for i1, r1 in curr_set.iterrows():\n",
    "        prox = great_circle((curr_lat, curr_lon), (r1['latitude'],r1['longtitude'])).m\n",
    "        window=i1.strftime('%X%x')\n",
    "        if prox < 100 :\n",
    "            MACnw.add_node(r1['mac']) #, MAC_label=r1['mac-label'], locn=r1['location'])\n",
    "                #node[\"title\"] += \" Neighbors:<br>\" + \"<br>\".join(neighbor_map[node[\"id\"]])\n",
    "                #node[\"value\"] = len(neighbor_map[node[\"id\"]])\n",
    "            MACnw.add_edge(curr_MAC, r1['mac'], weight=prox, twindow=window)"
   ]
  },
  {
   "cell_type": "code",
   "execution_count": 403,
   "metadata": {},
   "outputs": [
    {
     "name": "stdout",
     "output_type": "stream",
     "text": [
      "[('48:6D:BB:87:56:2B', '86:25:19:29:18:A7'), ('48:6D:BB:87:56:2B', '44:E9:DD:5E:6E:02'), ('48:6D:BB:87:56:2B', '44:E9:DD:F1:C7:19'), ('48:6D:BB:87:56:2B', 'F0:86:20:3F:05:75'), ('48:6D:BB:87:56:2B', 'CA:3A:6B:34:31:2F'), ('48:6D:BB:87:56:2B', '92:72:82:87:C8:7F'), ('48:6D:BB:87:56:2B', '44:E9:DD:F1:C7:17'), ('48:6D:BB:87:56:2B', '44:E9:DD:5E:6E:07'), ('48:6D:BB:87:56:2B', '44:E9:DD:5E:6E:05'), ('48:6D:BB:87:56:2B', 'B2:72:82:87:C8:7F'), ('48:6D:BB:87:56:2B', '90:72:82:87:C8:7F'), ('48:6D:BB:87:56:2B', 'B8:EE:0E:4E:FB:8E'), ('48:6D:BB:87:56:2B', '90:4D:4A:50:AE:61'), ('48:6D:BB:87:56:2B', '64:CC:22:9A:65:D0'), ('48:6D:BB:87:56:2B', '62:CC:22:9A:65:D4'), ('48:6D:BB:87:56:2B', 'EC:F4:51:A6:25:40'), ('48:6D:BB:87:56:2B', '30:FD:38:AC:F7:37'), ('48:6D:BB:87:56:2B', 'AC:3B:77:14:D4:40'), ('48:6D:BB:87:56:2B', 'AE:3B:77:14:D6:41'), ('48:6D:BB:87:56:2B', 'C0:3E:0F:11:0F:4F'), ('48:6D:BB:87:56:2B', '20:47:ED:A8:22:B2'), ('48:6D:BB:87:56:2B', '98:D8:63:A7:C5:04'), ('48:6D:BB:87:56:2B', 'B0:19:C6:AD:9C:2D'), ('48:6D:BB:87:56:2B', 'BC:CF:4F:7F:DD:6C'), ('48:6D:BB:87:56:2B', 'C8:3A:35:F3:FB:F8'), ('48:6D:BB:87:56:2B', 'E0:48:AF:01:8C:DB'), ('48:6D:BB:87:56:2B', 'E2:48:AF:01:0C:A7'), ('48:6D:BB:87:56:2B', '88:DE:A9:83:E4:E7'), ('48:6D:BB:87:56:2B', '04:A2:22:09:B1:1C'), ('48:6D:BB:87:56:2B', 'DA:31:34:3F:4C:CA'), ('48:6D:BB:87:56:2B', '50:DC:E7:1D:70:32'), ('48:6D:BB:87:56:2B', 'A4:91:B1:8B:3C:98'), ('48:6D:BB:87:56:2B', '8C:3B:AD:BA:BA:E9'), ('48:6D:BB:87:56:2B', '1C:74:0D:5A:03:B0'), ('48:6D:BB:87:56:2B', 'C0:3E:0F:11:1D:AA'), ('48:6D:BB:87:56:2B', '30:57:14:E0:02:B1'), ('48:6D:BB:87:56:2B', '10:94:BB:24:63:2F'), ('48:6D:BB:87:56:2B', '88:DE:A9:83:E4:E9'), ('48:6D:BB:87:56:2B', '38:A6:CE:14:0A:50'), ('48:6D:BB:87:56:2B', 'A4:91:B1:8B:3C:97'), ('48:6D:BB:87:56:2B', 'C8:3A:6B:34:31:2F'), ('48:6D:BB:87:56:2B', '44:E9:DD:F1:C7:14'), ('48:6D:BB:87:56:2B', 'F0:86:20:3F:05:77'), ('48:6D:BB:87:56:2B', '7A:86:20:3F:05:70'), ('48:6D:BB:87:56:2B', 'D8:31:34:3F:4C:CA'), ('48:6D:BB:87:56:2B', 'B2:72:82:7F:AB:F2'), ('48:6D:BB:87:56:2B', '04:A2:22:09:B1:1A'), ('48:6D:BB:87:56:2B', 'D2:AC:7E:21:50:32'), ('48:6D:BB:87:56:2B', '7A:86:20:3F:05:71'), ('48:6D:BB:87:56:2B', '44:E9:DD:5E:6E:00'), ('48:6D:BB:87:56:2B', '24:4C:E3:48:51:C1'), ('48:6D:BB:87:56:2B', '62:A2:22:09:B1:18'), ('48:6D:BB:87:56:2B', '38:A6:CE:14:0A:52'), ('48:6D:BB:87:56:2B', 'E0:48:AF:01:0C:A7'), ('48:6D:BB:87:56:2B', 'D2:2C:7E:0B:1B:32'), ('48:6D:BB:87:56:2B', '20:47:ED:9E:A6:12'), ('48:6D:BB:87:56:2B', '48:D7:05:E5:66:AD'), ('48:6D:BB:87:56:2B', '78:67:D7:1D:80:02'), ('48:6D:BB:87:56:2B', '28:28:5D:A6:75:D8'), ('48:6D:BB:87:56:2B', '10:30:25:11:0B:46'), ('48:6D:BB:87:56:2B', 'AC:3B:77:14:D4:3D'), ('48:6D:BB:87:56:2B', 'F4:63:1F:93:89:CB'), ('48:6D:BB:87:56:2B', '00:11:32:7A:25:3D'), ('48:6D:BB:87:56:2B', '60:7E:DD:FD:43:EC'), ('48:6D:BB:87:56:2B', '3C:AB:8E:44:0D:66'), ('48:6D:BB:87:56:2B', '68:47:49:26:4F:9C'), ('48:6D:BB:87:56:2B', '90:72:82:7F:AB:F2'), ('48:6D:BB:87:56:2B', '92:72:82:7F:AB:F2'), ('48:6D:BB:87:56:2B', '90:4D:4A:50:AE:60'), ('48:6D:BB:87:56:2B', '7A:86:20:3F:05:73'), ('48:6D:BB:87:56:2B', '70:BC:10:C2:16:AB'), ('48:6D:BB:87:56:2B', '70:BC:10:D2:55:33'), ('48:6D:BB:87:56:2B', '30:F7:72:58:95:61'), ('48:6D:BB:87:56:2B', '44:E9:DD:F1:C7:12'), ('48:6D:BB:87:56:2B', '22:23:F6:E6:EA:BA'), ('48:6D:BB:87:56:2B', 'DC:4A:3E:B9:02:0A'), ('48:6D:BB:87:56:2B', '30:19:66:FD:70:31'), ('48:6D:BB:87:56:2B', '4C:57:CA:D4:A9:80'), ('48:6D:BB:87:56:2B', 'F8:B4:6A:C9:75:9D'), ('48:6D:BB:87:56:2B', '7C:D9:5C:28:AA:E8'), ('48:6D:BB:87:56:2B', '00:03:7F:2D:E2:89'), ('48:6D:BB:87:56:2B', '6A:F4:51:A6:25:41'), ('48:6D:BB:87:56:2B', 'A8:10:87:53:01:62'), ('48:6D:BB:87:56:2B', '00:0C:43:00:48:24'), ('48:6D:BB:87:56:2B', '64:CC:22:9A:65:CD'), ('48:6D:BB:87:56:2B', '00:25:92:25:E4:2E'), ('48:6D:BB:87:56:2B', '04:69:F8:56:E6:B7'), ('48:6D:BB:87:56:2B', '90:4D:4A:27:47:4C'), ('48:6D:BB:87:56:2B', '34:79:16:20:A6:1C'), ('48:6D:BB:87:56:2B', 'EC:F4:51:BF:46:CE'), ('48:6D:BB:87:56:2B', 'E4:F0:42:65:6C:13'), ('48:6D:BB:87:56:2B', '58:82:A8:11:4D:86'), ('48:6D:BB:87:56:2B', '04:A2:22:09:B1:19'), ('48:6D:BB:87:56:2B', '04:69:F8:6C:18:7F'), ('48:6D:BB:87:56:2B', '90:72:82:87:C8:76'), ('48:6D:BB:87:56:2B', 'F8:2D:7C:56:04:B5'), ('48:6D:BB:87:56:2B', 'B0:35:B5:AE:2E:76'), ('48:6D:BB:87:56:2B', 'B8:EE:0E:4E:FB:8D'), ('86:25:19:29:18:A7', '44:E9:DD:5E:6E:02'), ('86:25:19:29:18:A7', '44:E9:DD:F1:C7:19'), ('86:25:19:29:18:A7', 'F0:86:20:3F:05:75'), ('86:25:19:29:18:A7', 'CA:3A:6B:34:31:2F'), ('86:25:19:29:18:A7', '92:72:82:87:C8:7F'), ('86:25:19:29:18:A7', '44:E9:DD:F1:C7:17'), ('86:25:19:29:18:A7', '44:E9:DD:5E:6E:07'), ('86:25:19:29:18:A7', '44:E9:DD:5E:6E:05'), ('86:25:19:29:18:A7', 'B2:72:82:87:C8:7F'), ('86:25:19:29:18:A7', '90:72:82:87:C8:7F'), ('86:25:19:29:18:A7', 'B8:EE:0E:4E:FB:8E'), ('86:25:19:29:18:A7', '90:4D:4A:50:AE:61'), ('86:25:19:29:18:A7', '64:CC:22:9A:65:D0'), ('86:25:19:29:18:A7', '62:CC:22:9A:65:D4'), ('86:25:19:29:18:A7', 'EC:F4:51:A6:25:40'), ('86:25:19:29:18:A7', '30:FD:38:AC:F7:37'), ('86:25:19:29:18:A7', 'AC:3B:77:14:D4:40'), ('86:25:19:29:18:A7', 'AE:3B:77:14:D6:41'), ('86:25:19:29:18:A7', 'C0:3E:0F:11:0F:4F'), ('86:25:19:29:18:A7', '20:47:ED:A8:22:B2'), ('86:25:19:29:18:A7', '98:D8:63:A7:C5:04'), ('86:25:19:29:18:A7', 'B0:19:C6:AD:9C:2D'), ('86:25:19:29:18:A7', 'BC:CF:4F:7F:DD:6C'), ('86:25:19:29:18:A7', 'C8:3A:35:F3:FB:F8'), ('86:25:19:29:18:A7', 'E0:48:AF:01:8C:DB'), ('86:25:19:29:18:A7', 'E2:48:AF:01:0C:A7'), ('86:25:19:29:18:A7', '88:DE:A9:83:E4:E7'), ('86:25:19:29:18:A7', '04:A2:22:09:B1:1C'), ('86:25:19:29:18:A7', 'DA:31:34:3F:4C:CA'), ('86:25:19:29:18:A7', '50:DC:E7:1D:70:32'), ('86:25:19:29:18:A7', 'A4:91:B1:8B:3C:98'), ('86:25:19:29:18:A7', '8C:3B:AD:BA:BA:E9'), ('86:25:19:29:18:A7', '1C:74:0D:5A:03:B0'), ('86:25:19:29:18:A7', 'C0:3E:0F:11:1D:AA'), ('86:25:19:29:18:A7', '30:57:14:E0:02:B1'), ('86:25:19:29:18:A7', '10:94:BB:24:63:2F'), ('86:25:19:29:18:A7', '88:DE:A9:83:E4:E9'), ('86:25:19:29:18:A7', '38:A6:CE:14:0A:50'), ('86:25:19:29:18:A7', 'A4:91:B1:8B:3C:97'), ('86:25:19:29:18:A7', 'C8:3A:6B:34:31:2F'), ('86:25:19:29:18:A7', '44:E9:DD:F1:C7:14'), ('86:25:19:29:18:A7', 'F0:86:20:3F:05:77'), ('86:25:19:29:18:A7', '7A:86:20:3F:05:70'), ('86:25:19:29:18:A7', 'D8:31:34:3F:4C:CA'), ('86:25:19:29:18:A7', 'B2:72:82:7F:AB:F2'), ('86:25:19:29:18:A7', '04:A2:22:09:B1:1A'), ('86:25:19:29:18:A7', 'D2:AC:7E:21:50:32'), ('86:25:19:29:18:A7', '7A:86:20:3F:05:71'), ('86:25:19:29:18:A7', '44:E9:DD:5E:6E:00'), ('86:25:19:29:18:A7', '24:4C:E3:48:51:C1'), ('86:25:19:29:18:A7', '62:A2:22:09:B1:18'), ('86:25:19:29:18:A7', '38:A6:CE:14:0A:52'), ('86:25:19:29:18:A7', 'E0:48:AF:01:0C:A7'), ('86:25:19:29:18:A7', 'D2:2C:7E:0B:1B:32'), ('86:25:19:29:18:A7', '20:47:ED:9E:A6:12'), ('86:25:19:29:18:A7', '48:D7:05:E5:66:AD'), ('86:25:19:29:18:A7', '78:67:D7:1D:80:02'), ('86:25:19:29:18:A7', '28:28:5D:A6:75:D8'), ('86:25:19:29:18:A7', '10:30:25:11:0B:46'), ('86:25:19:29:18:A7', 'AC:3B:77:14:D4:3D'), ('86:25:19:29:18:A7', 'F4:63:1F:93:89:CB'), ('86:25:19:29:18:A7', '00:11:32:7A:25:3D'), ('86:25:19:29:18:A7', '60:7E:DD:FD:43:EC'), ('86:25:19:29:18:A7', '3C:AB:8E:44:0D:66'), ('86:25:19:29:18:A7', '68:47:49:26:4F:9C'), ('86:25:19:29:18:A7', '90:72:82:7F:AB:F2'), ('86:25:19:29:18:A7', '92:72:82:7F:AB:F2'), ('86:25:19:29:18:A7', '90:4D:4A:50:AE:60'), ('86:25:19:29:18:A7', '7A:86:20:3F:05:73'), ('86:25:19:29:18:A7', '70:BC:10:C2:16:AB'), ('86:25:19:29:18:A7', '70:BC:10:D2:55:33'), ('86:25:19:29:18:A7', '30:F7:72:58:95:61'), ('86:25:19:29:18:A7', '44:E9:DD:F1:C7:12'), ('86:25:19:29:18:A7', '22:23:F6:E6:EA:BA'), ('86:25:19:29:18:A7', 'DC:4A:3E:B9:02:0A'), ('86:25:19:29:18:A7', '30:19:66:FD:70:31'), ('86:25:19:29:18:A7', '4C:57:CA:D4:A9:80'), ('86:25:19:29:18:A7', 'F8:B4:6A:C9:75:9D'), ('86:25:19:29:18:A7', '7C:D9:5C:28:AA:E8'), ('86:25:19:29:18:A7', '00:03:7F:2D:E2:89'), ('86:25:19:29:18:A7', '6A:F4:51:A6:25:41'), ('86:25:19:29:18:A7', 'A8:10:87:53:01:62'), ('86:25:19:29:18:A7', '00:0C:43:00:48:24'), ('86:25:19:29:18:A7', '64:CC:22:9A:65:CD'), ('86:25:19:29:18:A7', '00:25:92:25:E4:2E'), ('86:25:19:29:18:A7', '04:69:F8:56:E6:B7'), ('86:25:19:29:18:A7', '90:4D:4A:27:47:4C'), ('86:25:19:29:18:A7', '34:79:16:20:A6:1C'), ('86:25:19:29:18:A7', 'EC:F4:51:BF:46:CE'), ('86:25:19:29:18:A7', 'E4:F0:42:65:6C:13'), ('86:25:19:29:18:A7', '58:82:A8:11:4D:86'), ('86:25:19:29:18:A7', '04:A2:22:09:B1:19'), ('86:25:19:29:18:A7', '04:69:F8:6C:18:7F'), ('86:25:19:29:18:A7', '90:72:82:87:C8:76'), ('86:25:19:29:18:A7', 'F8:2D:7C:56:04:B5'), ('86:25:19:29:18:A7', 'B0:35:B5:AE:2E:76'), ('86:25:19:29:18:A7', 'B8:EE:0E:4E:FB:8D'), ('44:E9:DD:5E:6E:02', '44:E9:DD:F1:C7:19'), ('44:E9:DD:5E:6E:02', 'F0:86:20:3F:05:75'), ('44:E9:DD:5E:6E:02', 'CA:3A:6B:34:31:2F'), ('44:E9:DD:5E:6E:02', '92:72:82:87:C8:7F'), ('44:E9:DD:5E:6E:02', '44:E9:DD:F1:C7:17'), ('44:E9:DD:5E:6E:02', '44:E9:DD:5E:6E:07'), ('44:E9:DD:5E:6E:02', '44:E9:DD:5E:6E:05'), ('44:E9:DD:5E:6E:02', 'B2:72:82:87:C8:7F'), ('44:E9:DD:5E:6E:02', '90:72:82:87:C8:7F'), ('44:E9:DD:5E:6E:02', 'B8:EE:0E:4E:FB:8E'), ('44:E9:DD:5E:6E:02', '90:4D:4A:50:AE:61'), ('44:E9:DD:5E:6E:02', '64:CC:22:9A:65:D0'), ('44:E9:DD:5E:6E:02', '62:CC:22:9A:65:D4'), ('44:E9:DD:5E:6E:02', 'EC:F4:51:A6:25:40'), ('44:E9:DD:5E:6E:02', '30:FD:38:AC:F7:37'), ('44:E9:DD:5E:6E:02', 'AC:3B:77:14:D4:40'), ('44:E9:DD:5E:6E:02', 'AE:3B:77:14:D6:41'), ('44:E9:DD:5E:6E:02', 'C0:3E:0F:11:0F:4F'), ('44:E9:DD:5E:6E:02', '20:47:ED:A8:22:B2'), ('44:E9:DD:5E:6E:02', '98:D8:63:A7:C5:04'), ('44:E9:DD:5E:6E:02', 'B0:19:C6:AD:9C:2D'), ('44:E9:DD:5E:6E:02', 'BC:CF:4F:7F:DD:6C'), ('44:E9:DD:5E:6E:02', 'C8:3A:35:F3:FB:F8'), ('44:E9:DD:5E:6E:02', 'E0:48:AF:01:8C:DB'), ('44:E9:DD:5E:6E:02', 'E2:48:AF:01:0C:A7'), ('44:E9:DD:5E:6E:02', '88:DE:A9:83:E4:E7'), ('44:E9:DD:5E:6E:02', '04:A2:22:09:B1:1C'), ('44:E9:DD:5E:6E:02', 'DA:31:34:3F:4C:CA'), ('44:E9:DD:5E:6E:02', '50:DC:E7:1D:70:32'), ('44:E9:DD:5E:6E:02', 'A4:91:B1:8B:3C:98'), ('44:E9:DD:5E:6E:02', '8C:3B:AD:BA:BA:E9'), ('44:E9:DD:5E:6E:02', '1C:74:0D:5A:03:B0'), ('44:E9:DD:5E:6E:02', 'C0:3E:0F:11:1D:AA'), ('44:E9:DD:5E:6E:02', '30:57:14:E0:02:B1'), ('44:E9:DD:5E:6E:02', '10:94:BB:24:63:2F'), ('44:E9:DD:5E:6E:02', '88:DE:A9:83:E4:E9'), ('44:E9:DD:5E:6E:02', '38:A6:CE:14:0A:50'), ('44:E9:DD:5E:6E:02', 'A4:91:B1:8B:3C:97'), ('44:E9:DD:5E:6E:02', 'C8:3A:6B:34:31:2F'), ('44:E9:DD:5E:6E:02', '44:E9:DD:F1:C7:14'), ('44:E9:DD:5E:6E:02', 'F0:86:20:3F:05:77'), ('44:E9:DD:5E:6E:02', '7A:86:20:3F:05:70'), ('44:E9:DD:5E:6E:02', 'D8:31:34:3F:4C:CA'), ('44:E9:DD:5E:6E:02', 'B2:72:82:7F:AB:F2'), ('44:E9:DD:5E:6E:02', '04:A2:22:09:B1:1A'), ('44:E9:DD:5E:6E:02', 'D2:AC:7E:21:50:32'), ('44:E9:DD:5E:6E:02', '7A:86:20:3F:05:71'), ('44:E9:DD:5E:6E:02', '44:E9:DD:5E:6E:00'), ('44:E9:DD:5E:6E:02', '24:4C:E3:48:51:C1'), ('44:E9:DD:5E:6E:02', '62:A2:22:09:B1:18'), ('44:E9:DD:5E:6E:02', '38:A6:CE:14:0A:52'), ('44:E9:DD:5E:6E:02', 'E0:48:AF:01:0C:A7'), ('44:E9:DD:5E:6E:02', 'D2:2C:7E:0B:1B:32'), ('44:E9:DD:5E:6E:02', '20:47:ED:9E:A6:12'), ('44:E9:DD:5E:6E:02', '48:D7:05:E5:66:AD'), ('44:E9:DD:5E:6E:02', '78:67:D7:1D:80:02'), ('44:E9:DD:5E:6E:02', '28:28:5D:A6:75:D8'), ('44:E9:DD:5E:6E:02', '10:30:25:11:0B:46'), ('44:E9:DD:5E:6E:02', 'AC:3B:77:14:D4:3D'), ('44:E9:DD:5E:6E:02', 'F4:63:1F:93:89:CB'), ('44:E9:DD:5E:6E:02', '00:11:32:7A:25:3D'), ('44:E9:DD:5E:6E:02', '60:7E:DD:FD:43:EC'), ('44:E9:DD:5E:6E:02', '3C:AB:8E:44:0D:66'), ('44:E9:DD:5E:6E:02', '68:47:49:26:4F:9C'), ('44:E9:DD:5E:6E:02', '90:72:82:7F:AB:F2'), ('44:E9:DD:5E:6E:02', '92:72:82:7F:AB:F2'), ('44:E9:DD:5E:6E:02', '90:4D:4A:50:AE:60'), ('44:E9:DD:5E:6E:02', '7A:86:20:3F:05:73'), ('44:E9:DD:5E:6E:02', '70:BC:10:C2:16:AB'), ('44:E9:DD:5E:6E:02', '70:BC:10:D2:55:33'), ('44:E9:DD:5E:6E:02', '30:F7:72:58:95:61'), ('44:E9:DD:5E:6E:02', '44:E9:DD:F1:C7:12'), ('44:E9:DD:5E:6E:02', '22:23:F6:E6:EA:BA'), ('44:E9:DD:5E:6E:02', 'DC:4A:3E:B9:02:0A'), ('44:E9:DD:5E:6E:02', '30:19:66:FD:70:31'), ('44:E9:DD:5E:6E:02', '4C:57:CA:D4:A9:80'), ('44:E9:DD:5E:6E:02', 'F8:B4:6A:C9:75:9D'), ('44:E9:DD:5E:6E:02', '7C:D9:5C:28:AA:E8'), ('44:E9:DD:5E:6E:02', '00:03:7F:2D:E2:89'), ('44:E9:DD:5E:6E:02', '6A:F4:51:A6:25:41'), ('44:E9:DD:5E:6E:02', 'A8:10:87:53:01:62'), ('44:E9:DD:5E:6E:02', '00:0C:43:00:48:24'), ('44:E9:DD:5E:6E:02', '64:CC:22:9A:65:CD'), ('44:E9:DD:5E:6E:02', '00:25:92:25:E4:2E'), ('44:E9:DD:5E:6E:02', '04:69:F8:56:E6:B7'), ('44:E9:DD:5E:6E:02', '90:4D:4A:27:47:4C'), ('44:E9:DD:5E:6E:02', '34:79:16:20:A6:1C'), ('44:E9:DD:5E:6E:02', 'EC:F4:51:BF:46:CE'), ('44:E9:DD:5E:6E:02', 'E4:F0:42:65:6C:13'), ('44:E9:DD:5E:6E:02', '58:82:A8:11:4D:86'), ('44:E9:DD:5E:6E:02', '04:A2:22:09:B1:19'), ('44:E9:DD:5E:6E:02', '04:69:F8:6C:18:7F'), ('44:E9:DD:5E:6E:02', '90:72:82:87:C8:76'), ('44:E9:DD:5E:6E:02', 'F8:2D:7C:56:04:B5'), ('44:E9:DD:5E:6E:02', 'B0:35:B5:AE:2E:76'), ('44:E9:DD:5E:6E:02', 'B8:EE:0E:4E:FB:8D'), ('44:E9:DD:F1:C7:19', 'F0:86:20:3F:05:75'), ('44:E9:DD:F1:C7:19', 'CA:3A:6B:34:31:2F'), ('44:E9:DD:F1:C7:19', '92:72:82:87:C8:7F'), ('44:E9:DD:F1:C7:19', '44:E9:DD:F1:C7:17'), ('44:E9:DD:F1:C7:19', '44:E9:DD:5E:6E:07'), ('44:E9:DD:F1:C7:19', '44:E9:DD:5E:6E:05'), ('44:E9:DD:F1:C7:19', 'B2:72:82:87:C8:7F'), ('44:E9:DD:F1:C7:19', '90:72:82:87:C8:7F'), ('44:E9:DD:F1:C7:19', 'B8:EE:0E:4E:FB:8E'), ('44:E9:DD:F1:C7:19', '90:4D:4A:50:AE:61'), ('44:E9:DD:F1:C7:19', '64:CC:22:9A:65:D0'), ('44:E9:DD:F1:C7:19', '62:CC:22:9A:65:D4'), ('44:E9:DD:F1:C7:19', 'EC:F4:51:A6:25:40'), ('44:E9:DD:F1:C7:19', '30:FD:38:AC:F7:37'), ('44:E9:DD:F1:C7:19', 'AC:3B:77:14:D4:40'), ('44:E9:DD:F1:C7:19', 'AE:3B:77:14:D6:41'), ('44:E9:DD:F1:C7:19', 'C0:3E:0F:11:0F:4F'), ('44:E9:DD:F1:C7:19', '20:47:ED:A8:22:B2'), ('44:E9:DD:F1:C7:19', '98:D8:63:A7:C5:04'), ('44:E9:DD:F1:C7:19', 'B0:19:C6:AD:9C:2D'), ('44:E9:DD:F1:C7:19', 'BC:CF:4F:7F:DD:6C'), ('44:E9:DD:F1:C7:19', 'C8:3A:35:F3:FB:F8'), ('44:E9:DD:F1:C7:19', 'E0:48:AF:01:8C:DB'), ('44:E9:DD:F1:C7:19', 'E2:48:AF:01:0C:A7'), ('44:E9:DD:F1:C7:19', '88:DE:A9:83:E4:E7'), ('44:E9:DD:F1:C7:19', '04:A2:22:09:B1:1C'), ('44:E9:DD:F1:C7:19', 'DA:31:34:3F:4C:CA'), ('44:E9:DD:F1:C7:19', '50:DC:E7:1D:70:32'), ('44:E9:DD:F1:C7:19', 'A4:91:B1:8B:3C:98'), ('44:E9:DD:F1:C7:19', '8C:3B:AD:BA:BA:E9'), ('44:E9:DD:F1:C7:19', '1C:74:0D:5A:03:B0'), ('44:E9:DD:F1:C7:19', 'C0:3E:0F:11:1D:AA'), ('44:E9:DD:F1:C7:19', '30:57:14:E0:02:B1'), ('44:E9:DD:F1:C7:19', '10:94:BB:24:63:2F'), ('44:E9:DD:F1:C7:19', '88:DE:A9:83:E4:E9'), ('44:E9:DD:F1:C7:19', '38:A6:CE:14:0A:50'), ('44:E9:DD:F1:C7:19', 'A4:91:B1:8B:3C:97'), ('44:E9:DD:F1:C7:19', 'C8:3A:6B:34:31:2F'), ('44:E9:DD:F1:C7:19', '44:E9:DD:F1:C7:14'), ('44:E9:DD:F1:C7:19', 'F0:86:20:3F:05:77'), ('44:E9:DD:F1:C7:19', '7A:86:20:3F:05:70'), ('44:E9:DD:F1:C7:19', 'D8:31:34:3F:4C:CA'), ('44:E9:DD:F1:C7:19', 'B2:72:82:7F:AB:F2'), ('44:E9:DD:F1:C7:19', '04:A2:22:09:B1:1A'), ('44:E9:DD:F1:C7:19', 'D2:AC:7E:21:50:32'), ('44:E9:DD:F1:C7:19', '7A:86:20:3F:05:71'), ('44:E9:DD:F1:C7:19', '44:E9:DD:5E:6E:00'), ('44:E9:DD:F1:C7:19', '24:4C:E3:48:51:C1'), ('44:E9:DD:F1:C7:19', '62:A2:22:09:B1:18'), ('44:E9:DD:F1:C7:19', '38:A6:CE:14:0A:52'), ('44:E9:DD:F1:C7:19', 'E0:48:AF:01:0C:A7'), ('44:E9:DD:F1:C7:19', 'D2:2C:7E:0B:1B:32'), ('44:E9:DD:F1:C7:19', '20:47:ED:9E:A6:12'), ('44:E9:DD:F1:C7:19', '48:D7:05:E5:66:AD'), ('44:E9:DD:F1:C7:19', '78:67:D7:1D:80:02'), ('44:E9:DD:F1:C7:19', '28:28:5D:A6:75:D8'), ('44:E9:DD:F1:C7:19', '10:30:25:11:0B:46'), ('44:E9:DD:F1:C7:19', 'AC:3B:77:14:D4:3D'), ('44:E9:DD:F1:C7:19', 'F4:63:1F:93:89:CB'), ('44:E9:DD:F1:C7:19', '00:11:32:7A:25:3D'), ('44:E9:DD:F1:C7:19', '60:7E:DD:FD:43:EC'), ('44:E9:DD:F1:C7:19', '3C:AB:8E:44:0D:66'), ('44:E9:DD:F1:C7:19', '68:47:49:26:4F:9C'), ('44:E9:DD:F1:C7:19', '90:72:82:7F:AB:F2'), ('44:E9:DD:F1:C7:19', '92:72:82:7F:AB:F2'), ('44:E9:DD:F1:C7:19', '90:4D:4A:50:AE:60'), ('44:E9:DD:F1:C7:19', '7A:86:20:3F:05:73'), ('44:E9:DD:F1:C7:19', '70:BC:10:C2:16:AB'), ('44:E9:DD:F1:C7:19', '70:BC:10:D2:55:33'), ('44:E9:DD:F1:C7:19', '30:F7:72:58:95:61'), ('44:E9:DD:F1:C7:19', '44:E9:DD:F1:C7:12'), ('44:E9:DD:F1:C7:19', '22:23:F6:E6:EA:BA'), ('44:E9:DD:F1:C7:19', 'DC:4A:3E:B9:02:0A'), ('44:E9:DD:F1:C7:19', '30:19:66:FD:70:31'), ('44:E9:DD:F1:C7:19', '4C:57:CA:D4:A9:80'), ('44:E9:DD:F1:C7:19', 'F8:B4:6A:C9:75:9D'), ('44:E9:DD:F1:C7:19', '7C:D9:5C:28:AA:E8'), ('44:E9:DD:F1:C7:19', '00:03:7F:2D:E2:89'), ('44:E9:DD:F1:C7:19', '6A:F4:51:A6:25:41'), ('44:E9:DD:F1:C7:19', 'A8:10:87:53:01:62'), ('44:E9:DD:F1:C7:19', '00:0C:43:00:48:24'), ('44:E9:DD:F1:C7:19', '64:CC:22:9A:65:CD'), ('44:E9:DD:F1:C7:19', '00:25:92:25:E4:2E'), ('44:E9:DD:F1:C7:19', '04:69:F8:56:E6:B7'), ('44:E9:DD:F1:C7:19', '90:4D:4A:27:47:4C'), ('44:E9:DD:F1:C7:19', '34:79:16:20:A6:1C'), ('44:E9:DD:F1:C7:19', 'EC:F4:51:BF:46:CE'), ('44:E9:DD:F1:C7:19', 'E4:F0:42:65:6C:13'), ('44:E9:DD:F1:C7:19', '58:82:A8:11:4D:86'), ('44:E9:DD:F1:C7:19', '04:A2:22:09:B1:19'), ('44:E9:DD:F1:C7:19', '04:69:F8:6C:18:7F'), ('44:E9:DD:F1:C7:19', '90:72:82:87:C8:76'), ('44:E9:DD:F1:C7:19', 'F8:2D:7C:56:04:B5'), ('44:E9:DD:F1:C7:19', 'B0:35:B5:AE:2E:76'), ('F0:86:20:3F:05:75', 'CA:3A:6B:34:31:2F'), ('F0:86:20:3F:05:75', '92:72:82:87:C8:7F'), ('F0:86:20:3F:05:75', '44:E9:DD:F1:C7:17'), ('F0:86:20:3F:05:75', '44:E9:DD:5E:6E:07'), ('F0:86:20:3F:05:75', '44:E9:DD:5E:6E:05'), ('F0:86:20:3F:05:75', 'B2:72:82:87:C8:7F'), ('F0:86:20:3F:05:75', '90:72:82:87:C8:7F'), ('F0:86:20:3F:05:75', 'B8:EE:0E:4E:FB:8E'), ('F0:86:20:3F:05:75', '90:4D:4A:50:AE:61'), ('F0:86:20:3F:05:75', '64:CC:22:9A:65:D0'), ('F0:86:20:3F:05:75', '62:CC:22:9A:65:D4'), ('F0:86:20:3F:05:75', 'EC:F4:51:A6:25:40'), ('F0:86:20:3F:05:75', '30:FD:38:AC:F7:37'), ('F0:86:20:3F:05:75', 'AC:3B:77:14:D4:40'), ('F0:86:20:3F:05:75', 'AE:3B:77:14:D6:41'), ('F0:86:20:3F:05:75', 'C0:3E:0F:11:0F:4F'), ('F0:86:20:3F:05:75', '20:47:ED:A8:22:B2'), ('F0:86:20:3F:05:75', '98:D8:63:A7:C5:04'), ('F0:86:20:3F:05:75', 'B0:19:C6:AD:9C:2D'), ('F0:86:20:3F:05:75', 'BC:CF:4F:7F:DD:6C'), ('F0:86:20:3F:05:75', 'C8:3A:35:F3:FB:F8'), ('F0:86:20:3F:05:75', 'E0:48:AF:01:8C:DB'), ('F0:86:20:3F:05:75', 'E2:48:AF:01:0C:A7'), ('F0:86:20:3F:05:75', '88:DE:A9:83:E4:E7'), ('F0:86:20:3F:05:75', '04:A2:22:09:B1:1C'), ('F0:86:20:3F:05:75', 'DA:31:34:3F:4C:CA'), ('F0:86:20:3F:05:75', '50:DC:E7:1D:70:32'), ('F0:86:20:3F:05:75', 'A4:91:B1:8B:3C:98'), ('F0:86:20:3F:05:75', '8C:3B:AD:BA:BA:E9'), ('F0:86:20:3F:05:75', '1C:74:0D:5A:03:B0'), ('F0:86:20:3F:05:75', 'C0:3E:0F:11:1D:AA'), ('F0:86:20:3F:05:75', '30:57:14:E0:02:B1'), ('F0:86:20:3F:05:75', '10:94:BB:24:63:2F'), ('F0:86:20:3F:05:75', '88:DE:A9:83:E4:E9'), ('F0:86:20:3F:05:75', '38:A6:CE:14:0A:50'), ('F0:86:20:3F:05:75', 'A4:91:B1:8B:3C:97'), ('F0:86:20:3F:05:75', 'C8:3A:6B:34:31:2F'), ('F0:86:20:3F:05:75', '44:E9:DD:F1:C7:14'), ('F0:86:20:3F:05:75', 'F0:86:20:3F:05:77'), ('F0:86:20:3F:05:75', '7A:86:20:3F:05:70'), ('F0:86:20:3F:05:75', 'D8:31:34:3F:4C:CA'), ('F0:86:20:3F:05:75', 'B2:72:82:7F:AB:F2'), ('F0:86:20:3F:05:75', '04:A2:22:09:B1:1A'), ('F0:86:20:3F:05:75', 'D2:AC:7E:21:50:32'), ('F0:86:20:3F:05:75', '7A:86:20:3F:05:71'), ('F0:86:20:3F:05:75', '44:E9:DD:5E:6E:00'), ('F0:86:20:3F:05:75', '24:4C:E3:48:51:C1'), ('F0:86:20:3F:05:75', '62:A2:22:09:B1:18'), ('F0:86:20:3F:05:75', '38:A6:CE:14:0A:52'), ('F0:86:20:3F:05:75', 'E0:48:AF:01:0C:A7'), ('F0:86:20:3F:05:75', 'D2:2C:7E:0B:1B:32'), ('F0:86:20:3F:05:75', '20:47:ED:9E:A6:12'), ('F0:86:20:3F:05:75', '48:D7:05:E5:66:AD'), ('F0:86:20:3F:05:75', '78:67:D7:1D:80:02'), ('F0:86:20:3F:05:75', '28:28:5D:A6:75:D8'), ('F0:86:20:3F:05:75', '10:30:25:11:0B:46'), ('F0:86:20:3F:05:75', 'AC:3B:77:14:D4:3D'), ('F0:86:20:3F:05:75', 'F4:63:1F:93:89:CB'), ('F0:86:20:3F:05:75', '00:11:32:7A:25:3D'), ('F0:86:20:3F:05:75', '60:7E:DD:FD:43:EC'), ('F0:86:20:3F:05:75', '3C:AB:8E:44:0D:66'), ('F0:86:20:3F:05:75', '68:47:49:26:4F:9C'), ('F0:86:20:3F:05:75', '90:72:82:7F:AB:F2'), ('F0:86:20:3F:05:75', '92:72:82:7F:AB:F2'), ('F0:86:20:3F:05:75', '90:4D:4A:50:AE:60'), ('F0:86:20:3F:05:75', '7A:86:20:3F:05:73'), ('F0:86:20:3F:05:75', '70:BC:10:C2:16:AB'), ('F0:86:20:3F:05:75', '70:BC:10:D2:55:33'), ('F0:86:20:3F:05:75', '30:F7:72:58:95:61'), ('F0:86:20:3F:05:75', '44:E9:DD:F1:C7:12'), ('F0:86:20:3F:05:75', '22:23:F6:E6:EA:BA'), ('F0:86:20:3F:05:75', 'DC:4A:3E:B9:02:0A'), ('F0:86:20:3F:05:75', '30:19:66:FD:70:31'), ('F0:86:20:3F:05:75', '4C:57:CA:D4:A9:80'), ('F0:86:20:3F:05:75', 'F8:B4:6A:C9:75:9D'), ('F0:86:20:3F:05:75', '7C:D9:5C:28:AA:E8'), ('F0:86:20:3F:05:75', '00:03:7F:2D:E2:89'), ('F0:86:20:3F:05:75', '6A:F4:51:A6:25:41'), ('F0:86:20:3F:05:75', 'A8:10:87:53:01:62'), ('F0:86:20:3F:05:75', '00:0C:43:00:48:24'), ('F0:86:20:3F:05:75', '64:CC:22:9A:65:CD'), ('F0:86:20:3F:05:75', '00:25:92:25:E4:2E'), ('F0:86:20:3F:05:75', '04:69:F8:56:E6:B7'), ('F0:86:20:3F:05:75', '90:4D:4A:27:47:4C'), ('F0:86:20:3F:05:75', '34:79:16:20:A6:1C'), ('F0:86:20:3F:05:75', 'EC:F4:51:BF:46:CE'), ('F0:86:20:3F:05:75', 'E4:F0:42:65:6C:13'), ('F0:86:20:3F:05:75', '58:82:A8:11:4D:86'), ('F0:86:20:3F:05:75', '04:A2:22:09:B1:19'), ('CA:3A:6B:34:31:2F', '92:72:82:87:C8:7F'), ('CA:3A:6B:34:31:2F', '44:E9:DD:F1:C7:17'), ('CA:3A:6B:34:31:2F', '44:E9:DD:5E:6E:07'), ('CA:3A:6B:34:31:2F', '44:E9:DD:5E:6E:05'), ('CA:3A:6B:34:31:2F', 'B2:72:82:87:C8:7F'), ('CA:3A:6B:34:31:2F', '90:72:82:87:C8:7F'), ('CA:3A:6B:34:31:2F', 'B8:EE:0E:4E:FB:8E'), ('CA:3A:6B:34:31:2F', '90:4D:4A:50:AE:61'), ('CA:3A:6B:34:31:2F', '64:CC:22:9A:65:D0'), ('CA:3A:6B:34:31:2F', '62:CC:22:9A:65:D4'), ('CA:3A:6B:34:31:2F', 'EC:F4:51:A6:25:40'), ('CA:3A:6B:34:31:2F', '30:FD:38:AC:F7:37'), ('CA:3A:6B:34:31:2F', 'AC:3B:77:14:D4:40'), ('CA:3A:6B:34:31:2F', 'AE:3B:77:14:D6:41'), ('CA:3A:6B:34:31:2F', 'C0:3E:0F:11:0F:4F'), ('CA:3A:6B:34:31:2F', '20:47:ED:A8:22:B2'), ('CA:3A:6B:34:31:2F', '98:D8:63:A7:C5:04'), ('CA:3A:6B:34:31:2F', 'B0:19:C6:AD:9C:2D'), ('CA:3A:6B:34:31:2F', 'BC:CF:4F:7F:DD:6C'), ('CA:3A:6B:34:31:2F', 'C8:3A:35:F3:FB:F8'), ('CA:3A:6B:34:31:2F', 'E0:48:AF:01:8C:DB'), ('CA:3A:6B:34:31:2F', 'E2:48:AF:01:0C:A7'), ('CA:3A:6B:34:31:2F', '88:DE:A9:83:E4:E7'), ('CA:3A:6B:34:31:2F', '04:A2:22:09:B1:1C'), ('CA:3A:6B:34:31:2F', 'DA:31:34:3F:4C:CA'), ('CA:3A:6B:34:31:2F', '50:DC:E7:1D:70:32'), ('CA:3A:6B:34:31:2F', 'A4:91:B1:8B:3C:98'), ('CA:3A:6B:34:31:2F', '8C:3B:AD:BA:BA:E9'), ('CA:3A:6B:34:31:2F', '1C:74:0D:5A:03:B0'), ('CA:3A:6B:34:31:2F', 'C0:3E:0F:11:1D:AA'), ('CA:3A:6B:34:31:2F', '30:57:14:E0:02:B1'), ('CA:3A:6B:34:31:2F', '10:94:BB:24:63:2F'), ('CA:3A:6B:34:31:2F', '88:DE:A9:83:E4:E9'), ('CA:3A:6B:34:31:2F', '38:A6:CE:14:0A:50'), ('CA:3A:6B:34:31:2F', 'A4:91:B1:8B:3C:97'), ('CA:3A:6B:34:31:2F', 'C8:3A:6B:34:31:2F'), ('CA:3A:6B:34:31:2F', '44:E9:DD:F1:C7:14'), ('CA:3A:6B:34:31:2F', 'F0:86:20:3F:05:77'), ('CA:3A:6B:34:31:2F', '7A:86:20:3F:05:70'), ('CA:3A:6B:34:31:2F', 'D8:31:34:3F:4C:CA'), ('CA:3A:6B:34:31:2F', 'B2:72:82:7F:AB:F2'), ('CA:3A:6B:34:31:2F', '04:A2:22:09:B1:1A'), ('CA:3A:6B:34:31:2F', 'D2:AC:7E:21:50:32'), ('CA:3A:6B:34:31:2F', '7A:86:20:3F:05:71'), ('CA:3A:6B:34:31:2F', '44:E9:DD:5E:6E:00'), ('CA:3A:6B:34:31:2F', '24:4C:E3:48:51:C1'), ('CA:3A:6B:34:31:2F', '62:A2:22:09:B1:18'), ('CA:3A:6B:34:31:2F', '38:A6:CE:14:0A:52'), ('CA:3A:6B:34:31:2F', 'E0:48:AF:01:0C:A7'), ('CA:3A:6B:34:31:2F', 'D2:2C:7E:0B:1B:32'), ('CA:3A:6B:34:31:2F', '20:47:ED:9E:A6:12'), ('CA:3A:6B:34:31:2F', '48:D7:05:E5:66:AD'), ('CA:3A:6B:34:31:2F', '78:67:D7:1D:80:02'), ('CA:3A:6B:34:31:2F', '28:28:5D:A6:75:D8'), ('CA:3A:6B:34:31:2F', '10:30:25:11:0B:46'), ('CA:3A:6B:34:31:2F', 'AC:3B:77:14:D4:3D'), ('CA:3A:6B:34:31:2F', 'F4:63:1F:93:89:CB'), ('CA:3A:6B:34:31:2F', '00:11:32:7A:25:3D'), ('CA:3A:6B:34:31:2F', '60:7E:DD:FD:43:EC'), ('CA:3A:6B:34:31:2F', '3C:AB:8E:44:0D:66'), ('CA:3A:6B:34:31:2F', '68:47:49:26:4F:9C'), ('CA:3A:6B:34:31:2F', '90:72:82:7F:AB:F2'), ('CA:3A:6B:34:31:2F', '92:72:82:7F:AB:F2'), ('CA:3A:6B:34:31:2F', '90:4D:4A:50:AE:60'), ('CA:3A:6B:34:31:2F', '7A:86:20:3F:05:73'), ('CA:3A:6B:34:31:2F', '70:BC:10:C2:16:AB'), ('CA:3A:6B:34:31:2F', '70:BC:10:D2:55:33'), ('CA:3A:6B:34:31:2F', '30:F7:72:58:95:61'), ('CA:3A:6B:34:31:2F', '44:E9:DD:F1:C7:12'), ('CA:3A:6B:34:31:2F', '22:23:F6:E6:EA:BA'), ('CA:3A:6B:34:31:2F', 'DC:4A:3E:B9:02:0A'), ('CA:3A:6B:34:31:2F', '30:19:66:FD:70:31'), ('CA:3A:6B:34:31:2F', '4C:57:CA:D4:A9:80'), ('CA:3A:6B:34:31:2F', 'F8:B4:6A:C9:75:9D'), ('CA:3A:6B:34:31:2F', '7C:D9:5C:28:AA:E8'), ('CA:3A:6B:34:31:2F', '00:03:7F:2D:E2:89'), ('CA:3A:6B:34:31:2F', '6A:F4:51:A6:25:41'), ('CA:3A:6B:34:31:2F', 'A8:10:87:53:01:62'), ('CA:3A:6B:34:31:2F', '00:0C:43:00:48:24'), ('CA:3A:6B:34:31:2F', '64:CC:22:9A:65:CD'), ('CA:3A:6B:34:31:2F', '00:25:92:25:E4:2E'), ('CA:3A:6B:34:31:2F', '04:69:F8:56:E6:B7'), ('CA:3A:6B:34:31:2F', '90:4D:4A:27:47:4C'), ('CA:3A:6B:34:31:2F', '34:79:16:20:A6:1C'), ('CA:3A:6B:34:31:2F', 'EC:F4:51:BF:46:CE'), ('CA:3A:6B:34:31:2F', 'E4:F0:42:65:6C:13'), ('CA:3A:6B:34:31:2F', '58:82:A8:11:4D:86'), ('CA:3A:6B:34:31:2F', '04:A2:22:09:B1:19'), ('CA:3A:6B:34:31:2F', '04:69:F8:6C:18:7F'), ('CA:3A:6B:34:31:2F', '90:72:82:87:C8:76'), ('CA:3A:6B:34:31:2F', 'F8:2D:7C:56:04:B5'), ('CA:3A:6B:34:31:2F', 'B0:35:B5:AE:2E:76'), ('CA:3A:6B:34:31:2F', 'B8:EE:0E:4E:FB:8D'), ('92:72:82:87:C8:7F', '44:E9:DD:F1:C7:17'), ('92:72:82:87:C8:7F', '44:E9:DD:5E:6E:07'), ('92:72:82:87:C8:7F', '44:E9:DD:5E:6E:05'), ('92:72:82:87:C8:7F', 'B2:72:82:87:C8:7F'), ('92:72:82:87:C8:7F', '90:72:82:87:C8:7F'), ('92:72:82:87:C8:7F', 'B8:EE:0E:4E:FB:8E'), ('92:72:82:87:C8:7F', '90:4D:4A:50:AE:61'), ('92:72:82:87:C8:7F', '64:CC:22:9A:65:D0'), ('92:72:82:87:C8:7F', '62:CC:22:9A:65:D4'), ('92:72:82:87:C8:7F', 'EC:F4:51:A6:25:40'), ('92:72:82:87:C8:7F', '30:FD:38:AC:F7:37'), ('92:72:82:87:C8:7F', 'AC:3B:77:14:D4:40'), ('92:72:82:87:C8:7F', 'AE:3B:77:14:D6:41'), ('92:72:82:87:C8:7F', 'C0:3E:0F:11:0F:4F'), ('92:72:82:87:C8:7F', '20:47:ED:A8:22:B2'), ('92:72:82:87:C8:7F', '98:D8:63:A7:C5:04'), ('92:72:82:87:C8:7F', 'B0:19:C6:AD:9C:2D'), ('92:72:82:87:C8:7F', 'BC:CF:4F:7F:DD:6C'), ('92:72:82:87:C8:7F', 'C8:3A:35:F3:FB:F8'), ('92:72:82:87:C8:7F', 'E0:48:AF:01:8C:DB'), ('92:72:82:87:C8:7F', 'E2:48:AF:01:0C:A7'), ('92:72:82:87:C8:7F', '88:DE:A9:83:E4:E7'), ('92:72:82:87:C8:7F', '04:A2:22:09:B1:1C'), ('92:72:82:87:C8:7F', 'DA:31:34:3F:4C:CA'), ('92:72:82:87:C8:7F', '50:DC:E7:1D:70:32'), ('92:72:82:87:C8:7F', 'A4:91:B1:8B:3C:98'), ('92:72:82:87:C8:7F', '8C:3B:AD:BA:BA:E9'), ('92:72:82:87:C8:7F', '1C:74:0D:5A:03:B0'), ('92:72:82:87:C8:7F', 'C0:3E:0F:11:1D:AA'), ('92:72:82:87:C8:7F', '30:57:14:E0:02:B1'), ('92:72:82:87:C8:7F', '10:94:BB:24:63:2F'), ('92:72:82:87:C8:7F', '88:DE:A9:83:E4:E9'), ('92:72:82:87:C8:7F', '38:A6:CE:14:0A:50'), ('92:72:82:87:C8:7F', 'A4:91:B1:8B:3C:97'), ('92:72:82:87:C8:7F', 'C8:3A:6B:34:31:2F'), ('92:72:82:87:C8:7F', '44:E9:DD:F1:C7:14'), ('92:72:82:87:C8:7F', 'F0:86:20:3F:05:77'), ('92:72:82:87:C8:7F', '7A:86:20:3F:05:70'), ('92:72:82:87:C8:7F', 'D8:31:34:3F:4C:CA'), ('92:72:82:87:C8:7F', 'B2:72:82:7F:AB:F2'), ('92:72:82:87:C8:7F', '04:A2:22:09:B1:1A'), ('92:72:82:87:C8:7F', 'D2:AC:7E:21:50:32'), ('92:72:82:87:C8:7F', '7A:86:20:3F:05:71'), ('92:72:82:87:C8:7F', '44:E9:DD:5E:6E:00'), ('92:72:82:87:C8:7F', '24:4C:E3:48:51:C1'), ('92:72:82:87:C8:7F', '62:A2:22:09:B1:18'), ('92:72:82:87:C8:7F', '38:A6:CE:14:0A:52'), ('92:72:82:87:C8:7F', 'E0:48:AF:01:0C:A7'), ('92:72:82:87:C8:7F', 'D2:2C:7E:0B:1B:32'), ('92:72:82:87:C8:7F', '20:47:ED:9E:A6:12'), ('92:72:82:87:C8:7F', '48:D7:05:E5:66:AD'), ('92:72:82:87:C8:7F', '78:67:D7:1D:80:02'), ('92:72:82:87:C8:7F', '28:28:5D:A6:75:D8'), ('92:72:82:87:C8:7F', '10:30:25:11:0B:46'), ('92:72:82:87:C8:7F', 'AC:3B:77:14:D4:3D'), ('92:72:82:87:C8:7F', 'F4:63:1F:93:89:CB'), ('92:72:82:87:C8:7F', '00:11:32:7A:25:3D'), ('92:72:82:87:C8:7F', '60:7E:DD:FD:43:EC'), ('92:72:82:87:C8:7F', '3C:AB:8E:44:0D:66'), ('92:72:82:87:C8:7F', '68:47:49:26:4F:9C'), ('92:72:82:87:C8:7F', '90:72:82:7F:AB:F2'), ('92:72:82:87:C8:7F', '92:72:82:7F:AB:F2'), ('92:72:82:87:C8:7F', '90:4D:4A:50:AE:60'), ('92:72:82:87:C8:7F', '7A:86:20:3F:05:73'), ('92:72:82:87:C8:7F', '70:BC:10:C2:16:AB'), ('92:72:82:87:C8:7F', '70:BC:10:D2:55:33'), ('92:72:82:87:C8:7F', '30:F7:72:58:95:61'), ('92:72:82:87:C8:7F', '44:E9:DD:F1:C7:12'), ('92:72:82:87:C8:7F', '22:23:F6:E6:EA:BA'), ('92:72:82:87:C8:7F', 'DC:4A:3E:B9:02:0A'), ('92:72:82:87:C8:7F', '30:19:66:FD:70:31'), ('92:72:82:87:C8:7F', '4C:57:CA:D4:A9:80'), ('92:72:82:87:C8:7F', 'F8:B4:6A:C9:75:9D'), ('92:72:82:87:C8:7F', '7C:D9:5C:28:AA:E8'), ('92:72:82:87:C8:7F', '00:03:7F:2D:E2:89'), ('92:72:82:87:C8:7F', '6A:F4:51:A6:25:41'), ('92:72:82:87:C8:7F', 'A8:10:87:53:01:62'), ('92:72:82:87:C8:7F', '00:0C:43:00:48:24'), ('92:72:82:87:C8:7F', '64:CC:22:9A:65:CD'), ('92:72:82:87:C8:7F', '00:25:92:25:E4:2E'), ('92:72:82:87:C8:7F', '04:69:F8:56:E6:B7'), ('92:72:82:87:C8:7F', '90:4D:4A:27:47:4C'), ('92:72:82:87:C8:7F', '34:79:16:20:A6:1C'), ('92:72:82:87:C8:7F', 'EC:F4:51:BF:46:CE'), ('92:72:82:87:C8:7F', 'E4:F0:42:65:6C:13'), ('92:72:82:87:C8:7F', '58:82:A8:11:4D:86'), ('92:72:82:87:C8:7F', '04:A2:22:09:B1:19'), ('92:72:82:87:C8:7F', '04:69:F8:6C:18:7F'), ('92:72:82:87:C8:7F', '90:72:82:87:C8:76'), ('92:72:82:87:C8:7F', 'F8:2D:7C:56:04:B5'), ('92:72:82:87:C8:7F', 'B0:35:B5:AE:2E:76'), ('44:E9:DD:F1:C7:17', '44:E9:DD:5E:6E:07'), ('44:E9:DD:F1:C7:17', '44:E9:DD:5E:6E:05'), ('44:E9:DD:F1:C7:17', 'B2:72:82:87:C8:7F'), ('44:E9:DD:F1:C7:17', '90:72:82:87:C8:7F'), ('44:E9:DD:F1:C7:17', 'B8:EE:0E:4E:FB:8E'), ('44:E9:DD:F1:C7:17', '90:4D:4A:50:AE:61'), ('44:E9:DD:F1:C7:17', '64:CC:22:9A:65:D0'), ('44:E9:DD:F1:C7:17', '62:CC:22:9A:65:D4'), ('44:E9:DD:F1:C7:17', 'EC:F4:51:A6:25:40'), ('44:E9:DD:F1:C7:17', '30:FD:38:AC:F7:37'), ('44:E9:DD:F1:C7:17', 'AC:3B:77:14:D4:40'), ('44:E9:DD:F1:C7:17', 'AE:3B:77:14:D6:41'), ('44:E9:DD:F1:C7:17', 'C0:3E:0F:11:0F:4F'), ('44:E9:DD:F1:C7:17', '20:47:ED:A8:22:B2'), ('44:E9:DD:F1:C7:17', '98:D8:63:A7:C5:04'), ('44:E9:DD:F1:C7:17', 'B0:19:C6:AD:9C:2D'), ('44:E9:DD:F1:C7:17', 'BC:CF:4F:7F:DD:6C'), ('44:E9:DD:F1:C7:17', 'C8:3A:35:F3:FB:F8'), ('44:E9:DD:F1:C7:17', 'E0:48:AF:01:8C:DB'), ('44:E9:DD:F1:C7:17', 'E2:48:AF:01:0C:A7'), ('44:E9:DD:F1:C7:17', '88:DE:A9:83:E4:E7'), ('44:E9:DD:F1:C7:17', '04:A2:22:09:B1:1C'), ('44:E9:DD:F1:C7:17', 'DA:31:34:3F:4C:CA'), ('44:E9:DD:F1:C7:17', '50:DC:E7:1D:70:32'), ('44:E9:DD:F1:C7:17', 'A4:91:B1:8B:3C:98'), ('44:E9:DD:F1:C7:17', '8C:3B:AD:BA:BA:E9'), ('44:E9:DD:F1:C7:17', '1C:74:0D:5A:03:B0'), ('44:E9:DD:F1:C7:17', 'C0:3E:0F:11:1D:AA'), ('44:E9:DD:F1:C7:17', '30:57:14:E0:02:B1'), ('44:E9:DD:F1:C7:17', '10:94:BB:24:63:2F'), ('44:E9:DD:F1:C7:17', '88:DE:A9:83:E4:E9'), ('44:E9:DD:F1:C7:17', '38:A6:CE:14:0A:50'), ('44:E9:DD:F1:C7:17', 'A4:91:B1:8B:3C:97'), ('44:E9:DD:F1:C7:17', 'C8:3A:6B:34:31:2F'), ('44:E9:DD:F1:C7:17', '44:E9:DD:F1:C7:14'), ('44:E9:DD:F1:C7:17', 'F0:86:20:3F:05:77'), ('44:E9:DD:F1:C7:17', '7A:86:20:3F:05:70'), ('44:E9:DD:F1:C7:17', 'D8:31:34:3F:4C:CA'), ('44:E9:DD:F1:C7:17', 'B2:72:82:7F:AB:F2'), ('44:E9:DD:F1:C7:17', '04:A2:22:09:B1:1A'), ('44:E9:DD:F1:C7:17', 'D2:AC:7E:21:50:32'), ('44:E9:DD:F1:C7:17', '7A:86:20:3F:05:71'), ('44:E9:DD:F1:C7:17', '44:E9:DD:5E:6E:00'), ('44:E9:DD:F1:C7:17', '24:4C:E3:48:51:C1'), ('44:E9:DD:F1:C7:17', '62:A2:22:09:B1:18'), ('44:E9:DD:F1:C7:17', '38:A6:CE:14:0A:52'), ('44:E9:DD:F1:C7:17', 'E0:48:AF:01:0C:A7'), ('44:E9:DD:F1:C7:17', 'D2:2C:7E:0B:1B:32'), ('44:E9:DD:F1:C7:17', '20:47:ED:9E:A6:12'), ('44:E9:DD:F1:C7:17', '48:D7:05:E5:66:AD'), ('44:E9:DD:F1:C7:17', '78:67:D7:1D:80:02'), ('44:E9:DD:F1:C7:17', '28:28:5D:A6:75:D8'), ('44:E9:DD:F1:C7:17', '10:30:25:11:0B:46'), ('44:E9:DD:F1:C7:17', 'AC:3B:77:14:D4:3D'), ('44:E9:DD:F1:C7:17', 'F4:63:1F:93:89:CB'), ('44:E9:DD:F1:C7:17', '00:11:32:7A:25:3D'), ('44:E9:DD:F1:C7:17', '60:7E:DD:FD:43:EC'), ('44:E9:DD:F1:C7:17', '3C:AB:8E:44:0D:66'), ('44:E9:DD:F1:C7:17', '68:47:49:26:4F:9C'), ('44:E9:DD:F1:C7:17', '90:72:82:7F:AB:F2'), ('44:E9:DD:F1:C7:17', '92:72:82:7F:AB:F2'), ('44:E9:DD:F1:C7:17', '90:4D:4A:50:AE:60'), ('44:E9:DD:F1:C7:17', '7A:86:20:3F:05:73'), ('44:E9:DD:F1:C7:17', '70:BC:10:C2:16:AB'), ('44:E9:DD:F1:C7:17', '70:BC:10:D2:55:33'), ('44:E9:DD:F1:C7:17', '30:F7:72:58:95:61'), ('44:E9:DD:F1:C7:17', '44:E9:DD:F1:C7:12'), ('44:E9:DD:F1:C7:17', '22:23:F6:E6:EA:BA'), ('44:E9:DD:F1:C7:17', 'DC:4A:3E:B9:02:0A'), ('44:E9:DD:F1:C7:17', '30:19:66:FD:70:31'), ('44:E9:DD:F1:C7:17', '4C:57:CA:D4:A9:80'), ('44:E9:DD:F1:C7:17', 'F8:B4:6A:C9:75:9D'), ('44:E9:DD:F1:C7:17', '7C:D9:5C:28:AA:E8'), ('44:E9:DD:F1:C7:17', '00:03:7F:2D:E2:89'), ('44:E9:DD:F1:C7:17', '6A:F4:51:A6:25:41'), ('44:E9:DD:F1:C7:17', 'A8:10:87:53:01:62'), ('44:E9:DD:F1:C7:17', '00:0C:43:00:48:24'), ('44:E9:DD:F1:C7:17', '64:CC:22:9A:65:CD'), ('44:E9:DD:F1:C7:17', '00:25:92:25:E4:2E'), ('44:E9:DD:F1:C7:17', '04:69:F8:56:E6:B7'), ('44:E9:DD:F1:C7:17', '90:4D:4A:27:47:4C'), ('44:E9:DD:F1:C7:17', '34:79:16:20:A6:1C'), ('44:E9:DD:F1:C7:17', 'EC:F4:51:BF:46:CE'), ('44:E9:DD:F1:C7:17', 'E4:F0:42:65:6C:13'), ('44:E9:DD:F1:C7:17', '58:82:A8:11:4D:86'), ('44:E9:DD:F1:C7:17', '04:A2:22:09:B1:19'), ('44:E9:DD:F1:C7:17', '04:69:F8:6C:18:7F'), ('44:E9:DD:F1:C7:17', '90:72:82:87:C8:76'), ('44:E9:DD:F1:C7:17', 'F8:2D:7C:56:04:B5'), ('44:E9:DD:F1:C7:17', 'B0:35:B5:AE:2E:76'), ('44:E9:DD:F1:C7:17', 'B8:EE:0E:4E:FB:8D'), ('44:E9:DD:5E:6E:07', '44:E9:DD:5E:6E:05'), ('44:E9:DD:5E:6E:07', 'B2:72:82:87:C8:7F'), ('44:E9:DD:5E:6E:07', '90:72:82:87:C8:7F'), ('44:E9:DD:5E:6E:07', 'B8:EE:0E:4E:FB:8E'), ('44:E9:DD:5E:6E:07', '90:4D:4A:50:AE:61'), ('44:E9:DD:5E:6E:07', '64:CC:22:9A:65:D0'), ('44:E9:DD:5E:6E:07', '62:CC:22:9A:65:D4'), ('44:E9:DD:5E:6E:07', 'EC:F4:51:A6:25:40'), ('44:E9:DD:5E:6E:07', '30:FD:38:AC:F7:37'), ('44:E9:DD:5E:6E:07', 'AC:3B:77:14:D4:40'), ('44:E9:DD:5E:6E:07', 'AE:3B:77:14:D6:41'), ('44:E9:DD:5E:6E:07', 'C0:3E:0F:11:0F:4F'), ('44:E9:DD:5E:6E:07', '20:47:ED:A8:22:B2'), ('44:E9:DD:5E:6E:07', '98:D8:63:A7:C5:04'), ('44:E9:DD:5E:6E:07', 'B0:19:C6:AD:9C:2D'), ('44:E9:DD:5E:6E:07', 'BC:CF:4F:7F:DD:6C'), ('44:E9:DD:5E:6E:07', 'C8:3A:35:F3:FB:F8'), ('44:E9:DD:5E:6E:07', 'E0:48:AF:01:8C:DB'), ('44:E9:DD:5E:6E:07', 'E2:48:AF:01:0C:A7'), ('44:E9:DD:5E:6E:07', '88:DE:A9:83:E4:E7'), ('44:E9:DD:5E:6E:07', '04:A2:22:09:B1:1C'), ('44:E9:DD:5E:6E:07', 'DA:31:34:3F:4C:CA'), ('44:E9:DD:5E:6E:07', '50:DC:E7:1D:70:32'), ('44:E9:DD:5E:6E:07', 'A4:91:B1:8B:3C:98'), ('44:E9:DD:5E:6E:07', '8C:3B:AD:BA:BA:E9'), ('44:E9:DD:5E:6E:07', '1C:74:0D:5A:03:B0'), ('44:E9:DD:5E:6E:07', 'C0:3E:0F:11:1D:AA'), ('44:E9:DD:5E:6E:07', '30:57:14:E0:02:B1'), ('44:E9:DD:5E:6E:07', '10:94:BB:24:63:2F'), ('44:E9:DD:5E:6E:07', '88:DE:A9:83:E4:E9'), ('44:E9:DD:5E:6E:07', '38:A6:CE:14:0A:50'), ('44:E9:DD:5E:6E:07', 'A4:91:B1:8B:3C:97'), ('44:E9:DD:5E:6E:07', 'C8:3A:6B:34:31:2F'), ('44:E9:DD:5E:6E:07', '44:E9:DD:F1:C7:14'), ('44:E9:DD:5E:6E:07', 'F0:86:20:3F:05:77'), ('44:E9:DD:5E:6E:07', '7A:86:20:3F:05:70'), ('44:E9:DD:5E:6E:07', 'D8:31:34:3F:4C:CA'), ('44:E9:DD:5E:6E:07', 'B2:72:82:7F:AB:F2'), ('44:E9:DD:5E:6E:07', '04:A2:22:09:B1:1A'), ('44:E9:DD:5E:6E:07', 'D2:AC:7E:21:50:32'), ('44:E9:DD:5E:6E:07', '7A:86:20:3F:05:71'), ('44:E9:DD:5E:6E:07', '44:E9:DD:5E:6E:00'), ('44:E9:DD:5E:6E:07', '24:4C:E3:48:51:C1'), ('44:E9:DD:5E:6E:07', '62:A2:22:09:B1:18'), ('44:E9:DD:5E:6E:07', '38:A6:CE:14:0A:52'), ('44:E9:DD:5E:6E:07', 'E0:48:AF:01:0C:A7'), ('44:E9:DD:5E:6E:07', 'D2:2C:7E:0B:1B:32'), ('44:E9:DD:5E:6E:07', '20:47:ED:9E:A6:12'), ('44:E9:DD:5E:6E:07', '48:D7:05:E5:66:AD'), ('44:E9:DD:5E:6E:07', '78:67:D7:1D:80:02'), ('44:E9:DD:5E:6E:07', '28:28:5D:A6:75:D8'), ('44:E9:DD:5E:6E:07', '10:30:25:11:0B:46'), ('44:E9:DD:5E:6E:07', 'AC:3B:77:14:D4:3D'), ('44:E9:DD:5E:6E:07', 'F4:63:1F:93:89:CB'), ('44:E9:DD:5E:6E:07', '00:11:32:7A:25:3D'), ('44:E9:DD:5E:6E:07', '60:7E:DD:FD:43:EC'), ('44:E9:DD:5E:6E:07', '3C:AB:8E:44:0D:66'), ('44:E9:DD:5E:6E:07', '68:47:49:26:4F:9C'), ('44:E9:DD:5E:6E:07', '90:72:82:7F:AB:F2'), ('44:E9:DD:5E:6E:07', '92:72:82:7F:AB:F2'), ('44:E9:DD:5E:6E:07', '90:4D:4A:50:AE:60'), ('44:E9:DD:5E:6E:07', '7A:86:20:3F:05:73'), ('44:E9:DD:5E:6E:07', '70:BC:10:C2:16:AB'), ('44:E9:DD:5E:6E:07', '70:BC:10:D2:55:33'), ('44:E9:DD:5E:6E:07', '30:F7:72:58:95:61'), ('44:E9:DD:5E:6E:07', '44:E9:DD:F1:C7:12'), ('44:E9:DD:5E:6E:07', '22:23:F6:E6:EA:BA'), ('44:E9:DD:5E:6E:07', 'DC:4A:3E:B9:02:0A'), ('44:E9:DD:5E:6E:07', '30:19:66:FD:70:31'), ('44:E9:DD:5E:6E:07', '4C:57:CA:D4:A9:80'), ('44:E9:DD:5E:6E:07', 'F8:B4:6A:C9:75:9D'), ('44:E9:DD:5E:6E:07', '7C:D9:5C:28:AA:E8'), ('44:E9:DD:5E:6E:07', '00:03:7F:2D:E2:89'), ('44:E9:DD:5E:6E:07', '6A:F4:51:A6:25:41'), ('44:E9:DD:5E:6E:07', 'A8:10:87:53:01:62'), ('44:E9:DD:5E:6E:07', '00:0C:43:00:48:24'), ('44:E9:DD:5E:6E:07', '64:CC:22:9A:65:CD'), ('44:E9:DD:5E:6E:07', '00:25:92:25:E4:2E'), ('44:E9:DD:5E:6E:07', '04:69:F8:56:E6:B7'), ('44:E9:DD:5E:6E:07', '90:4D:4A:27:47:4C'), ('44:E9:DD:5E:6E:07', '34:79:16:20:A6:1C'), ('44:E9:DD:5E:6E:07', 'EC:F4:51:BF:46:CE'), ('44:E9:DD:5E:6E:07', 'E4:F0:42:65:6C:13'), ('44:E9:DD:5E:6E:07', '58:82:A8:11:4D:86'), ('44:E9:DD:5E:6E:07', '04:A2:22:09:B1:19'), ('44:E9:DD:5E:6E:07', '04:69:F8:6C:18:7F'), ('44:E9:DD:5E:6E:07', '90:72:82:87:C8:76'), ('44:E9:DD:5E:6E:07', 'F8:2D:7C:56:04:B5'), ('44:E9:DD:5E:6E:07', 'B0:35:B5:AE:2E:76'), ('44:E9:DD:5E:6E:07', 'B8:EE:0E:4E:FB:8D'), ('44:E9:DD:5E:6E:05', 'B2:72:82:87:C8:7F'), ('44:E9:DD:5E:6E:05', '90:72:82:87:C8:7F'), ('44:E9:DD:5E:6E:05', 'B8:EE:0E:4E:FB:8E'), ('44:E9:DD:5E:6E:05', '90:4D:4A:50:AE:61'), ('44:E9:DD:5E:6E:05', '64:CC:22:9A:65:D0'), ('44:E9:DD:5E:6E:05', '62:CC:22:9A:65:D4'), ('44:E9:DD:5E:6E:05', 'EC:F4:51:A6:25:40'), ('44:E9:DD:5E:6E:05', '30:FD:38:AC:F7:37'), ('44:E9:DD:5E:6E:05', 'AC:3B:77:14:D4:40'), ('44:E9:DD:5E:6E:05', 'AE:3B:77:14:D6:41'), ('44:E9:DD:5E:6E:05', 'C0:3E:0F:11:0F:4F'), ('44:E9:DD:5E:6E:05', '20:47:ED:A8:22:B2'), ('44:E9:DD:5E:6E:05', '98:D8:63:A7:C5:04'), ('44:E9:DD:5E:6E:05', 'B0:19:C6:AD:9C:2D'), ('44:E9:DD:5E:6E:05', 'BC:CF:4F:7F:DD:6C'), ('44:E9:DD:5E:6E:05', 'C8:3A:35:F3:FB:F8'), ('44:E9:DD:5E:6E:05', 'E0:48:AF:01:8C:DB'), ('44:E9:DD:5E:6E:05', 'E2:48:AF:01:0C:A7'), ('44:E9:DD:5E:6E:05', '88:DE:A9:83:E4:E7'), ('44:E9:DD:5E:6E:05', '04:A2:22:09:B1:1C'), ('44:E9:DD:5E:6E:05', 'DA:31:34:3F:4C:CA'), ('44:E9:DD:5E:6E:05', '50:DC:E7:1D:70:32'), ('44:E9:DD:5E:6E:05', 'A4:91:B1:8B:3C:98'), ('44:E9:DD:5E:6E:05', '8C:3B:AD:BA:BA:E9'), ('44:E9:DD:5E:6E:05', '1C:74:0D:5A:03:B0'), ('44:E9:DD:5E:6E:05', 'C0:3E:0F:11:1D:AA'), ('44:E9:DD:5E:6E:05', '30:57:14:E0:02:B1'), ('44:E9:DD:5E:6E:05', '10:94:BB:24:63:2F'), ('44:E9:DD:5E:6E:05', '88:DE:A9:83:E4:E9'), ('44:E9:DD:5E:6E:05', '38:A6:CE:14:0A:50'), ('44:E9:DD:5E:6E:05', 'A4:91:B1:8B:3C:97'), ('44:E9:DD:5E:6E:05', 'C8:3A:6B:34:31:2F'), ('44:E9:DD:5E:6E:05', '44:E9:DD:F1:C7:14'), ('44:E9:DD:5E:6E:05', 'F0:86:20:3F:05:77'), ('44:E9:DD:5E:6E:05', '7A:86:20:3F:05:70'), ('44:E9:DD:5E:6E:05', 'D8:31:34:3F:4C:CA'), ('44:E9:DD:5E:6E:05', 'B2:72:82:7F:AB:F2'), ('44:E9:DD:5E:6E:05', '04:A2:22:09:B1:1A'), ('44:E9:DD:5E:6E:05', 'D2:AC:7E:21:50:32'), ('44:E9:DD:5E:6E:05', '7A:86:20:3F:05:71'), ('44:E9:DD:5E:6E:05', '44:E9:DD:5E:6E:00'), ('44:E9:DD:5E:6E:05', '24:4C:E3:48:51:C1'), ('44:E9:DD:5E:6E:05', '62:A2:22:09:B1:18'), ('44:E9:DD:5E:6E:05', '38:A6:CE:14:0A:52'), ('44:E9:DD:5E:6E:05', 'E0:48:AF:01:0C:A7'), ('44:E9:DD:5E:6E:05', 'D2:2C:7E:0B:1B:32'), ('44:E9:DD:5E:6E:05', '20:47:ED:9E:A6:12'), ('44:E9:DD:5E:6E:05', '48:D7:05:E5:66:AD'), ('44:E9:DD:5E:6E:05', '78:67:D7:1D:80:02'), ('44:E9:DD:5E:6E:05', '28:28:5D:A6:75:D8'), ('44:E9:DD:5E:6E:05', '10:30:25:11:0B:46'), ('44:E9:DD:5E:6E:05', 'AC:3B:77:14:D4:3D'), ('44:E9:DD:5E:6E:05', 'F4:63:1F:93:89:CB'), ('44:E9:DD:5E:6E:05', '00:11:32:7A:25:3D'), ('44:E9:DD:5E:6E:05', '60:7E:DD:FD:43:EC'), ('44:E9:DD:5E:6E:05', '3C:AB:8E:44:0D:66'), ('44:E9:DD:5E:6E:05', '68:47:49:26:4F:9C'), ('44:E9:DD:5E:6E:05', '90:72:82:7F:AB:F2'), ('44:E9:DD:5E:6E:05', '92:72:82:7F:AB:F2'), ('44:E9:DD:5E:6E:05', '90:4D:4A:50:AE:60'), ('44:E9:DD:5E:6E:05', '7A:86:20:3F:05:73'), ('44:E9:DD:5E:6E:05', '70:BC:10:C2:16:AB'), ('44:E9:DD:5E:6E:05', '70:BC:10:D2:55:33'), ('44:E9:DD:5E:6E:05', '30:F7:72:58:95:61'), ('44:E9:DD:5E:6E:05', '44:E9:DD:F1:C7:12'), ('44:E9:DD:5E:6E:05', '22:23:F6:E6:EA:BA'), ('44:E9:DD:5E:6E:05', 'DC:4A:3E:B9:02:0A'), ('44:E9:DD:5E:6E:05', '30:19:66:FD:70:31'), ('44:E9:DD:5E:6E:05', '4C:57:CA:D4:A9:80'), ('44:E9:DD:5E:6E:05', 'F8:B4:6A:C9:75:9D'), ('44:E9:DD:5E:6E:05', '7C:D9:5C:28:AA:E8'), ('44:E9:DD:5E:6E:05', '00:03:7F:2D:E2:89'), ('44:E9:DD:5E:6E:05', '6A:F4:51:A6:25:41'), ('44:E9:DD:5E:6E:05', 'A8:10:87:53:01:62'), ('44:E9:DD:5E:6E:05', '00:0C:43:00:48:24'), ('44:E9:DD:5E:6E:05', '64:CC:22:9A:65:CD'), ('44:E9:DD:5E:6E:05', '00:25:92:25:E4:2E'), ('44:E9:DD:5E:6E:05', '04:69:F8:56:E6:B7'), ('44:E9:DD:5E:6E:05', '90:4D:4A:27:47:4C'), ('44:E9:DD:5E:6E:05', '34:79:16:20:A6:1C'), ('44:E9:DD:5E:6E:05', 'EC:F4:51:BF:46:CE'), ('44:E9:DD:5E:6E:05', 'E4:F0:42:65:6C:13'), ('44:E9:DD:5E:6E:05', '58:82:A8:11:4D:86'), ('44:E9:DD:5E:6E:05', '04:A2:22:09:B1:19'), ('44:E9:DD:5E:6E:05', '04:69:F8:6C:18:7F'), ('44:E9:DD:5E:6E:05', '90:72:82:87:C8:76'), ('44:E9:DD:5E:6E:05', 'F8:2D:7C:56:04:B5'), ('44:E9:DD:5E:6E:05', 'B0:35:B5:AE:2E:76'), ('B2:72:82:87:C8:7F', '90:72:82:87:C8:7F'), ('B2:72:82:87:C8:7F', 'B8:EE:0E:4E:FB:8E'), ('B2:72:82:87:C8:7F', '90:4D:4A:50:AE:61'), ('B2:72:82:87:C8:7F', '64:CC:22:9A:65:D0'), ('B2:72:82:87:C8:7F', '62:CC:22:9A:65:D4'), ('B2:72:82:87:C8:7F', 'EC:F4:51:A6:25:40'), ('B2:72:82:87:C8:7F', '30:FD:38:AC:F7:37'), ('B2:72:82:87:C8:7F', 'AC:3B:77:14:D4:40'), ('B2:72:82:87:C8:7F', 'AE:3B:77:14:D6:41'), ('B2:72:82:87:C8:7F', 'C0:3E:0F:11:0F:4F'), ('B2:72:82:87:C8:7F', '20:47:ED:A8:22:B2'), ('B2:72:82:87:C8:7F', '98:D8:63:A7:C5:04'), ('B2:72:82:87:C8:7F', 'B0:19:C6:AD:9C:2D'), ('B2:72:82:87:C8:7F', 'BC:CF:4F:7F:DD:6C'), ('B2:72:82:87:C8:7F', 'C8:3A:35:F3:FB:F8'), ('B2:72:82:87:C8:7F', 'E0:48:AF:01:8C:DB'), ('B2:72:82:87:C8:7F', 'E2:48:AF:01:0C:A7'), ('B2:72:82:87:C8:7F', '88:DE:A9:83:E4:E7'), ('B2:72:82:87:C8:7F', '04:A2:22:09:B1:1C'), ('B2:72:82:87:C8:7F', 'DA:31:34:3F:4C:CA'), ('B2:72:82:87:C8:7F', '50:DC:E7:1D:70:32'), ('B2:72:82:87:C8:7F', 'A4:91:B1:8B:3C:98'), ('B2:72:82:87:C8:7F', '8C:3B:AD:BA:BA:E9'), ('B2:72:82:87:C8:7F', '1C:74:0D:5A:03:B0'), ('B2:72:82:87:C8:7F', 'C0:3E:0F:11:1D:AA'), ('B2:72:82:87:C8:7F', '30:57:14:E0:02:B1'), ('B2:72:82:87:C8:7F', '10:94:BB:24:63:2F'), ('B2:72:82:87:C8:7F', '88:DE:A9:83:E4:E9'), ('B2:72:82:87:C8:7F', '38:A6:CE:14:0A:50'), ('B2:72:82:87:C8:7F', 'A4:91:B1:8B:3C:97'), ('B2:72:82:87:C8:7F', 'C8:3A:6B:34:31:2F'), ('B2:72:82:87:C8:7F', '44:E9:DD:F1:C7:14'), ('B2:72:82:87:C8:7F', 'F0:86:20:3F:05:77'), ('B2:72:82:87:C8:7F', '7A:86:20:3F:05:70'), ('B2:72:82:87:C8:7F', 'D8:31:34:3F:4C:CA'), ('B2:72:82:87:C8:7F', 'B2:72:82:7F:AB:F2'), ('B2:72:82:87:C8:7F', '04:A2:22:09:B1:1A'), ('B2:72:82:87:C8:7F', 'D2:AC:7E:21:50:32'), ('B2:72:82:87:C8:7F', '7A:86:20:3F:05:71'), ('B2:72:82:87:C8:7F', '44:E9:DD:5E:6E:00'), ('B2:72:82:87:C8:7F', '24:4C:E3:48:51:C1'), ('B2:72:82:87:C8:7F', '62:A2:22:09:B1:18'), ('B2:72:82:87:C8:7F', '38:A6:CE:14:0A:52'), ('B2:72:82:87:C8:7F', 'E0:48:AF:01:0C:A7'), ('B2:72:82:87:C8:7F', 'D2:2C:7E:0B:1B:32'), ('B2:72:82:87:C8:7F', '20:47:ED:9E:A6:12'), ('B2:72:82:87:C8:7F', '48:D7:05:E5:66:AD'), ('B2:72:82:87:C8:7F', '78:67:D7:1D:80:02'), ('B2:72:82:87:C8:7F', '28:28:5D:A6:75:D8'), ('B2:72:82:87:C8:7F', '10:30:25:11:0B:46'), ('B2:72:82:87:C8:7F', 'AC:3B:77:14:D4:3D'), ('B2:72:82:87:C8:7F', 'F4:63:1F:93:89:CB'), ('B2:72:82:87:C8:7F', '00:11:32:7A:25:3D'), ('B2:72:82:87:C8:7F', '60:7E:DD:FD:43:EC'), ('B2:72:82:87:C8:7F', '3C:AB:8E:44:0D:66'), ('B2:72:82:87:C8:7F', '68:47:49:26:4F:9C'), ('B2:72:82:87:C8:7F', '90:72:82:7F:AB:F2'), ('B2:72:82:87:C8:7F', '92:72:82:7F:AB:F2'), ('B2:72:82:87:C8:7F', '90:4D:4A:50:AE:60'), ('B2:72:82:87:C8:7F', '7A:86:20:3F:05:73'), ('B2:72:82:87:C8:7F', '70:BC:10:C2:16:AB'), ('B2:72:82:87:C8:7F', '70:BC:10:D2:55:33'), ('B2:72:82:87:C8:7F', '30:F7:72:58:95:61'), ('B2:72:82:87:C8:7F', '44:E9:DD:F1:C7:12'), ('B2:72:82:87:C8:7F', '22:23:F6:E6:EA:BA'), ('B2:72:82:87:C8:7F', 'DC:4A:3E:B9:02:0A'), ('B2:72:82:87:C8:7F', '30:19:66:FD:70:31'), ('B2:72:82:87:C8:7F', '4C:57:CA:D4:A9:80'), ('B2:72:82:87:C8:7F', 'F8:B4:6A:C9:75:9D'), ('B2:72:82:87:C8:7F', '7C:D9:5C:28:AA:E8'), ('B2:72:82:87:C8:7F', '00:03:7F:2D:E2:89'), ('B2:72:82:87:C8:7F', '6A:F4:51:A6:25:41'), ('B2:72:82:87:C8:7F', 'A8:10:87:53:01:62'), ('B2:72:82:87:C8:7F', '00:0C:43:00:48:24'), ('B2:72:82:87:C8:7F', '64:CC:22:9A:65:CD'), ('B2:72:82:87:C8:7F', '00:25:92:25:E4:2E'), ('B2:72:82:87:C8:7F', '04:69:F8:56:E6:B7'), ('B2:72:82:87:C8:7F', '90:4D:4A:27:47:4C'), ('B2:72:82:87:C8:7F', '34:79:16:20:A6:1C'), ('B2:72:82:87:C8:7F', 'EC:F4:51:BF:46:CE'), ('B2:72:82:87:C8:7F', 'E4:F0:42:65:6C:13'), ('B2:72:82:87:C8:7F', '58:82:A8:11:4D:86'), ('B2:72:82:87:C8:7F', '04:A2:22:09:B1:19'), ('B2:72:82:87:C8:7F', '04:69:F8:6C:18:7F'), ('B2:72:82:87:C8:7F', '90:72:82:87:C8:76'), ('B2:72:82:87:C8:7F', 'F8:2D:7C:56:04:B5'), ('B2:72:82:87:C8:7F', 'B0:35:B5:AE:2E:76'), ('90:72:82:87:C8:7F', 'B8:EE:0E:4E:FB:8E'), ('90:72:82:87:C8:7F', '90:4D:4A:50:AE:61'), ('90:72:82:87:C8:7F', '64:CC:22:9A:65:D0'), ('90:72:82:87:C8:7F', '62:CC:22:9A:65:D4'), ('90:72:82:87:C8:7F', 'EC:F4:51:A6:25:40'), ('90:72:82:87:C8:7F', '30:FD:38:AC:F7:37'), ('90:72:82:87:C8:7F', 'AC:3B:77:14:D4:40'), ('90:72:82:87:C8:7F', 'AE:3B:77:14:D6:41'), ('90:72:82:87:C8:7F', 'C0:3E:0F:11:0F:4F'), ('90:72:82:87:C8:7F', '20:47:ED:A8:22:B2'), ('90:72:82:87:C8:7F', '98:D8:63:A7:C5:04'), ('90:72:82:87:C8:7F', 'B0:19:C6:AD:9C:2D'), ('90:72:82:87:C8:7F', 'BC:CF:4F:7F:DD:6C'), ('90:72:82:87:C8:7F', 'C8:3A:35:F3:FB:F8'), ('90:72:82:87:C8:7F', 'E0:48:AF:01:8C:DB'), ('90:72:82:87:C8:7F', 'E2:48:AF:01:0C:A7'), ('90:72:82:87:C8:7F', '88:DE:A9:83:E4:E7'), ('90:72:82:87:C8:7F', '04:A2:22:09:B1:1C'), ('90:72:82:87:C8:7F', 'DA:31:34:3F:4C:CA'), ('90:72:82:87:C8:7F', '50:DC:E7:1D:70:32'), ('90:72:82:87:C8:7F', 'A4:91:B1:8B:3C:98'), ('90:72:82:87:C8:7F', '8C:3B:AD:BA:BA:E9'), ('90:72:82:87:C8:7F', '1C:74:0D:5A:03:B0'), ('90:72:82:87:C8:7F', 'C0:3E:0F:11:1D:AA'), ('90:72:82:87:C8:7F', '30:57:14:E0:02:B1'), ('90:72:82:87:C8:7F', '10:94:BB:24:63:2F'), ('90:72:82:87:C8:7F', '88:DE:A9:83:E4:E9'), ('90:72:82:87:C8:7F', '38:A6:CE:14:0A:50'), ('90:72:82:87:C8:7F', 'A4:91:B1:8B:3C:97'), ('90:72:82:87:C8:7F', 'C8:3A:6B:34:31:2F'), ('90:72:82:87:C8:7F', '44:E9:DD:F1:C7:14'), ('90:72:82:87:C8:7F', 'F0:86:20:3F:05:77'), ('90:72:82:87:C8:7F', '7A:86:20:3F:05:70'), ('90:72:82:87:C8:7F', 'D8:31:34:3F:4C:CA'), ('90:72:82:87:C8:7F', 'B2:72:82:7F:AB:F2'), ('90:72:82:87:C8:7F', '04:A2:22:09:B1:1A'), ('90:72:82:87:C8:7F', 'D2:AC:7E:21:50:32'), ('90:72:82:87:C8:7F', '7A:86:20:3F:05:71'), ('90:72:82:87:C8:7F', '44:E9:DD:5E:6E:00'), ('90:72:82:87:C8:7F', '24:4C:E3:48:51:C1'), ('90:72:82:87:C8:7F', '62:A2:22:09:B1:18'), ('90:72:82:87:C8:7F', '38:A6:CE:14:0A:52'), ('90:72:82:87:C8:7F', 'E0:48:AF:01:0C:A7'), ('90:72:82:87:C8:7F', 'D2:2C:7E:0B:1B:32'), ('90:72:82:87:C8:7F', '20:47:ED:9E:A6:12'), ('90:72:82:87:C8:7F', '48:D7:05:E5:66:AD'), ('90:72:82:87:C8:7F', '78:67:D7:1D:80:02'), ('90:72:82:87:C8:7F', '28:28:5D:A6:75:D8'), ('90:72:82:87:C8:7F', '10:30:25:11:0B:46'), ('90:72:82:87:C8:7F', 'AC:3B:77:14:D4:3D'), ('90:72:82:87:C8:7F', 'F4:63:1F:93:89:CB'), ('90:72:82:87:C8:7F', '00:11:32:7A:25:3D'), ('90:72:82:87:C8:7F', '60:7E:DD:FD:43:EC'), ('90:72:82:87:C8:7F', '3C:AB:8E:44:0D:66'), ('90:72:82:87:C8:7F', '68:47:49:26:4F:9C'), ('90:72:82:87:C8:7F', '90:72:82:7F:AB:F2'), ('90:72:82:87:C8:7F', '92:72:82:7F:AB:F2'), ('90:72:82:87:C8:7F', '90:4D:4A:50:AE:60'), ('90:72:82:87:C8:7F', '7A:86:20:3F:05:73'), ('90:72:82:87:C8:7F', '70:BC:10:C2:16:AB'), ('90:72:82:87:C8:7F', '70:BC:10:D2:55:33'), ('90:72:82:87:C8:7F', '30:F7:72:58:95:61'), ('90:72:82:87:C8:7F', '44:E9:DD:F1:C7:12'), ('90:72:82:87:C8:7F', '22:23:F6:E6:EA:BA'), ('90:72:82:87:C8:7F', 'DC:4A:3E:B9:02:0A'), ('90:72:82:87:C8:7F', '30:19:66:FD:70:31'), ('90:72:82:87:C8:7F', '4C:57:CA:D4:A9:80'), ('90:72:82:87:C8:7F', 'F8:B4:6A:C9:75:9D'), ('90:72:82:87:C8:7F', '7C:D9:5C:28:AA:E8'), ('90:72:82:87:C8:7F', '00:03:7F:2D:E2:89'), ('90:72:82:87:C8:7F', '6A:F4:51:A6:25:41'), ('90:72:82:87:C8:7F', 'A8:10:87:53:01:62'), ('90:72:82:87:C8:7F', '00:0C:43:00:48:24'), ('90:72:82:87:C8:7F', '64:CC:22:9A:65:CD'), ('90:72:82:87:C8:7F', '00:25:92:25:E4:2E'), ('90:72:82:87:C8:7F', '04:69:F8:56:E6:B7'), ('90:72:82:87:C8:7F', '90:4D:4A:27:47:4C'), ('90:72:82:87:C8:7F', '34:79:16:20:A6:1C'), ('90:72:82:87:C8:7F', 'EC:F4:51:BF:46:CE'), ('90:72:82:87:C8:7F', 'E4:F0:42:65:6C:13'), ('90:72:82:87:C8:7F', '58:82:A8:11:4D:86'), ('90:72:82:87:C8:7F', '04:A2:22:09:B1:19'), ('90:72:82:87:C8:7F', '04:69:F8:6C:18:7F'), ('90:72:82:87:C8:7F', '90:72:82:87:C8:76'), ('90:72:82:87:C8:7F', 'F8:2D:7C:56:04:B5'), ('90:72:82:87:C8:7F', 'B0:35:B5:AE:2E:76'), ('B8:EE:0E:4E:FB:8E', '90:4D:4A:50:AE:61'), ('B8:EE:0E:4E:FB:8E', '64:CC:22:9A:65:D0'), ('B8:EE:0E:4E:FB:8E', '62:CC:22:9A:65:D4'), ('B8:EE:0E:4E:FB:8E', 'EC:F4:51:A6:25:40'), ('B8:EE:0E:4E:FB:8E', '30:FD:38:AC:F7:37'), ('B8:EE:0E:4E:FB:8E', 'AC:3B:77:14:D4:40'), ('B8:EE:0E:4E:FB:8E', 'AE:3B:77:14:D6:41'), ('B8:EE:0E:4E:FB:8E', 'C0:3E:0F:11:0F:4F'), ('B8:EE:0E:4E:FB:8E', '20:47:ED:A8:22:B2'), ('B8:EE:0E:4E:FB:8E', '98:D8:63:A7:C5:04'), ('B8:EE:0E:4E:FB:8E', 'B0:19:C6:AD:9C:2D'), ('B8:EE:0E:4E:FB:8E', 'BC:CF:4F:7F:DD:6C'), ('B8:EE:0E:4E:FB:8E', 'C8:3A:35:F3:FB:F8'), ('B8:EE:0E:4E:FB:8E', 'E0:48:AF:01:8C:DB'), ('B8:EE:0E:4E:FB:8E', 'E2:48:AF:01:0C:A7'), ('B8:EE:0E:4E:FB:8E', '88:DE:A9:83:E4:E7'), ('B8:EE:0E:4E:FB:8E', '04:A2:22:09:B1:1C'), ('B8:EE:0E:4E:FB:8E', 'DA:31:34:3F:4C:CA'), ('B8:EE:0E:4E:FB:8E', '50:DC:E7:1D:70:32'), ('B8:EE:0E:4E:FB:8E', 'A4:91:B1:8B:3C:98'), ('B8:EE:0E:4E:FB:8E', '8C:3B:AD:BA:BA:E9'), ('B8:EE:0E:4E:FB:8E', '1C:74:0D:5A:03:B0'), ('B8:EE:0E:4E:FB:8E', 'C0:3E:0F:11:1D:AA'), ('B8:EE:0E:4E:FB:8E', '30:57:14:E0:02:B1'), ('B8:EE:0E:4E:FB:8E', '10:94:BB:24:63:2F'), ('B8:EE:0E:4E:FB:8E', '88:DE:A9:83:E4:E9'), ('B8:EE:0E:4E:FB:8E', '38:A6:CE:14:0A:50'), ('B8:EE:0E:4E:FB:8E', 'A4:91:B1:8B:3C:97'), ('B8:EE:0E:4E:FB:8E', 'C8:3A:6B:34:31:2F'), ('B8:EE:0E:4E:FB:8E', '44:E9:DD:F1:C7:14'), ('B8:EE:0E:4E:FB:8E', 'F0:86:20:3F:05:77'), ('B8:EE:0E:4E:FB:8E', '7A:86:20:3F:05:70'), ('B8:EE:0E:4E:FB:8E', 'D8:31:34:3F:4C:CA'), ('B8:EE:0E:4E:FB:8E', 'B2:72:82:7F:AB:F2'), ('B8:EE:0E:4E:FB:8E', '04:A2:22:09:B1:1A'), ('B8:EE:0E:4E:FB:8E', 'D2:AC:7E:21:50:32'), ('B8:EE:0E:4E:FB:8E', '7A:86:20:3F:05:71'), ('B8:EE:0E:4E:FB:8E', '44:E9:DD:5E:6E:00'), ('B8:EE:0E:4E:FB:8E', '24:4C:E3:48:51:C1'), ('B8:EE:0E:4E:FB:8E', '62:A2:22:09:B1:18'), ('B8:EE:0E:4E:FB:8E', '38:A6:CE:14:0A:52'), ('B8:EE:0E:4E:FB:8E', 'E0:48:AF:01:0C:A7'), ('B8:EE:0E:4E:FB:8E', 'D2:2C:7E:0B:1B:32'), ('B8:EE:0E:4E:FB:8E', '20:47:ED:9E:A6:12'), ('B8:EE:0E:4E:FB:8E', '48:D7:05:E5:66:AD'), ('B8:EE:0E:4E:FB:8E', '78:67:D7:1D:80:02'), ('B8:EE:0E:4E:FB:8E', '28:28:5D:A6:75:D8'), ('B8:EE:0E:4E:FB:8E', '10:30:25:11:0B:46'), ('B8:EE:0E:4E:FB:8E', 'AC:3B:77:14:D4:3D'), ('B8:EE:0E:4E:FB:8E', 'F4:63:1F:93:89:CB'), ('B8:EE:0E:4E:FB:8E', '00:11:32:7A:25:3D'), ('B8:EE:0E:4E:FB:8E', '60:7E:DD:FD:43:EC'), ('B8:EE:0E:4E:FB:8E', '3C:AB:8E:44:0D:66'), ('B8:EE:0E:4E:FB:8E', '68:47:49:26:4F:9C'), ('B8:EE:0E:4E:FB:8E', '90:72:82:7F:AB:F2'), ('B8:EE:0E:4E:FB:8E', '92:72:82:7F:AB:F2'), ('B8:EE:0E:4E:FB:8E', '90:4D:4A:50:AE:60'), ('B8:EE:0E:4E:FB:8E', '7A:86:20:3F:05:73'), ('B8:EE:0E:4E:FB:8E', '70:BC:10:C2:16:AB'), ('B8:EE:0E:4E:FB:8E', '70:BC:10:D2:55:33'), ('B8:EE:0E:4E:FB:8E', '30:F7:72:58:95:61'), ('B8:EE:0E:4E:FB:8E', '44:E9:DD:F1:C7:12'), ('B8:EE:0E:4E:FB:8E', '22:23:F6:E6:EA:BA'), ('B8:EE:0E:4E:FB:8E', 'DC:4A:3E:B9:02:0A'), ('B8:EE:0E:4E:FB:8E', '30:19:66:FD:70:31'), ('B8:EE:0E:4E:FB:8E', '4C:57:CA:D4:A9:80'), ('B8:EE:0E:4E:FB:8E', 'F8:B4:6A:C9:75:9D'), ('B8:EE:0E:4E:FB:8E', '7C:D9:5C:28:AA:E8'), ('B8:EE:0E:4E:FB:8E', '00:03:7F:2D:E2:89'), ('B8:EE:0E:4E:FB:8E', '6A:F4:51:A6:25:41'), ('B8:EE:0E:4E:FB:8E', 'A8:10:87:53:01:62'), ('B8:EE:0E:4E:FB:8E', '00:0C:43:00:48:24'), ('B8:EE:0E:4E:FB:8E', '64:CC:22:9A:65:CD'), ('B8:EE:0E:4E:FB:8E', '00:25:92:25:E4:2E'), ('B8:EE:0E:4E:FB:8E', '04:69:F8:56:E6:B7'), ('B8:EE:0E:4E:FB:8E', '90:4D:4A:27:47:4C'), ('B8:EE:0E:4E:FB:8E', '34:79:16:20:A6:1C'), ('B8:EE:0E:4E:FB:8E', 'EC:F4:51:BF:46:CE'), ('B8:EE:0E:4E:FB:8E', 'E4:F0:42:65:6C:13'), ('B8:EE:0E:4E:FB:8E', '58:82:A8:11:4D:86'), ('B8:EE:0E:4E:FB:8E', '04:A2:22:09:B1:19'), ('B8:EE:0E:4E:FB:8E', '04:69:F8:6C:18:7F'), ('B8:EE:0E:4E:FB:8E', '90:72:82:87:C8:76'), ('B8:EE:0E:4E:FB:8E', 'F8:2D:7C:56:04:B5'), ('B8:EE:0E:4E:FB:8E', 'B0:35:B5:AE:2E:76'), ('90:4D:4A:50:AE:61', '64:CC:22:9A:65:D0'), ('90:4D:4A:50:AE:61', '62:CC:22:9A:65:D4'), ('90:4D:4A:50:AE:61', 'EC:F4:51:A6:25:40'), ('90:4D:4A:50:AE:61', '30:FD:38:AC:F7:37'), ('90:4D:4A:50:AE:61', 'AC:3B:77:14:D4:40'), ('90:4D:4A:50:AE:61', 'AE:3B:77:14:D6:41'), ('90:4D:4A:50:AE:61', 'C0:3E:0F:11:0F:4F'), ('90:4D:4A:50:AE:61', '20:47:ED:A8:22:B2'), ('90:4D:4A:50:AE:61', '98:D8:63:A7:C5:04'), ('90:4D:4A:50:AE:61', 'B0:19:C6:AD:9C:2D'), ('90:4D:4A:50:AE:61', 'BC:CF:4F:7F:DD:6C'), ('90:4D:4A:50:AE:61', 'C8:3A:35:F3:FB:F8'), ('90:4D:4A:50:AE:61', 'E0:48:AF:01:8C:DB'), ('90:4D:4A:50:AE:61', 'E2:48:AF:01:0C:A7'), ('90:4D:4A:50:AE:61', '88:DE:A9:83:E4:E7'), ('90:4D:4A:50:AE:61', '04:A2:22:09:B1:1C'), ('90:4D:4A:50:AE:61', 'DA:31:34:3F:4C:CA'), ('90:4D:4A:50:AE:61', '50:DC:E7:1D:70:32'), ('90:4D:4A:50:AE:61', 'A4:91:B1:8B:3C:98'), ('90:4D:4A:50:AE:61', '8C:3B:AD:BA:BA:E9'), ('90:4D:4A:50:AE:61', '1C:74:0D:5A:03:B0'), ('90:4D:4A:50:AE:61', 'C0:3E:0F:11:1D:AA'), ('90:4D:4A:50:AE:61', '30:57:14:E0:02:B1'), ('90:4D:4A:50:AE:61', '10:94:BB:24:63:2F'), ('90:4D:4A:50:AE:61', '88:DE:A9:83:E4:E9'), ('90:4D:4A:50:AE:61', '38:A6:CE:14:0A:50'), ('90:4D:4A:50:AE:61', 'A4:91:B1:8B:3C:97'), ('90:4D:4A:50:AE:61', 'C8:3A:6B:34:31:2F'), ('90:4D:4A:50:AE:61', '44:E9:DD:F1:C7:14'), ('90:4D:4A:50:AE:61', 'F0:86:20:3F:05:77'), ('90:4D:4A:50:AE:61', '7A:86:20:3F:05:70'), ('90:4D:4A:50:AE:61', 'D8:31:34:3F:4C:CA'), ('90:4D:4A:50:AE:61', 'B2:72:82:7F:AB:F2'), ('90:4D:4A:50:AE:61', '04:A2:22:09:B1:1A'), ('90:4D:4A:50:AE:61', 'D2:AC:7E:21:50:32'), ('90:4D:4A:50:AE:61', '7A:86:20:3F:05:71'), ('90:4D:4A:50:AE:61', '44:E9:DD:5E:6E:00'), ('90:4D:4A:50:AE:61', '24:4C:E3:48:51:C1'), ('90:4D:4A:50:AE:61', '62:A2:22:09:B1:18'), ('90:4D:4A:50:AE:61', '38:A6:CE:14:0A:52'), ('90:4D:4A:50:AE:61', 'E0:48:AF:01:0C:A7'), ('90:4D:4A:50:AE:61', 'D2:2C:7E:0B:1B:32'), ('90:4D:4A:50:AE:61', '20:47:ED:9E:A6:12'), ('90:4D:4A:50:AE:61', '48:D7:05:E5:66:AD'), ('90:4D:4A:50:AE:61', '78:67:D7:1D:80:02'), ('90:4D:4A:50:AE:61', '28:28:5D:A6:75:D8'), ('90:4D:4A:50:AE:61', '10:30:25:11:0B:46'), ('90:4D:4A:50:AE:61', 'AC:3B:77:14:D4:3D'), ('90:4D:4A:50:AE:61', 'F4:63:1F:93:89:CB'), ('90:4D:4A:50:AE:61', '00:11:32:7A:25:3D'), ('90:4D:4A:50:AE:61', '60:7E:DD:FD:43:EC'), ('90:4D:4A:50:AE:61', '3C:AB:8E:44:0D:66'), ('90:4D:4A:50:AE:61', '68:47:49:26:4F:9C'), ('90:4D:4A:50:AE:61', '90:72:82:7F:AB:F2'), ('90:4D:4A:50:AE:61', '92:72:82:7F:AB:F2'), ('90:4D:4A:50:AE:61', '90:4D:4A:50:AE:60'), ('90:4D:4A:50:AE:61', '7A:86:20:3F:05:73'), ('90:4D:4A:50:AE:61', '70:BC:10:C2:16:AB'), ('90:4D:4A:50:AE:61', '70:BC:10:D2:55:33'), ('90:4D:4A:50:AE:61', '30:F7:72:58:95:61'), ('90:4D:4A:50:AE:61', '44:E9:DD:F1:C7:12'), ('90:4D:4A:50:AE:61', '22:23:F6:E6:EA:BA'), ('90:4D:4A:50:AE:61', 'DC:4A:3E:B9:02:0A'), ('90:4D:4A:50:AE:61', '30:19:66:FD:70:31'), ('90:4D:4A:50:AE:61', '4C:57:CA:D4:A9:80'), ('90:4D:4A:50:AE:61', 'F8:B4:6A:C9:75:9D'), ('90:4D:4A:50:AE:61', '7C:D9:5C:28:AA:E8'), ('90:4D:4A:50:AE:61', '00:03:7F:2D:E2:89'), ('90:4D:4A:50:AE:61', '6A:F4:51:A6:25:41'), ('90:4D:4A:50:AE:61', 'A8:10:87:53:01:62'), ('90:4D:4A:50:AE:61', '00:0C:43:00:48:24'), ('90:4D:4A:50:AE:61', '64:CC:22:9A:65:CD'), ('90:4D:4A:50:AE:61', '00:25:92:25:E4:2E'), ('90:4D:4A:50:AE:61', '04:69:F8:56:E6:B7'), ('90:4D:4A:50:AE:61', '90:4D:4A:27:47:4C'), ('90:4D:4A:50:AE:61', '34:79:16:20:A6:1C'), ('90:4D:4A:50:AE:61', 'EC:F4:51:BF:46:CE'), ('90:4D:4A:50:AE:61', 'E4:F0:42:65:6C:13'), ('90:4D:4A:50:AE:61', '58:82:A8:11:4D:86'), ('90:4D:4A:50:AE:61', '04:A2:22:09:B1:19'), ('90:4D:4A:50:AE:61', '04:69:F8:6C:18:7F'), ('90:4D:4A:50:AE:61', '90:72:82:87:C8:76'), ('90:4D:4A:50:AE:61', 'F8:2D:7C:56:04:B5'), ('90:4D:4A:50:AE:61', 'B0:35:B5:AE:2E:76'), ('90:4D:4A:50:AE:61', 'B8:EE:0E:4E:FB:8D'), ('64:CC:22:9A:65:D0', '62:CC:22:9A:65:D4'), ('64:CC:22:9A:65:D0', 'EC:F4:51:A6:25:40'), ('64:CC:22:9A:65:D0', '30:FD:38:AC:F7:37'), ('64:CC:22:9A:65:D0', 'AC:3B:77:14:D4:40'), ('64:CC:22:9A:65:D0', 'AE:3B:77:14:D6:41'), ('64:CC:22:9A:65:D0', 'C0:3E:0F:11:0F:4F'), ('64:CC:22:9A:65:D0', '20:47:ED:A8:22:B2'), ('64:CC:22:9A:65:D0', '98:D8:63:A7:C5:04'), ('64:CC:22:9A:65:D0', 'B0:19:C6:AD:9C:2D'), ('64:CC:22:9A:65:D0', 'BC:CF:4F:7F:DD:6C'), ('64:CC:22:9A:65:D0', 'C8:3A:35:F3:FB:F8'), ('64:CC:22:9A:65:D0', 'E0:48:AF:01:8C:DB'), ('64:CC:22:9A:65:D0', 'E2:48:AF:01:0C:A7'), ('64:CC:22:9A:65:D0', '88:DE:A9:83:E4:E7'), ('64:CC:22:9A:65:D0', '04:A2:22:09:B1:1C'), ('64:CC:22:9A:65:D0', 'DA:31:34:3F:4C:CA'), ('64:CC:22:9A:65:D0', '50:DC:E7:1D:70:32'), ('64:CC:22:9A:65:D0', 'A4:91:B1:8B:3C:98'), ('64:CC:22:9A:65:D0', '8C:3B:AD:BA:BA:E9'), ('64:CC:22:9A:65:D0', '1C:74:0D:5A:03:B0'), ('64:CC:22:9A:65:D0', 'C0:3E:0F:11:1D:AA'), ('64:CC:22:9A:65:D0', '30:57:14:E0:02:B1'), ('64:CC:22:9A:65:D0', '10:94:BB:24:63:2F'), ('64:CC:22:9A:65:D0', '88:DE:A9:83:E4:E9'), ('64:CC:22:9A:65:D0', '38:A6:CE:14:0A:50'), ('64:CC:22:9A:65:D0', 'A4:91:B1:8B:3C:97'), ('64:CC:22:9A:65:D0', 'C8:3A:6B:34:31:2F'), ('64:CC:22:9A:65:D0', '44:E9:DD:F1:C7:14'), ('64:CC:22:9A:65:D0', 'F0:86:20:3F:05:77'), ('64:CC:22:9A:65:D0', '7A:86:20:3F:05:70'), ('64:CC:22:9A:65:D0', 'D8:31:34:3F:4C:CA'), ('64:CC:22:9A:65:D0', 'B2:72:82:7F:AB:F2'), ('64:CC:22:9A:65:D0', '04:A2:22:09:B1:1A'), ('64:CC:22:9A:65:D0', 'D2:AC:7E:21:50:32'), ('64:CC:22:9A:65:D0', '7A:86:20:3F:05:71'), ('64:CC:22:9A:65:D0', '44:E9:DD:5E:6E:00'), ('64:CC:22:9A:65:D0', '24:4C:E3:48:51:C1'), ('64:CC:22:9A:65:D0', '62:A2:22:09:B1:18'), ('64:CC:22:9A:65:D0', '38:A6:CE:14:0A:52'), ('64:CC:22:9A:65:D0', 'E0:48:AF:01:0C:A7'), ('64:CC:22:9A:65:D0', 'D2:2C:7E:0B:1B:32'), ('64:CC:22:9A:65:D0', '20:47:ED:9E:A6:12'), ('64:CC:22:9A:65:D0', '48:D7:05:E5:66:AD'), ('64:CC:22:9A:65:D0', '78:67:D7:1D:80:02'), ('64:CC:22:9A:65:D0', '28:28:5D:A6:75:D8'), ('64:CC:22:9A:65:D0', '10:30:25:11:0B:46'), ('64:CC:22:9A:65:D0', 'AC:3B:77:14:D4:3D'), ('64:CC:22:9A:65:D0', 'F4:63:1F:93:89:CB'), ('64:CC:22:9A:65:D0', '00:11:32:7A:25:3D'), ('64:CC:22:9A:65:D0', '60:7E:DD:FD:43:EC'), ('64:CC:22:9A:65:D0', '3C:AB:8E:44:0D:66'), ('64:CC:22:9A:65:D0', '68:47:49:26:4F:9C'), ('64:CC:22:9A:65:D0', '90:72:82:7F:AB:F2'), ('64:CC:22:9A:65:D0', '92:72:82:7F:AB:F2'), ('64:CC:22:9A:65:D0', '90:4D:4A:50:AE:60'), ('64:CC:22:9A:65:D0', '7A:86:20:3F:05:73'), ('64:CC:22:9A:65:D0', '70:BC:10:C2:16:AB'), ('64:CC:22:9A:65:D0', '70:BC:10:D2:55:33'), ('64:CC:22:9A:65:D0', '30:F7:72:58:95:61'), ('64:CC:22:9A:65:D0', '44:E9:DD:F1:C7:12'), ('64:CC:22:9A:65:D0', '22:23:F6:E6:EA:BA'), ('64:CC:22:9A:65:D0', 'DC:4A:3E:B9:02:0A'), ('64:CC:22:9A:65:D0', '30:19:66:FD:70:31'), ('64:CC:22:9A:65:D0', '4C:57:CA:D4:A9:80'), ('64:CC:22:9A:65:D0', 'F8:B4:6A:C9:75:9D'), ('64:CC:22:9A:65:D0', '7C:D9:5C:28:AA:E8'), ('64:CC:22:9A:65:D0', '00:03:7F:2D:E2:89'), ('64:CC:22:9A:65:D0', '6A:F4:51:A6:25:41'), ('64:CC:22:9A:65:D0', 'A8:10:87:53:01:62'), ('64:CC:22:9A:65:D0', '00:0C:43:00:48:24'), ('64:CC:22:9A:65:D0', '64:CC:22:9A:65:CD'), ('64:CC:22:9A:65:D0', '00:25:92:25:E4:2E'), ('64:CC:22:9A:65:D0', '04:69:F8:56:E6:B7'), ('64:CC:22:9A:65:D0', '90:4D:4A:27:47:4C'), ('64:CC:22:9A:65:D0', '34:79:16:20:A6:1C'), ('64:CC:22:9A:65:D0', 'EC:F4:51:BF:46:CE'), ('64:CC:22:9A:65:D0', 'E4:F0:42:65:6C:13'), ('64:CC:22:9A:65:D0', '58:82:A8:11:4D:86'), ('64:CC:22:9A:65:D0', '04:A2:22:09:B1:19'), ('64:CC:22:9A:65:D0', '04:69:F8:6C:18:7F'), ('64:CC:22:9A:65:D0', '90:72:82:87:C8:76'), ('64:CC:22:9A:65:D0', 'F8:2D:7C:56:04:B5'), ('64:CC:22:9A:65:D0', 'B0:35:B5:AE:2E:76'), ('64:CC:22:9A:65:D0', 'B8:EE:0E:4E:FB:8D'), ('62:CC:22:9A:65:D4', 'EC:F4:51:A6:25:40'), ('62:CC:22:9A:65:D4', '30:FD:38:AC:F7:37'), ('62:CC:22:9A:65:D4', 'AC:3B:77:14:D4:40'), ('62:CC:22:9A:65:D4', 'AE:3B:77:14:D6:41'), ('62:CC:22:9A:65:D4', 'C0:3E:0F:11:0F:4F'), ('62:CC:22:9A:65:D4', '20:47:ED:A8:22:B2'), ('62:CC:22:9A:65:D4', '98:D8:63:A7:C5:04'), ('62:CC:22:9A:65:D4', 'B0:19:C6:AD:9C:2D'), ('62:CC:22:9A:65:D4', 'BC:CF:4F:7F:DD:6C'), ('62:CC:22:9A:65:D4', 'C8:3A:35:F3:FB:F8'), ('62:CC:22:9A:65:D4', 'E0:48:AF:01:8C:DB'), ('62:CC:22:9A:65:D4', 'E2:48:AF:01:0C:A7'), ('62:CC:22:9A:65:D4', '88:DE:A9:83:E4:E7'), ('62:CC:22:9A:65:D4', '04:A2:22:09:B1:1C'), ('62:CC:22:9A:65:D4', 'DA:31:34:3F:4C:CA'), ('62:CC:22:9A:65:D4', '50:DC:E7:1D:70:32'), ('62:CC:22:9A:65:D4', 'A4:91:B1:8B:3C:98'), ('62:CC:22:9A:65:D4', '8C:3B:AD:BA:BA:E9'), ('62:CC:22:9A:65:D4', '1C:74:0D:5A:03:B0'), ('62:CC:22:9A:65:D4', 'C0:3E:0F:11:1D:AA'), ('62:CC:22:9A:65:D4', '30:57:14:E0:02:B1'), ('62:CC:22:9A:65:D4', '10:94:BB:24:63:2F'), ('62:CC:22:9A:65:D4', '88:DE:A9:83:E4:E9'), ('62:CC:22:9A:65:D4', '38:A6:CE:14:0A:50'), ('62:CC:22:9A:65:D4', 'A4:91:B1:8B:3C:97'), ('62:CC:22:9A:65:D4', 'C8:3A:6B:34:31:2F'), ('62:CC:22:9A:65:D4', '44:E9:DD:F1:C7:14'), ('62:CC:22:9A:65:D4', 'F0:86:20:3F:05:77'), ('62:CC:22:9A:65:D4', '7A:86:20:3F:05:70'), ('62:CC:22:9A:65:D4', 'D8:31:34:3F:4C:CA'), ('62:CC:22:9A:65:D4', 'B2:72:82:7F:AB:F2'), ('62:CC:22:9A:65:D4', '04:A2:22:09:B1:1A'), ('62:CC:22:9A:65:D4', 'D2:AC:7E:21:50:32'), ('62:CC:22:9A:65:D4', '7A:86:20:3F:05:71'), ('62:CC:22:9A:65:D4', '44:E9:DD:5E:6E:00'), ('62:CC:22:9A:65:D4', '24:4C:E3:48:51:C1'), ('62:CC:22:9A:65:D4', '62:A2:22:09:B1:18'), ('62:CC:22:9A:65:D4', '38:A6:CE:14:0A:52'), ('62:CC:22:9A:65:D4', 'E0:48:AF:01:0C:A7'), ('62:CC:22:9A:65:D4', 'D2:2C:7E:0B:1B:32'), ('62:CC:22:9A:65:D4', '20:47:ED:9E:A6:12'), ('62:CC:22:9A:65:D4', '48:D7:05:E5:66:AD'), ('62:CC:22:9A:65:D4', '78:67:D7:1D:80:02'), ('62:CC:22:9A:65:D4', '28:28:5D:A6:75:D8'), ('62:CC:22:9A:65:D4', '10:30:25:11:0B:46'), ('62:CC:22:9A:65:D4', 'AC:3B:77:14:D4:3D'), ('62:CC:22:9A:65:D4', 'F4:63:1F:93:89:CB'), ('62:CC:22:9A:65:D4', '00:11:32:7A:25:3D'), ('62:CC:22:9A:65:D4', '60:7E:DD:FD:43:EC'), ('62:CC:22:9A:65:D4', '3C:AB:8E:44:0D:66'), ('62:CC:22:9A:65:D4', '68:47:49:26:4F:9C'), ('62:CC:22:9A:65:D4', '90:72:82:7F:AB:F2'), ('62:CC:22:9A:65:D4', '92:72:82:7F:AB:F2'), ('62:CC:22:9A:65:D4', '90:4D:4A:50:AE:60'), ('62:CC:22:9A:65:D4', '7A:86:20:3F:05:73'), ('62:CC:22:9A:65:D4', '70:BC:10:C2:16:AB'), ('62:CC:22:9A:65:D4', '70:BC:10:D2:55:33'), ('62:CC:22:9A:65:D4', '30:F7:72:58:95:61'), ('62:CC:22:9A:65:D4', '44:E9:DD:F1:C7:12'), ('62:CC:22:9A:65:D4', '22:23:F6:E6:EA:BA'), ('62:CC:22:9A:65:D4', 'DC:4A:3E:B9:02:0A'), ('62:CC:22:9A:65:D4', '30:19:66:FD:70:31'), ('62:CC:22:9A:65:D4', '4C:57:CA:D4:A9:80'), ('62:CC:22:9A:65:D4', 'F8:B4:6A:C9:75:9D'), ('62:CC:22:9A:65:D4', '7C:D9:5C:28:AA:E8'), ('62:CC:22:9A:65:D4', '00:03:7F:2D:E2:89'), ('62:CC:22:9A:65:D4', '6A:F4:51:A6:25:41'), ('62:CC:22:9A:65:D4', 'A8:10:87:53:01:62'), ('62:CC:22:9A:65:D4', '00:0C:43:00:48:24'), ('62:CC:22:9A:65:D4', '64:CC:22:9A:65:CD'), ('62:CC:22:9A:65:D4', '00:25:92:25:E4:2E'), ('62:CC:22:9A:65:D4', '04:69:F8:56:E6:B7'), ('62:CC:22:9A:65:D4', '90:4D:4A:27:47:4C'), ('62:CC:22:9A:65:D4', '34:79:16:20:A6:1C'), ('62:CC:22:9A:65:D4', 'EC:F4:51:BF:46:CE'), ('62:CC:22:9A:65:D4', 'E4:F0:42:65:6C:13'), ('62:CC:22:9A:65:D4', '58:82:A8:11:4D:86'), ('62:CC:22:9A:65:D4', '04:A2:22:09:B1:19'), ('62:CC:22:9A:65:D4', '04:69:F8:6C:18:7F'), ('62:CC:22:9A:65:D4', '90:72:82:87:C8:76'), ('62:CC:22:9A:65:D4', 'F8:2D:7C:56:04:B5'), ('62:CC:22:9A:65:D4', 'B0:35:B5:AE:2E:76'), ('62:CC:22:9A:65:D4', 'B8:EE:0E:4E:FB:8D'), ('EC:F4:51:A6:25:40', '30:FD:38:AC:F7:37'), ('EC:F4:51:A6:25:40', 'AC:3B:77:14:D4:40'), ('EC:F4:51:A6:25:40', 'AE:3B:77:14:D6:41'), ('EC:F4:51:A6:25:40', 'C0:3E:0F:11:0F:4F'), ('EC:F4:51:A6:25:40', '20:47:ED:A8:22:B2'), ('EC:F4:51:A6:25:40', '98:D8:63:A7:C5:04'), ('EC:F4:51:A6:25:40', 'B0:19:C6:AD:9C:2D'), ('EC:F4:51:A6:25:40', 'BC:CF:4F:7F:DD:6C'), ('EC:F4:51:A6:25:40', 'C8:3A:35:F3:FB:F8'), ('EC:F4:51:A6:25:40', 'E0:48:AF:01:8C:DB'), ('EC:F4:51:A6:25:40', 'E2:48:AF:01:0C:A7'), ('EC:F4:51:A6:25:40', '88:DE:A9:83:E4:E7'), ('EC:F4:51:A6:25:40', '04:A2:22:09:B1:1C'), ('EC:F4:51:A6:25:40', 'DA:31:34:3F:4C:CA'), ('EC:F4:51:A6:25:40', '50:DC:E7:1D:70:32'), ('EC:F4:51:A6:25:40', 'A4:91:B1:8B:3C:98'), ('EC:F4:51:A6:25:40', '8C:3B:AD:BA:BA:E9'), ('EC:F4:51:A6:25:40', '1C:74:0D:5A:03:B0'), ('EC:F4:51:A6:25:40', 'C0:3E:0F:11:1D:AA'), ('EC:F4:51:A6:25:40', '30:57:14:E0:02:B1'), ('EC:F4:51:A6:25:40', '10:94:BB:24:63:2F'), ('EC:F4:51:A6:25:40', '88:DE:A9:83:E4:E9'), ('EC:F4:51:A6:25:40', '38:A6:CE:14:0A:50'), ('EC:F4:51:A6:25:40', 'A4:91:B1:8B:3C:97'), ('EC:F4:51:A6:25:40', 'C8:3A:6B:34:31:2F'), ('EC:F4:51:A6:25:40', '44:E9:DD:F1:C7:14'), ('EC:F4:51:A6:25:40', 'F0:86:20:3F:05:77'), ('EC:F4:51:A6:25:40', '7A:86:20:3F:05:70'), ('EC:F4:51:A6:25:40', 'D8:31:34:3F:4C:CA'), ('EC:F4:51:A6:25:40', 'B2:72:82:7F:AB:F2'), ('EC:F4:51:A6:25:40', '04:A2:22:09:B1:1A'), ('EC:F4:51:A6:25:40', 'D2:AC:7E:21:50:32'), ('EC:F4:51:A6:25:40', '7A:86:20:3F:05:71'), ('EC:F4:51:A6:25:40', '44:E9:DD:5E:6E:00'), ('EC:F4:51:A6:25:40', '24:4C:E3:48:51:C1'), ('EC:F4:51:A6:25:40', '62:A2:22:09:B1:18'), ('EC:F4:51:A6:25:40', '38:A6:CE:14:0A:52'), ('EC:F4:51:A6:25:40', 'E0:48:AF:01:0C:A7'), ('EC:F4:51:A6:25:40', 'D2:2C:7E:0B:1B:32'), ('EC:F4:51:A6:25:40', '20:47:ED:9E:A6:12'), ('EC:F4:51:A6:25:40', '48:D7:05:E5:66:AD'), ('EC:F4:51:A6:25:40', '78:67:D7:1D:80:02'), ('EC:F4:51:A6:25:40', '28:28:5D:A6:75:D8'), ('EC:F4:51:A6:25:40', '10:30:25:11:0B:46'), ('EC:F4:51:A6:25:40', 'AC:3B:77:14:D4:3D'), ('EC:F4:51:A6:25:40', 'F4:63:1F:93:89:CB'), ('EC:F4:51:A6:25:40', '00:11:32:7A:25:3D'), ('EC:F4:51:A6:25:40', '60:7E:DD:FD:43:EC'), ('EC:F4:51:A6:25:40', '3C:AB:8E:44:0D:66'), ('EC:F4:51:A6:25:40', '68:47:49:26:4F:9C'), ('EC:F4:51:A6:25:40', '90:72:82:7F:AB:F2'), ('EC:F4:51:A6:25:40', '92:72:82:7F:AB:F2'), ('EC:F4:51:A6:25:40', '90:4D:4A:50:AE:60'), ('EC:F4:51:A6:25:40', '7A:86:20:3F:05:73'), ('EC:F4:51:A6:25:40', '70:BC:10:C2:16:AB'), ('EC:F4:51:A6:25:40', '70:BC:10:D2:55:33'), ('EC:F4:51:A6:25:40', '30:F7:72:58:95:61'), ('EC:F4:51:A6:25:40', '44:E9:DD:F1:C7:12'), ('EC:F4:51:A6:25:40', '22:23:F6:E6:EA:BA'), ('EC:F4:51:A6:25:40', 'DC:4A:3E:B9:02:0A'), ('EC:F4:51:A6:25:40', '30:19:66:FD:70:31'), ('EC:F4:51:A6:25:40', '4C:57:CA:D4:A9:80'), ('EC:F4:51:A6:25:40', 'F8:B4:6A:C9:75:9D'), ('EC:F4:51:A6:25:40', '7C:D9:5C:28:AA:E8'), ('EC:F4:51:A6:25:40', '00:03:7F:2D:E2:89'), ('EC:F4:51:A6:25:40', '6A:F4:51:A6:25:41'), ('EC:F4:51:A6:25:40', 'A8:10:87:53:01:62'), ('EC:F4:51:A6:25:40', '00:0C:43:00:48:24'), ('EC:F4:51:A6:25:40', '64:CC:22:9A:65:CD'), ('EC:F4:51:A6:25:40', '00:25:92:25:E4:2E'), ('EC:F4:51:A6:25:40', '04:69:F8:56:E6:B7'), ('EC:F4:51:A6:25:40', '90:4D:4A:27:47:4C'), ('EC:F4:51:A6:25:40', '34:79:16:20:A6:1C'), ('EC:F4:51:A6:25:40', 'EC:F4:51:BF:46:CE'), ('EC:F4:51:A6:25:40', 'E4:F0:42:65:6C:13'), ('EC:F4:51:A6:25:40', '58:82:A8:11:4D:86'), ('EC:F4:51:A6:25:40', '04:A2:22:09:B1:19'), ('EC:F4:51:A6:25:40', '04:69:F8:6C:18:7F'), ('EC:F4:51:A6:25:40', '90:72:82:87:C8:76'), ('EC:F4:51:A6:25:40', 'F8:2D:7C:56:04:B5'), ('EC:F4:51:A6:25:40', 'B0:35:B5:AE:2E:76'), ('EC:F4:51:A6:25:40', 'B8:EE:0E:4E:FB:8D'), ('30:FD:38:AC:F7:37', 'AC:3B:77:14:D4:40'), ('30:FD:38:AC:F7:37', 'AE:3B:77:14:D6:41'), ('30:FD:38:AC:F7:37', 'C0:3E:0F:11:0F:4F'), ('30:FD:38:AC:F7:37', '20:47:ED:A8:22:B2'), ('30:FD:38:AC:F7:37', '98:D8:63:A7:C5:04'), ('30:FD:38:AC:F7:37', 'B0:19:C6:AD:9C:2D'), ('30:FD:38:AC:F7:37', 'BC:CF:4F:7F:DD:6C'), ('30:FD:38:AC:F7:37', 'C8:3A:35:F3:FB:F8'), ('30:FD:38:AC:F7:37', 'E0:48:AF:01:8C:DB'), ('30:FD:38:AC:F7:37', 'E2:48:AF:01:0C:A7'), ('30:FD:38:AC:F7:37', '88:DE:A9:83:E4:E7'), ('30:FD:38:AC:F7:37', '04:A2:22:09:B1:1C'), ('30:FD:38:AC:F7:37', 'DA:31:34:3F:4C:CA'), ('30:FD:38:AC:F7:37', '50:DC:E7:1D:70:32'), ('30:FD:38:AC:F7:37', 'A4:91:B1:8B:3C:98'), ('30:FD:38:AC:F7:37', '8C:3B:AD:BA:BA:E9'), ('30:FD:38:AC:F7:37', '1C:74:0D:5A:03:B0'), ('30:FD:38:AC:F7:37', 'C0:3E:0F:11:1D:AA'), ('30:FD:38:AC:F7:37', '30:57:14:E0:02:B1'), ('30:FD:38:AC:F7:37', '10:94:BB:24:63:2F'), ('30:FD:38:AC:F7:37', '88:DE:A9:83:E4:E9'), ('30:FD:38:AC:F7:37', '38:A6:CE:14:0A:50'), ('30:FD:38:AC:F7:37', 'A4:91:B1:8B:3C:97'), ('30:FD:38:AC:F7:37', 'C8:3A:6B:34:31:2F'), ('30:FD:38:AC:F7:37', '44:E9:DD:F1:C7:14'), ('30:FD:38:AC:F7:37', 'F0:86:20:3F:05:77'), ('30:FD:38:AC:F7:37', '7A:86:20:3F:05:70'), ('30:FD:38:AC:F7:37', 'D8:31:34:3F:4C:CA'), ('30:FD:38:AC:F7:37', 'B2:72:82:7F:AB:F2'), ('30:FD:38:AC:F7:37', '04:A2:22:09:B1:1A'), ('30:FD:38:AC:F7:37', 'D2:AC:7E:21:50:32'), ('30:FD:38:AC:F7:37', '7A:86:20:3F:05:71'), ('30:FD:38:AC:F7:37', '44:E9:DD:5E:6E:00'), ('30:FD:38:AC:F7:37', '24:4C:E3:48:51:C1'), ('30:FD:38:AC:F7:37', '62:A2:22:09:B1:18'), ('30:FD:38:AC:F7:37', '38:A6:CE:14:0A:52'), ('30:FD:38:AC:F7:37', 'E0:48:AF:01:0C:A7'), ('30:FD:38:AC:F7:37', 'D2:2C:7E:0B:1B:32'), ('30:FD:38:AC:F7:37', '20:47:ED:9E:A6:12'), ('30:FD:38:AC:F7:37', '48:D7:05:E5:66:AD'), ('30:FD:38:AC:F7:37', '78:67:D7:1D:80:02'), ('30:FD:38:AC:F7:37', '28:28:5D:A6:75:D8'), ('30:FD:38:AC:F7:37', '10:30:25:11:0B:46'), ('30:FD:38:AC:F7:37', 'AC:3B:77:14:D4:3D'), ('30:FD:38:AC:F7:37', 'F4:63:1F:93:89:CB'), ('30:FD:38:AC:F7:37', '00:11:32:7A:25:3D'), ('30:FD:38:AC:F7:37', '60:7E:DD:FD:43:EC'), ('30:FD:38:AC:F7:37', '3C:AB:8E:44:0D:66'), ('30:FD:38:AC:F7:37', '68:47:49:26:4F:9C'), ('30:FD:38:AC:F7:37', '90:72:82:7F:AB:F2'), ('30:FD:38:AC:F7:37', '92:72:82:7F:AB:F2'), ('30:FD:38:AC:F7:37', '90:4D:4A:50:AE:60'), ('30:FD:38:AC:F7:37', '7A:86:20:3F:05:73'), ('30:FD:38:AC:F7:37', '70:BC:10:C2:16:AB'), ('30:FD:38:AC:F7:37', '70:BC:10:D2:55:33'), ('30:FD:38:AC:F7:37', '30:F7:72:58:95:61'), ('30:FD:38:AC:F7:37', '44:E9:DD:F1:C7:12'), ('30:FD:38:AC:F7:37', '22:23:F6:E6:EA:BA'), ('30:FD:38:AC:F7:37', 'DC:4A:3E:B9:02:0A'), ('30:FD:38:AC:F7:37', '30:19:66:FD:70:31'), ('30:FD:38:AC:F7:37', '4C:57:CA:D4:A9:80'), ('30:FD:38:AC:F7:37', 'F8:B4:6A:C9:75:9D'), ('30:FD:38:AC:F7:37', '7C:D9:5C:28:AA:E8'), ('30:FD:38:AC:F7:37', '00:03:7F:2D:E2:89'), ('30:FD:38:AC:F7:37', '6A:F4:51:A6:25:41'), ('30:FD:38:AC:F7:37', 'A8:10:87:53:01:62'), ('30:FD:38:AC:F7:37', '00:0C:43:00:48:24'), ('30:FD:38:AC:F7:37', '64:CC:22:9A:65:CD'), ('30:FD:38:AC:F7:37', '00:25:92:25:E4:2E'), ('30:FD:38:AC:F7:37', '04:69:F8:56:E6:B7'), ('30:FD:38:AC:F7:37', '90:4D:4A:27:47:4C'), ('30:FD:38:AC:F7:37', '34:79:16:20:A6:1C'), ('30:FD:38:AC:F7:37', 'EC:F4:51:BF:46:CE'), ('30:FD:38:AC:F7:37', 'E4:F0:42:65:6C:13'), ('30:FD:38:AC:F7:37', '58:82:A8:11:4D:86'), ('30:FD:38:AC:F7:37', '04:A2:22:09:B1:19'), ('AC:3B:77:14:D4:40', 'AE:3B:77:14:D6:41'), ('AC:3B:77:14:D4:40', 'C0:3E:0F:11:0F:4F'), ('AC:3B:77:14:D4:40', '20:47:ED:A8:22:B2'), ('AC:3B:77:14:D4:40', '98:D8:63:A7:C5:04'), ('AC:3B:77:14:D4:40', 'B0:19:C6:AD:9C:2D'), ('AC:3B:77:14:D4:40', 'BC:CF:4F:7F:DD:6C'), ('AC:3B:77:14:D4:40', 'C8:3A:35:F3:FB:F8'), ('AC:3B:77:14:D4:40', 'E0:48:AF:01:8C:DB'), ('AC:3B:77:14:D4:40', 'E2:48:AF:01:0C:A7'), ('AC:3B:77:14:D4:40', '88:DE:A9:83:E4:E7'), ('AC:3B:77:14:D4:40', '04:A2:22:09:B1:1C'), ('AC:3B:77:14:D4:40', 'DA:31:34:3F:4C:CA'), ('AC:3B:77:14:D4:40', '50:DC:E7:1D:70:32'), ('AC:3B:77:14:D4:40', 'A4:91:B1:8B:3C:98'), ('AC:3B:77:14:D4:40', '8C:3B:AD:BA:BA:E9'), ('AC:3B:77:14:D4:40', '1C:74:0D:5A:03:B0'), ('AC:3B:77:14:D4:40', 'C0:3E:0F:11:1D:AA'), ('AC:3B:77:14:D4:40', '30:57:14:E0:02:B1'), ('AC:3B:77:14:D4:40', '10:94:BB:24:63:2F'), ('AC:3B:77:14:D4:40', '88:DE:A9:83:E4:E9'), ('AC:3B:77:14:D4:40', '38:A6:CE:14:0A:50'), ('AC:3B:77:14:D4:40', 'A4:91:B1:8B:3C:97'), ('AC:3B:77:14:D4:40', 'C8:3A:6B:34:31:2F'), ('AC:3B:77:14:D4:40', '44:E9:DD:F1:C7:14'), ('AC:3B:77:14:D4:40', 'F0:86:20:3F:05:77'), ('AC:3B:77:14:D4:40', '7A:86:20:3F:05:70'), ('AC:3B:77:14:D4:40', 'D8:31:34:3F:4C:CA'), ('AC:3B:77:14:D4:40', 'B2:72:82:7F:AB:F2'), ('AC:3B:77:14:D4:40', '04:A2:22:09:B1:1A'), ('AC:3B:77:14:D4:40', 'D2:AC:7E:21:50:32'), ('AC:3B:77:14:D4:40', '7A:86:20:3F:05:71'), ('AC:3B:77:14:D4:40', '44:E9:DD:5E:6E:00'), ('AC:3B:77:14:D4:40', '24:4C:E3:48:51:C1'), ('AC:3B:77:14:D4:40', '62:A2:22:09:B1:18'), ('AC:3B:77:14:D4:40', '38:A6:CE:14:0A:52'), ('AC:3B:77:14:D4:40', 'E0:48:AF:01:0C:A7'), ('AC:3B:77:14:D4:40', 'D2:2C:7E:0B:1B:32'), ('AC:3B:77:14:D4:40', '20:47:ED:9E:A6:12'), ('AC:3B:77:14:D4:40', '48:D7:05:E5:66:AD'), ('AC:3B:77:14:D4:40', '78:67:D7:1D:80:02'), ('AC:3B:77:14:D4:40', '28:28:5D:A6:75:D8'), ('AC:3B:77:14:D4:40', '10:30:25:11:0B:46'), ('AC:3B:77:14:D4:40', 'AC:3B:77:14:D4:3D'), ('AC:3B:77:14:D4:40', 'F4:63:1F:93:89:CB'), ('AC:3B:77:14:D4:40', '00:11:32:7A:25:3D'), ('AC:3B:77:14:D4:40', '60:7E:DD:FD:43:EC'), ('AC:3B:77:14:D4:40', '3C:AB:8E:44:0D:66'), ('AC:3B:77:14:D4:40', '68:47:49:26:4F:9C'), ('AC:3B:77:14:D4:40', '90:72:82:7F:AB:F2'), ('AC:3B:77:14:D4:40', '92:72:82:7F:AB:F2'), ('AC:3B:77:14:D4:40', '90:4D:4A:50:AE:60'), ('AC:3B:77:14:D4:40', '7A:86:20:3F:05:73'), ('AC:3B:77:14:D4:40', '70:BC:10:C2:16:AB'), ('AC:3B:77:14:D4:40', '70:BC:10:D2:55:33'), ('AC:3B:77:14:D4:40', '30:F7:72:58:95:61'), ('AC:3B:77:14:D4:40', '44:E9:DD:F1:C7:12'), ('AC:3B:77:14:D4:40', '22:23:F6:E6:EA:BA'), ('AC:3B:77:14:D4:40', 'DC:4A:3E:B9:02:0A'), ('AC:3B:77:14:D4:40', '30:19:66:FD:70:31'), ('AC:3B:77:14:D4:40', '4C:57:CA:D4:A9:80'), ('AC:3B:77:14:D4:40', 'F8:B4:6A:C9:75:9D'), ('AC:3B:77:14:D4:40', '7C:D9:5C:28:AA:E8'), ('AC:3B:77:14:D4:40', '00:03:7F:2D:E2:89'), ('AC:3B:77:14:D4:40', '6A:F4:51:A6:25:41'), ('AC:3B:77:14:D4:40', 'A8:10:87:53:01:62'), ('AC:3B:77:14:D4:40', '00:0C:43:00:48:24'), ('AC:3B:77:14:D4:40', '64:CC:22:9A:65:CD'), ('AC:3B:77:14:D4:40', '00:25:92:25:E4:2E'), ('AC:3B:77:14:D4:40', '04:69:F8:56:E6:B7'), ('AC:3B:77:14:D4:40', '90:4D:4A:27:47:4C'), ('AC:3B:77:14:D4:40', '34:79:16:20:A6:1C'), ('AC:3B:77:14:D4:40', 'EC:F4:51:BF:46:CE'), ('AC:3B:77:14:D4:40', 'E4:F0:42:65:6C:13'), ('AC:3B:77:14:D4:40', '58:82:A8:11:4D:86'), ('AC:3B:77:14:D4:40', '04:A2:22:09:B1:19'), ('AC:3B:77:14:D4:40', '04:69:F8:6C:18:7F'), ('AC:3B:77:14:D4:40', '90:72:82:87:C8:76'), ('AC:3B:77:14:D4:40', 'F8:2D:7C:56:04:B5'), ('AC:3B:77:14:D4:40', 'B0:35:B5:AE:2E:76'), ('AC:3B:77:14:D4:40', 'B8:EE:0E:4E:FB:8D'), ('AE:3B:77:14:D6:41', 'C0:3E:0F:11:0F:4F'), ('AE:3B:77:14:D6:41', '20:47:ED:A8:22:B2'), ('AE:3B:77:14:D6:41', '98:D8:63:A7:C5:04'), ('AE:3B:77:14:D6:41', 'B0:19:C6:AD:9C:2D'), ('AE:3B:77:14:D6:41', 'BC:CF:4F:7F:DD:6C'), ('AE:3B:77:14:D6:41', 'C8:3A:35:F3:FB:F8'), ('AE:3B:77:14:D6:41', 'E0:48:AF:01:8C:DB'), ('AE:3B:77:14:D6:41', 'E2:48:AF:01:0C:A7'), ('AE:3B:77:14:D6:41', '88:DE:A9:83:E4:E7'), ('AE:3B:77:14:D6:41', '04:A2:22:09:B1:1C'), ('AE:3B:77:14:D6:41', 'DA:31:34:3F:4C:CA'), ('AE:3B:77:14:D6:41', '50:DC:E7:1D:70:32'), ('AE:3B:77:14:D6:41', 'A4:91:B1:8B:3C:98'), ('AE:3B:77:14:D6:41', '8C:3B:AD:BA:BA:E9'), ('AE:3B:77:14:D6:41', '1C:74:0D:5A:03:B0'), ('AE:3B:77:14:D6:41', 'C0:3E:0F:11:1D:AA'), ('AE:3B:77:14:D6:41', '30:57:14:E0:02:B1'), ('AE:3B:77:14:D6:41', '10:94:BB:24:63:2F'), ('AE:3B:77:14:D6:41', '88:DE:A9:83:E4:E9'), ('AE:3B:77:14:D6:41', '38:A6:CE:14:0A:50'), ('AE:3B:77:14:D6:41', 'A4:91:B1:8B:3C:97'), ('AE:3B:77:14:D6:41', 'C8:3A:6B:34:31:2F'), ('AE:3B:77:14:D6:41', '44:E9:DD:F1:C7:14'), ('AE:3B:77:14:D6:41', 'F0:86:20:3F:05:77'), ('AE:3B:77:14:D6:41', '7A:86:20:3F:05:70'), ('AE:3B:77:14:D6:41', 'D8:31:34:3F:4C:CA'), ('AE:3B:77:14:D6:41', 'B2:72:82:7F:AB:F2'), ('AE:3B:77:14:D6:41', '04:A2:22:09:B1:1A'), ('AE:3B:77:14:D6:41', 'D2:AC:7E:21:50:32'), ('AE:3B:77:14:D6:41', '7A:86:20:3F:05:71'), ('AE:3B:77:14:D6:41', '44:E9:DD:5E:6E:00'), ('AE:3B:77:14:D6:41', '24:4C:E3:48:51:C1'), ('AE:3B:77:14:D6:41', '62:A2:22:09:B1:18'), ('AE:3B:77:14:D6:41', '38:A6:CE:14:0A:52'), ('AE:3B:77:14:D6:41', 'E0:48:AF:01:0C:A7'), ('AE:3B:77:14:D6:41', 'D2:2C:7E:0B:1B:32'), ('AE:3B:77:14:D6:41', '20:47:ED:9E:A6:12'), ('AE:3B:77:14:D6:41', '48:D7:05:E5:66:AD'), ('AE:3B:77:14:D6:41', '78:67:D7:1D:80:02'), ('AE:3B:77:14:D6:41', '28:28:5D:A6:75:D8'), ('AE:3B:77:14:D6:41', '10:30:25:11:0B:46'), ('AE:3B:77:14:D6:41', 'AC:3B:77:14:D4:3D'), ('AE:3B:77:14:D6:41', 'F4:63:1F:93:89:CB'), ('AE:3B:77:14:D6:41', '00:11:32:7A:25:3D'), ('AE:3B:77:14:D6:41', '60:7E:DD:FD:43:EC'), ('AE:3B:77:14:D6:41', '3C:AB:8E:44:0D:66'), ('AE:3B:77:14:D6:41', '68:47:49:26:4F:9C'), ('AE:3B:77:14:D6:41', '90:72:82:7F:AB:F2'), ('AE:3B:77:14:D6:41', '92:72:82:7F:AB:F2'), ('AE:3B:77:14:D6:41', '90:4D:4A:50:AE:60'), ('AE:3B:77:14:D6:41', '7A:86:20:3F:05:73'), ('AE:3B:77:14:D6:41', '70:BC:10:C2:16:AB'), ('AE:3B:77:14:D6:41', '70:BC:10:D2:55:33'), ('AE:3B:77:14:D6:41', '30:F7:72:58:95:61'), ('AE:3B:77:14:D6:41', '44:E9:DD:F1:C7:12'), ('AE:3B:77:14:D6:41', '22:23:F6:E6:EA:BA'), ('AE:3B:77:14:D6:41', 'DC:4A:3E:B9:02:0A'), ('AE:3B:77:14:D6:41', '30:19:66:FD:70:31'), ('AE:3B:77:14:D6:41', '4C:57:CA:D4:A9:80'), ('AE:3B:77:14:D6:41', 'F8:B4:6A:C9:75:9D'), ('AE:3B:77:14:D6:41', '7C:D9:5C:28:AA:E8'), ('AE:3B:77:14:D6:41', '00:03:7F:2D:E2:89'), ('AE:3B:77:14:D6:41', '6A:F4:51:A6:25:41'), ('AE:3B:77:14:D6:41', 'A8:10:87:53:01:62'), ('AE:3B:77:14:D6:41', '00:0C:43:00:48:24'), ('AE:3B:77:14:D6:41', '64:CC:22:9A:65:CD'), ('AE:3B:77:14:D6:41', '00:25:92:25:E4:2E'), ('AE:3B:77:14:D6:41', '04:69:F8:56:E6:B7'), ('AE:3B:77:14:D6:41', '90:4D:4A:27:47:4C'), ('AE:3B:77:14:D6:41', '34:79:16:20:A6:1C'), ('AE:3B:77:14:D6:41', 'EC:F4:51:BF:46:CE'), ('AE:3B:77:14:D6:41', 'E4:F0:42:65:6C:13'), ('AE:3B:77:14:D6:41', '58:82:A8:11:4D:86'), ('AE:3B:77:14:D6:41', '04:A2:22:09:B1:19'), ('AE:3B:77:14:D6:41', '04:69:F8:6C:18:7F'), ('AE:3B:77:14:D6:41', '90:72:82:87:C8:76'), ('AE:3B:77:14:D6:41', 'F8:2D:7C:56:04:B5'), ('AE:3B:77:14:D6:41', 'B0:35:B5:AE:2E:76'), ('AE:3B:77:14:D6:41', 'B8:EE:0E:4E:FB:8D'), ('C0:3E:0F:11:0F:4F', '20:47:ED:A8:22:B2'), ('C0:3E:0F:11:0F:4F', '98:D8:63:A7:C5:04'), ('C0:3E:0F:11:0F:4F', 'B0:19:C6:AD:9C:2D'), ('C0:3E:0F:11:0F:4F', 'BC:CF:4F:7F:DD:6C'), ('C0:3E:0F:11:0F:4F', 'C8:3A:35:F3:FB:F8'), ('C0:3E:0F:11:0F:4F', 'E0:48:AF:01:8C:DB'), ('C0:3E:0F:11:0F:4F', 'E2:48:AF:01:0C:A7'), ('C0:3E:0F:11:0F:4F', '88:DE:A9:83:E4:E7'), ('C0:3E:0F:11:0F:4F', '04:A2:22:09:B1:1C'), ('C0:3E:0F:11:0F:4F', 'DA:31:34:3F:4C:CA'), ('C0:3E:0F:11:0F:4F', '50:DC:E7:1D:70:32'), ('C0:3E:0F:11:0F:4F', 'A4:91:B1:8B:3C:98'), ('C0:3E:0F:11:0F:4F', '8C:3B:AD:BA:BA:E9'), ('C0:3E:0F:11:0F:4F', '1C:74:0D:5A:03:B0'), ('C0:3E:0F:11:0F:4F', 'C0:3E:0F:11:1D:AA'), ('C0:3E:0F:11:0F:4F', '30:57:14:E0:02:B1'), ('C0:3E:0F:11:0F:4F', '10:94:BB:24:63:2F'), ('C0:3E:0F:11:0F:4F', '88:DE:A9:83:E4:E9'), ('C0:3E:0F:11:0F:4F', '38:A6:CE:14:0A:50'), ('C0:3E:0F:11:0F:4F', 'A4:91:B1:8B:3C:97'), ('C0:3E:0F:11:0F:4F', 'C8:3A:6B:34:31:2F'), ('C0:3E:0F:11:0F:4F', '44:E9:DD:F1:C7:14'), ('C0:3E:0F:11:0F:4F', 'F0:86:20:3F:05:77'), ('C0:3E:0F:11:0F:4F', '7A:86:20:3F:05:70'), ('C0:3E:0F:11:0F:4F', 'D8:31:34:3F:4C:CA'), ('C0:3E:0F:11:0F:4F', 'B2:72:82:7F:AB:F2'), ('C0:3E:0F:11:0F:4F', '04:A2:22:09:B1:1A'), ('C0:3E:0F:11:0F:4F', 'D2:AC:7E:21:50:32'), ('C0:3E:0F:11:0F:4F', '7A:86:20:3F:05:71'), ('C0:3E:0F:11:0F:4F', '44:E9:DD:5E:6E:00'), ('C0:3E:0F:11:0F:4F', '24:4C:E3:48:51:C1'), ('C0:3E:0F:11:0F:4F', '62:A2:22:09:B1:18'), ('C0:3E:0F:11:0F:4F', '38:A6:CE:14:0A:52'), ('C0:3E:0F:11:0F:4F', 'E0:48:AF:01:0C:A7'), ('C0:3E:0F:11:0F:4F', 'D2:2C:7E:0B:1B:32'), ('C0:3E:0F:11:0F:4F', '20:47:ED:9E:A6:12'), ('C0:3E:0F:11:0F:4F', '48:D7:05:E5:66:AD'), ('C0:3E:0F:11:0F:4F', '78:67:D7:1D:80:02'), ('C0:3E:0F:11:0F:4F', '28:28:5D:A6:75:D8'), ('C0:3E:0F:11:0F:4F', '10:30:25:11:0B:46'), ('C0:3E:0F:11:0F:4F', 'AC:3B:77:14:D4:3D'), ('C0:3E:0F:11:0F:4F', 'F4:63:1F:93:89:CB'), ('C0:3E:0F:11:0F:4F', '00:11:32:7A:25:3D'), ('C0:3E:0F:11:0F:4F', '60:7E:DD:FD:43:EC'), ('C0:3E:0F:11:0F:4F', '3C:AB:8E:44:0D:66'), ('C0:3E:0F:11:0F:4F', '68:47:49:26:4F:9C'), ('C0:3E:0F:11:0F:4F', '90:72:82:7F:AB:F2'), ('C0:3E:0F:11:0F:4F', '92:72:82:7F:AB:F2'), ('C0:3E:0F:11:0F:4F', '90:4D:4A:50:AE:60'), ('C0:3E:0F:11:0F:4F', '7A:86:20:3F:05:73'), ('C0:3E:0F:11:0F:4F', '70:BC:10:C2:16:AB'), ('C0:3E:0F:11:0F:4F', '70:BC:10:D2:55:33'), ('C0:3E:0F:11:0F:4F', '30:F7:72:58:95:61'), ('C0:3E:0F:11:0F:4F', '44:E9:DD:F1:C7:12'), ('C0:3E:0F:11:0F:4F', '22:23:F6:E6:EA:BA'), ('C0:3E:0F:11:0F:4F', 'DC:4A:3E:B9:02:0A'), ('C0:3E:0F:11:0F:4F', '30:19:66:FD:70:31'), ('C0:3E:0F:11:0F:4F', '4C:57:CA:D4:A9:80'), ('C0:3E:0F:11:0F:4F', 'F8:B4:6A:C9:75:9D'), ('C0:3E:0F:11:0F:4F', '7C:D9:5C:28:AA:E8'), ('C0:3E:0F:11:0F:4F', '00:03:7F:2D:E2:89'), ('C0:3E:0F:11:0F:4F', '6A:F4:51:A6:25:41'), ('C0:3E:0F:11:0F:4F', 'A8:10:87:53:01:62'), ('C0:3E:0F:11:0F:4F', '00:0C:43:00:48:24'), ('C0:3E:0F:11:0F:4F', '64:CC:22:9A:65:CD'), ('C0:3E:0F:11:0F:4F', '00:25:92:25:E4:2E'), ('C0:3E:0F:11:0F:4F', '04:69:F8:56:E6:B7'), ('C0:3E:0F:11:0F:4F', '90:4D:4A:27:47:4C'), ('C0:3E:0F:11:0F:4F', '34:79:16:20:A6:1C'), ('C0:3E:0F:11:0F:4F', 'EC:F4:51:BF:46:CE'), ('C0:3E:0F:11:0F:4F', 'E4:F0:42:65:6C:13'), ('C0:3E:0F:11:0F:4F', '58:82:A8:11:4D:86'), ('C0:3E:0F:11:0F:4F', '04:A2:22:09:B1:19'), ('C0:3E:0F:11:0F:4F', '04:69:F8:6C:18:7F'), ('C0:3E:0F:11:0F:4F', '90:72:82:87:C8:76'), ('C0:3E:0F:11:0F:4F', 'F8:2D:7C:56:04:B5'), ('C0:3E:0F:11:0F:4F', 'B0:35:B5:AE:2E:76'), ('20:47:ED:A8:22:B2', '98:D8:63:A7:C5:04'), ('20:47:ED:A8:22:B2', 'B0:19:C6:AD:9C:2D'), ('20:47:ED:A8:22:B2', 'BC:CF:4F:7F:DD:6C'), ('20:47:ED:A8:22:B2', 'C8:3A:35:F3:FB:F8'), ('20:47:ED:A8:22:B2', 'E0:48:AF:01:8C:DB'), ('20:47:ED:A8:22:B2', 'E2:48:AF:01:0C:A7'), ('20:47:ED:A8:22:B2', '88:DE:A9:83:E4:E7'), ('20:47:ED:A8:22:B2', '04:A2:22:09:B1:1C'), ('20:47:ED:A8:22:B2', 'DA:31:34:3F:4C:CA'), ('20:47:ED:A8:22:B2', '50:DC:E7:1D:70:32'), ('20:47:ED:A8:22:B2', 'A4:91:B1:8B:3C:98'), ('20:47:ED:A8:22:B2', '8C:3B:AD:BA:BA:E9'), ('20:47:ED:A8:22:B2', '1C:74:0D:5A:03:B0'), ('20:47:ED:A8:22:B2', 'C0:3E:0F:11:1D:AA'), ('20:47:ED:A8:22:B2', '30:57:14:E0:02:B1'), ('20:47:ED:A8:22:B2', '10:94:BB:24:63:2F'), ('20:47:ED:A8:22:B2', '88:DE:A9:83:E4:E9'), ('20:47:ED:A8:22:B2', '38:A6:CE:14:0A:50'), ('20:47:ED:A8:22:B2', 'A4:91:B1:8B:3C:97'), ('20:47:ED:A8:22:B2', 'C8:3A:6B:34:31:2F'), ('20:47:ED:A8:22:B2', '44:E9:DD:F1:C7:14'), ('20:47:ED:A8:22:B2', 'F0:86:20:3F:05:77'), ('20:47:ED:A8:22:B2', '7A:86:20:3F:05:70'), ('20:47:ED:A8:22:B2', 'D8:31:34:3F:4C:CA'), ('20:47:ED:A8:22:B2', 'B2:72:82:7F:AB:F2'), ('20:47:ED:A8:22:B2', '04:A2:22:09:B1:1A'), ('20:47:ED:A8:22:B2', 'D2:AC:7E:21:50:32'), ('20:47:ED:A8:22:B2', '7A:86:20:3F:05:71'), ('20:47:ED:A8:22:B2', '44:E9:DD:5E:6E:00'), ('20:47:ED:A8:22:B2', '24:4C:E3:48:51:C1'), ('20:47:ED:A8:22:B2', '62:A2:22:09:B1:18'), ('20:47:ED:A8:22:B2', '38:A6:CE:14:0A:52'), ('20:47:ED:A8:22:B2', 'E0:48:AF:01:0C:A7'), ('20:47:ED:A8:22:B2', 'D2:2C:7E:0B:1B:32'), ('20:47:ED:A8:22:B2', '20:47:ED:9E:A6:12'), ('20:47:ED:A8:22:B2', '48:D7:05:E5:66:AD'), ('20:47:ED:A8:22:B2', '78:67:D7:1D:80:02'), ('20:47:ED:A8:22:B2', '28:28:5D:A6:75:D8'), ('20:47:ED:A8:22:B2', '10:30:25:11:0B:46'), ('20:47:ED:A8:22:B2', 'AC:3B:77:14:D4:3D'), ('20:47:ED:A8:22:B2', 'F4:63:1F:93:89:CB'), ('20:47:ED:A8:22:B2', '00:11:32:7A:25:3D'), ('20:47:ED:A8:22:B2', '60:7E:DD:FD:43:EC'), ('20:47:ED:A8:22:B2', '3C:AB:8E:44:0D:66'), ('20:47:ED:A8:22:B2', '68:47:49:26:4F:9C'), ('20:47:ED:A8:22:B2', '90:72:82:7F:AB:F2'), ('20:47:ED:A8:22:B2', '92:72:82:7F:AB:F2'), ('20:47:ED:A8:22:B2', '90:4D:4A:50:AE:60'), ('20:47:ED:A8:22:B2', '7A:86:20:3F:05:73'), ('20:47:ED:A8:22:B2', '70:BC:10:C2:16:AB'), ('20:47:ED:A8:22:B2', '70:BC:10:D2:55:33'), ('20:47:ED:A8:22:B2', '30:F7:72:58:95:61'), ('20:47:ED:A8:22:B2', '44:E9:DD:F1:C7:12'), ('20:47:ED:A8:22:B2', '22:23:F6:E6:EA:BA'), ('20:47:ED:A8:22:B2', 'DC:4A:3E:B9:02:0A'), ('20:47:ED:A8:22:B2', '30:19:66:FD:70:31'), ('20:47:ED:A8:22:B2', '4C:57:CA:D4:A9:80'), ('20:47:ED:A8:22:B2', 'F8:B4:6A:C9:75:9D'), ('20:47:ED:A8:22:B2', '7C:D9:5C:28:AA:E8'), ('20:47:ED:A8:22:B2', '00:03:7F:2D:E2:89'), ('20:47:ED:A8:22:B2', '6A:F4:51:A6:25:41'), ('20:47:ED:A8:22:B2', 'A8:10:87:53:01:62'), ('20:47:ED:A8:22:B2', '00:0C:43:00:48:24'), ('20:47:ED:A8:22:B2', '64:CC:22:9A:65:CD'), ('20:47:ED:A8:22:B2', '00:25:92:25:E4:2E'), ('20:47:ED:A8:22:B2', '04:69:F8:56:E6:B7'), ('20:47:ED:A8:22:B2', '90:4D:4A:27:47:4C'), ('20:47:ED:A8:22:B2', '34:79:16:20:A6:1C'), ('20:47:ED:A8:22:B2', 'EC:F4:51:BF:46:CE'), ('20:47:ED:A8:22:B2', 'E4:F0:42:65:6C:13'), ('20:47:ED:A8:22:B2', '58:82:A8:11:4D:86'), ('20:47:ED:A8:22:B2', '04:A2:22:09:B1:19'), ('20:47:ED:A8:22:B2', '04:69:F8:6C:18:7F'), ('20:47:ED:A8:22:B2', '90:72:82:87:C8:76'), ('20:47:ED:A8:22:B2', 'F8:2D:7C:56:04:B5'), ('20:47:ED:A8:22:B2', 'B0:35:B5:AE:2E:76'), ('98:D8:63:A7:C5:04', 'B0:19:C6:AD:9C:2D'), ('98:D8:63:A7:C5:04', 'BC:CF:4F:7F:DD:6C'), ('98:D8:63:A7:C5:04', 'C8:3A:35:F3:FB:F8'), ('98:D8:63:A7:C5:04', 'E0:48:AF:01:8C:DB'), ('98:D8:63:A7:C5:04', 'E2:48:AF:01:0C:A7'), ('98:D8:63:A7:C5:04', '88:DE:A9:83:E4:E7'), ('98:D8:63:A7:C5:04', '04:A2:22:09:B1:1C'), ('98:D8:63:A7:C5:04', 'DA:31:34:3F:4C:CA'), ('98:D8:63:A7:C5:04', '50:DC:E7:1D:70:32'), ('98:D8:63:A7:C5:04', 'A4:91:B1:8B:3C:98'), ('98:D8:63:A7:C5:04', '8C:3B:AD:BA:BA:E9'), ('98:D8:63:A7:C5:04', '1C:74:0D:5A:03:B0'), ('98:D8:63:A7:C5:04', 'C0:3E:0F:11:1D:AA'), ('98:D8:63:A7:C5:04', '30:57:14:E0:02:B1'), ('98:D8:63:A7:C5:04', '10:94:BB:24:63:2F'), ('98:D8:63:A7:C5:04', '88:DE:A9:83:E4:E9'), ('98:D8:63:A7:C5:04', '38:A6:CE:14:0A:50'), ('98:D8:63:A7:C5:04', 'A4:91:B1:8B:3C:97'), ('98:D8:63:A7:C5:04', 'C8:3A:6B:34:31:2F'), ('98:D8:63:A7:C5:04', '44:E9:DD:F1:C7:14'), ('98:D8:63:A7:C5:04', 'F0:86:20:3F:05:77'), ('98:D8:63:A7:C5:04', '7A:86:20:3F:05:70'), ('98:D8:63:A7:C5:04', 'D8:31:34:3F:4C:CA'), ('98:D8:63:A7:C5:04', 'B2:72:82:7F:AB:F2'), ('98:D8:63:A7:C5:04', '04:A2:22:09:B1:1A'), ('98:D8:63:A7:C5:04', 'D2:AC:7E:21:50:32'), ('98:D8:63:A7:C5:04', '7A:86:20:3F:05:71'), ('98:D8:63:A7:C5:04', '44:E9:DD:5E:6E:00'), ('98:D8:63:A7:C5:04', '24:4C:E3:48:51:C1'), ('98:D8:63:A7:C5:04', '62:A2:22:09:B1:18'), ('98:D8:63:A7:C5:04', '38:A6:CE:14:0A:52'), ('98:D8:63:A7:C5:04', 'E0:48:AF:01:0C:A7'), ('98:D8:63:A7:C5:04', 'D2:2C:7E:0B:1B:32'), ('98:D8:63:A7:C5:04', '20:47:ED:9E:A6:12'), ('98:D8:63:A7:C5:04', '48:D7:05:E5:66:AD'), ('98:D8:63:A7:C5:04', '78:67:D7:1D:80:02'), ('98:D8:63:A7:C5:04', '28:28:5D:A6:75:D8'), ('98:D8:63:A7:C5:04', '10:30:25:11:0B:46'), ('98:D8:63:A7:C5:04', 'AC:3B:77:14:D4:3D'), ('98:D8:63:A7:C5:04', 'F4:63:1F:93:89:CB'), ('98:D8:63:A7:C5:04', '00:11:32:7A:25:3D'), ('98:D8:63:A7:C5:04', '60:7E:DD:FD:43:EC'), ('98:D8:63:A7:C5:04', '3C:AB:8E:44:0D:66'), ('98:D8:63:A7:C5:04', '68:47:49:26:4F:9C'), ('98:D8:63:A7:C5:04', '90:72:82:7F:AB:F2'), ('98:D8:63:A7:C5:04', '92:72:82:7F:AB:F2'), ('98:D8:63:A7:C5:04', '90:4D:4A:50:AE:60'), ('98:D8:63:A7:C5:04', '7A:86:20:3F:05:73'), ('98:D8:63:A7:C5:04', '70:BC:10:C2:16:AB'), ('98:D8:63:A7:C5:04', '70:BC:10:D2:55:33'), ('98:D8:63:A7:C5:04', '30:F7:72:58:95:61'), ('98:D8:63:A7:C5:04', '44:E9:DD:F1:C7:12'), ('98:D8:63:A7:C5:04', '22:23:F6:E6:EA:BA'), ('98:D8:63:A7:C5:04', 'DC:4A:3E:B9:02:0A'), ('98:D8:63:A7:C5:04', '30:19:66:FD:70:31'), ('98:D8:63:A7:C5:04', '4C:57:CA:D4:A9:80'), ('98:D8:63:A7:C5:04', 'F8:B4:6A:C9:75:9D'), ('98:D8:63:A7:C5:04', '7C:D9:5C:28:AA:E8'), ('98:D8:63:A7:C5:04', '00:03:7F:2D:E2:89'), ('98:D8:63:A7:C5:04', '6A:F4:51:A6:25:41'), ('98:D8:63:A7:C5:04', 'A8:10:87:53:01:62'), ('98:D8:63:A7:C5:04', '00:0C:43:00:48:24'), ('98:D8:63:A7:C5:04', '64:CC:22:9A:65:CD'), ('98:D8:63:A7:C5:04', '00:25:92:25:E4:2E'), ('98:D8:63:A7:C5:04', '04:69:F8:56:E6:B7'), ('98:D8:63:A7:C5:04', '90:4D:4A:27:47:4C'), ('98:D8:63:A7:C5:04', '34:79:16:20:A6:1C'), ('98:D8:63:A7:C5:04', 'EC:F4:51:BF:46:CE'), ('98:D8:63:A7:C5:04', 'E4:F0:42:65:6C:13'), ('98:D8:63:A7:C5:04', '58:82:A8:11:4D:86'), ('98:D8:63:A7:C5:04', '04:A2:22:09:B1:19'), ('98:D8:63:A7:C5:04', '04:69:F8:6C:18:7F'), ('98:D8:63:A7:C5:04', '90:72:82:87:C8:76'), ('B0:19:C6:AD:9C:2D', 'BC:CF:4F:7F:DD:6C'), ('B0:19:C6:AD:9C:2D', 'C8:3A:35:F3:FB:F8'), ('B0:19:C6:AD:9C:2D', 'E0:48:AF:01:8C:DB'), ('B0:19:C6:AD:9C:2D', 'E2:48:AF:01:0C:A7'), ('B0:19:C6:AD:9C:2D', '88:DE:A9:83:E4:E7'), ('B0:19:C6:AD:9C:2D', '04:A2:22:09:B1:1C'), ('B0:19:C6:AD:9C:2D', 'DA:31:34:3F:4C:CA'), ('B0:19:C6:AD:9C:2D', '50:DC:E7:1D:70:32'), ('B0:19:C6:AD:9C:2D', 'A4:91:B1:8B:3C:98'), ('B0:19:C6:AD:9C:2D', '8C:3B:AD:BA:BA:E9'), ('B0:19:C6:AD:9C:2D', '1C:74:0D:5A:03:B0'), ('B0:19:C6:AD:9C:2D', 'C0:3E:0F:11:1D:AA'), ('B0:19:C6:AD:9C:2D', '30:57:14:E0:02:B1'), ('B0:19:C6:AD:9C:2D', '10:94:BB:24:63:2F'), ('B0:19:C6:AD:9C:2D', '88:DE:A9:83:E4:E9'), ('B0:19:C6:AD:9C:2D', '38:A6:CE:14:0A:50'), ('B0:19:C6:AD:9C:2D', 'A4:91:B1:8B:3C:97'), ('B0:19:C6:AD:9C:2D', 'C8:3A:6B:34:31:2F'), ('B0:19:C6:AD:9C:2D', '44:E9:DD:F1:C7:14'), ('B0:19:C6:AD:9C:2D', 'F0:86:20:3F:05:77'), ('B0:19:C6:AD:9C:2D', '7A:86:20:3F:05:70'), ('B0:19:C6:AD:9C:2D', 'D8:31:34:3F:4C:CA'), ('B0:19:C6:AD:9C:2D', 'B2:72:82:7F:AB:F2'), ('B0:19:C6:AD:9C:2D', '04:A2:22:09:B1:1A'), ('B0:19:C6:AD:9C:2D', 'D2:AC:7E:21:50:32'), ('B0:19:C6:AD:9C:2D', '7A:86:20:3F:05:71'), ('B0:19:C6:AD:9C:2D', '44:E9:DD:5E:6E:00'), ('B0:19:C6:AD:9C:2D', '24:4C:E3:48:51:C1'), ('B0:19:C6:AD:9C:2D', '62:A2:22:09:B1:18'), ('B0:19:C6:AD:9C:2D', '38:A6:CE:14:0A:52'), ('B0:19:C6:AD:9C:2D', 'E0:48:AF:01:0C:A7'), ('B0:19:C6:AD:9C:2D', 'D2:2C:7E:0B:1B:32'), ('B0:19:C6:AD:9C:2D', '20:47:ED:9E:A6:12'), ('B0:19:C6:AD:9C:2D', '48:D7:05:E5:66:AD'), ('B0:19:C6:AD:9C:2D', '78:67:D7:1D:80:02'), ('B0:19:C6:AD:9C:2D', '28:28:5D:A6:75:D8'), ('B0:19:C6:AD:9C:2D', '10:30:25:11:0B:46'), ('B0:19:C6:AD:9C:2D', 'AC:3B:77:14:D4:3D'), ('B0:19:C6:AD:9C:2D', 'F4:63:1F:93:89:CB'), ('B0:19:C6:AD:9C:2D', '00:11:32:7A:25:3D'), ('B0:19:C6:AD:9C:2D', '60:7E:DD:FD:43:EC'), ('B0:19:C6:AD:9C:2D', '3C:AB:8E:44:0D:66'), ('B0:19:C6:AD:9C:2D', '68:47:49:26:4F:9C'), ('B0:19:C6:AD:9C:2D', '90:72:82:7F:AB:F2'), ('B0:19:C6:AD:9C:2D', '92:72:82:7F:AB:F2'), ('B0:19:C6:AD:9C:2D', '90:4D:4A:50:AE:60'), ('B0:19:C6:AD:9C:2D', '7A:86:20:3F:05:73'), ('B0:19:C6:AD:9C:2D', '70:BC:10:C2:16:AB'), ('B0:19:C6:AD:9C:2D', '70:BC:10:D2:55:33'), ('B0:19:C6:AD:9C:2D', '30:F7:72:58:95:61'), ('B0:19:C6:AD:9C:2D', '44:E9:DD:F1:C7:12'), ('B0:19:C6:AD:9C:2D', '22:23:F6:E6:EA:BA'), ('B0:19:C6:AD:9C:2D', 'DC:4A:3E:B9:02:0A'), ('B0:19:C6:AD:9C:2D', '30:19:66:FD:70:31'), ('B0:19:C6:AD:9C:2D', '4C:57:CA:D4:A9:80'), ('B0:19:C6:AD:9C:2D', 'F8:B4:6A:C9:75:9D'), ('B0:19:C6:AD:9C:2D', '7C:D9:5C:28:AA:E8'), ('B0:19:C6:AD:9C:2D', '00:03:7F:2D:E2:89'), ('B0:19:C6:AD:9C:2D', '6A:F4:51:A6:25:41'), ('B0:19:C6:AD:9C:2D', 'A8:10:87:53:01:62'), ('B0:19:C6:AD:9C:2D', '00:0C:43:00:48:24'), ('B0:19:C6:AD:9C:2D', '64:CC:22:9A:65:CD'), ('B0:19:C6:AD:9C:2D', '00:25:92:25:E4:2E'), ('B0:19:C6:AD:9C:2D', '04:69:F8:56:E6:B7'), ('B0:19:C6:AD:9C:2D', '90:4D:4A:27:47:4C'), ('B0:19:C6:AD:9C:2D', '34:79:16:20:A6:1C'), ('B0:19:C6:AD:9C:2D', 'EC:F4:51:BF:46:CE'), ('B0:19:C6:AD:9C:2D', 'E4:F0:42:65:6C:13'), ('B0:19:C6:AD:9C:2D', '58:82:A8:11:4D:86'), ('B0:19:C6:AD:9C:2D', '04:A2:22:09:B1:19'), ('BC:CF:4F:7F:DD:6C', 'C8:3A:35:F3:FB:F8'), ('BC:CF:4F:7F:DD:6C', 'E0:48:AF:01:8C:DB'), ('BC:CF:4F:7F:DD:6C', 'E2:48:AF:01:0C:A7'), ('BC:CF:4F:7F:DD:6C', '88:DE:A9:83:E4:E7'), ('BC:CF:4F:7F:DD:6C', '04:A2:22:09:B1:1C'), ('BC:CF:4F:7F:DD:6C', 'DA:31:34:3F:4C:CA'), ('BC:CF:4F:7F:DD:6C', '50:DC:E7:1D:70:32'), ('BC:CF:4F:7F:DD:6C', 'A4:91:B1:8B:3C:98'), ('BC:CF:4F:7F:DD:6C', '8C:3B:AD:BA:BA:E9'), ('BC:CF:4F:7F:DD:6C', '1C:74:0D:5A:03:B0'), ('BC:CF:4F:7F:DD:6C', 'C0:3E:0F:11:1D:AA'), ('BC:CF:4F:7F:DD:6C', '30:57:14:E0:02:B1'), ('BC:CF:4F:7F:DD:6C', '10:94:BB:24:63:2F'), ('BC:CF:4F:7F:DD:6C', '88:DE:A9:83:E4:E9'), ('BC:CF:4F:7F:DD:6C', '38:A6:CE:14:0A:50'), ('BC:CF:4F:7F:DD:6C', 'A4:91:B1:8B:3C:97'), ('BC:CF:4F:7F:DD:6C', 'C8:3A:6B:34:31:2F'), ('BC:CF:4F:7F:DD:6C', '44:E9:DD:F1:C7:14'), ('BC:CF:4F:7F:DD:6C', 'F0:86:20:3F:05:77'), ('BC:CF:4F:7F:DD:6C', '7A:86:20:3F:05:70'), ('BC:CF:4F:7F:DD:6C', 'D8:31:34:3F:4C:CA'), ('BC:CF:4F:7F:DD:6C', 'B2:72:82:7F:AB:F2'), ('BC:CF:4F:7F:DD:6C', '04:A2:22:09:B1:1A'), ('BC:CF:4F:7F:DD:6C', 'D2:AC:7E:21:50:32'), ('BC:CF:4F:7F:DD:6C', '7A:86:20:3F:05:71'), ('BC:CF:4F:7F:DD:6C', '44:E9:DD:5E:6E:00'), ('BC:CF:4F:7F:DD:6C', '24:4C:E3:48:51:C1'), ('BC:CF:4F:7F:DD:6C', '62:A2:22:09:B1:18'), ('BC:CF:4F:7F:DD:6C', '38:A6:CE:14:0A:52'), ('BC:CF:4F:7F:DD:6C', 'E0:48:AF:01:0C:A7'), ('BC:CF:4F:7F:DD:6C', 'D2:2C:7E:0B:1B:32'), ('BC:CF:4F:7F:DD:6C', '20:47:ED:9E:A6:12'), ('BC:CF:4F:7F:DD:6C', '48:D7:05:E5:66:AD'), ('BC:CF:4F:7F:DD:6C', '78:67:D7:1D:80:02'), ('BC:CF:4F:7F:DD:6C', '28:28:5D:A6:75:D8'), ('BC:CF:4F:7F:DD:6C', '10:30:25:11:0B:46'), ('BC:CF:4F:7F:DD:6C', 'AC:3B:77:14:D4:3D'), ('BC:CF:4F:7F:DD:6C', 'F4:63:1F:93:89:CB'), ('BC:CF:4F:7F:DD:6C', '00:11:32:7A:25:3D'), ('BC:CF:4F:7F:DD:6C', '60:7E:DD:FD:43:EC'), ('BC:CF:4F:7F:DD:6C', '3C:AB:8E:44:0D:66'), ('BC:CF:4F:7F:DD:6C', '68:47:49:26:4F:9C'), ('BC:CF:4F:7F:DD:6C', '90:72:82:7F:AB:F2'), ('BC:CF:4F:7F:DD:6C', '92:72:82:7F:AB:F2'), ('BC:CF:4F:7F:DD:6C', '90:4D:4A:50:AE:60'), ('BC:CF:4F:7F:DD:6C', '7A:86:20:3F:05:73'), ('BC:CF:4F:7F:DD:6C', '70:BC:10:C2:16:AB'), ('BC:CF:4F:7F:DD:6C', '70:BC:10:D2:55:33'), ('BC:CF:4F:7F:DD:6C', '30:F7:72:58:95:61'), ('BC:CF:4F:7F:DD:6C', '44:E9:DD:F1:C7:12'), ('BC:CF:4F:7F:DD:6C', '22:23:F6:E6:EA:BA'), ('BC:CF:4F:7F:DD:6C', 'DC:4A:3E:B9:02:0A'), ('BC:CF:4F:7F:DD:6C', '30:19:66:FD:70:31'), ('BC:CF:4F:7F:DD:6C', '4C:57:CA:D4:A9:80'), ('BC:CF:4F:7F:DD:6C', 'F8:B4:6A:C9:75:9D'), ('BC:CF:4F:7F:DD:6C', '7C:D9:5C:28:AA:E8'), ('BC:CF:4F:7F:DD:6C', '00:03:7F:2D:E2:89'), ('BC:CF:4F:7F:DD:6C', '6A:F4:51:A6:25:41'), ('BC:CF:4F:7F:DD:6C', 'A8:10:87:53:01:62'), ('BC:CF:4F:7F:DD:6C', '00:0C:43:00:48:24'), ('BC:CF:4F:7F:DD:6C', '64:CC:22:9A:65:CD'), ('BC:CF:4F:7F:DD:6C', '00:25:92:25:E4:2E'), ('BC:CF:4F:7F:DD:6C', '04:69:F8:56:E6:B7'), ('BC:CF:4F:7F:DD:6C', '90:4D:4A:27:47:4C'), ('BC:CF:4F:7F:DD:6C', '34:79:16:20:A6:1C'), ('BC:CF:4F:7F:DD:6C', 'EC:F4:51:BF:46:CE'), ('BC:CF:4F:7F:DD:6C', 'E4:F0:42:65:6C:13'), ('BC:CF:4F:7F:DD:6C', '58:82:A8:11:4D:86'), ('BC:CF:4F:7F:DD:6C', '04:A2:22:09:B1:19'), ('BC:CF:4F:7F:DD:6C', '04:69:F8:6C:18:7F'), ('BC:CF:4F:7F:DD:6C', '90:72:82:87:C8:76'), ('BC:CF:4F:7F:DD:6C', 'F8:2D:7C:56:04:B5'), ('BC:CF:4F:7F:DD:6C', 'B0:35:B5:AE:2E:76'), ('C8:3A:35:F3:FB:F8', 'E0:48:AF:01:8C:DB'), ('C8:3A:35:F3:FB:F8', 'E2:48:AF:01:0C:A7'), ('C8:3A:35:F3:FB:F8', '88:DE:A9:83:E4:E7'), ('C8:3A:35:F3:FB:F8', '04:A2:22:09:B1:1C'), ('C8:3A:35:F3:FB:F8', 'DA:31:34:3F:4C:CA'), ('C8:3A:35:F3:FB:F8', '50:DC:E7:1D:70:32'), ('C8:3A:35:F3:FB:F8', 'A4:91:B1:8B:3C:98'), ('C8:3A:35:F3:FB:F8', '8C:3B:AD:BA:BA:E9'), ('C8:3A:35:F3:FB:F8', '1C:74:0D:5A:03:B0'), ('C8:3A:35:F3:FB:F8', 'C0:3E:0F:11:1D:AA'), ('C8:3A:35:F3:FB:F8', '30:57:14:E0:02:B1'), ('C8:3A:35:F3:FB:F8', '10:94:BB:24:63:2F'), ('C8:3A:35:F3:FB:F8', '88:DE:A9:83:E4:E9'), ('C8:3A:35:F3:FB:F8', '38:A6:CE:14:0A:50'), ('C8:3A:35:F3:FB:F8', 'A4:91:B1:8B:3C:97'), ('C8:3A:35:F3:FB:F8', 'C8:3A:6B:34:31:2F'), ('C8:3A:35:F3:FB:F8', '44:E9:DD:F1:C7:14'), ('C8:3A:35:F3:FB:F8', 'F0:86:20:3F:05:77'), ('C8:3A:35:F3:FB:F8', '7A:86:20:3F:05:70'), ('C8:3A:35:F3:FB:F8', 'D8:31:34:3F:4C:CA'), ('C8:3A:35:F3:FB:F8', 'B2:72:82:7F:AB:F2'), ('C8:3A:35:F3:FB:F8', '04:A2:22:09:B1:1A'), ('C8:3A:35:F3:FB:F8', 'D2:AC:7E:21:50:32'), ('C8:3A:35:F3:FB:F8', '7A:86:20:3F:05:71'), ('C8:3A:35:F3:FB:F8', '44:E9:DD:5E:6E:00'), ('C8:3A:35:F3:FB:F8', '24:4C:E3:48:51:C1'), ('C8:3A:35:F3:FB:F8', '62:A2:22:09:B1:18'), ('C8:3A:35:F3:FB:F8', '38:A6:CE:14:0A:52'), ('C8:3A:35:F3:FB:F8', 'E0:48:AF:01:0C:A7'), ('C8:3A:35:F3:FB:F8', 'D2:2C:7E:0B:1B:32'), ('C8:3A:35:F3:FB:F8', '20:47:ED:9E:A6:12'), ('C8:3A:35:F3:FB:F8', '48:D7:05:E5:66:AD'), ('C8:3A:35:F3:FB:F8', '78:67:D7:1D:80:02'), ('C8:3A:35:F3:FB:F8', '28:28:5D:A6:75:D8'), ('C8:3A:35:F3:FB:F8', '10:30:25:11:0B:46'), ('C8:3A:35:F3:FB:F8', 'AC:3B:77:14:D4:3D'), ('C8:3A:35:F3:FB:F8', 'F4:63:1F:93:89:CB'), ('C8:3A:35:F3:FB:F8', '00:11:32:7A:25:3D'), ('C8:3A:35:F3:FB:F8', '60:7E:DD:FD:43:EC'), ('C8:3A:35:F3:FB:F8', '3C:AB:8E:44:0D:66'), ('C8:3A:35:F3:FB:F8', '68:47:49:26:4F:9C'), ('C8:3A:35:F3:FB:F8', '90:72:82:7F:AB:F2'), ('C8:3A:35:F3:FB:F8', '92:72:82:7F:AB:F2'), ('C8:3A:35:F3:FB:F8', '90:4D:4A:50:AE:60'), ('C8:3A:35:F3:FB:F8', '7A:86:20:3F:05:73'), ('C8:3A:35:F3:FB:F8', '70:BC:10:C2:16:AB'), ('C8:3A:35:F3:FB:F8', '70:BC:10:D2:55:33'), ('C8:3A:35:F3:FB:F8', '30:F7:72:58:95:61'), ('C8:3A:35:F3:FB:F8', '44:E9:DD:F1:C7:12'), ('C8:3A:35:F3:FB:F8', '22:23:F6:E6:EA:BA'), ('C8:3A:35:F3:FB:F8', 'DC:4A:3E:B9:02:0A'), ('C8:3A:35:F3:FB:F8', '30:19:66:FD:70:31'), ('C8:3A:35:F3:FB:F8', '4C:57:CA:D4:A9:80'), ('C8:3A:35:F3:FB:F8', 'F8:B4:6A:C9:75:9D'), ('C8:3A:35:F3:FB:F8', '7C:D9:5C:28:AA:E8'), ('C8:3A:35:F3:FB:F8', '00:03:7F:2D:E2:89'), ('C8:3A:35:F3:FB:F8', '6A:F4:51:A6:25:41'), ('C8:3A:35:F3:FB:F8', 'A8:10:87:53:01:62'), ('C8:3A:35:F3:FB:F8', '00:0C:43:00:48:24'), ('C8:3A:35:F3:FB:F8', '64:CC:22:9A:65:CD'), ('C8:3A:35:F3:FB:F8', '00:25:92:25:E4:2E'), ('C8:3A:35:F3:FB:F8', '04:69:F8:56:E6:B7'), ('C8:3A:35:F3:FB:F8', '90:4D:4A:27:47:4C'), ('C8:3A:35:F3:FB:F8', '34:79:16:20:A6:1C'), ('C8:3A:35:F3:FB:F8', 'EC:F4:51:BF:46:CE'), ('C8:3A:35:F3:FB:F8', 'E4:F0:42:65:6C:13'), ('C8:3A:35:F3:FB:F8', '58:82:A8:11:4D:86'), ('C8:3A:35:F3:FB:F8', '04:A2:22:09:B1:19'), ('E0:48:AF:01:8C:DB', 'E2:48:AF:01:0C:A7'), ('E0:48:AF:01:8C:DB', '88:DE:A9:83:E4:E7'), ('E0:48:AF:01:8C:DB', '04:A2:22:09:B1:1C'), ('E0:48:AF:01:8C:DB', 'DA:31:34:3F:4C:CA'), ('E0:48:AF:01:8C:DB', '50:DC:E7:1D:70:32'), ('E0:48:AF:01:8C:DB', 'A4:91:B1:8B:3C:98'), ('E0:48:AF:01:8C:DB', '8C:3B:AD:BA:BA:E9'), ('E0:48:AF:01:8C:DB', '1C:74:0D:5A:03:B0'), ('E0:48:AF:01:8C:DB', 'C0:3E:0F:11:1D:AA'), ('E0:48:AF:01:8C:DB', '30:57:14:E0:02:B1'), ('E0:48:AF:01:8C:DB', '10:94:BB:24:63:2F'), ('E0:48:AF:01:8C:DB', '88:DE:A9:83:E4:E9'), ('E0:48:AF:01:8C:DB', '38:A6:CE:14:0A:50'), ('E0:48:AF:01:8C:DB', 'A4:91:B1:8B:3C:97'), ('E0:48:AF:01:8C:DB', 'C8:3A:6B:34:31:2F'), ('E0:48:AF:01:8C:DB', '44:E9:DD:F1:C7:14'), ('E0:48:AF:01:8C:DB', 'F0:86:20:3F:05:77'), ('E0:48:AF:01:8C:DB', '7A:86:20:3F:05:70'), ('E0:48:AF:01:8C:DB', 'D8:31:34:3F:4C:CA'), ('E0:48:AF:01:8C:DB', 'B2:72:82:7F:AB:F2'), ('E0:48:AF:01:8C:DB', '04:A2:22:09:B1:1A'), ('E0:48:AF:01:8C:DB', 'D2:AC:7E:21:50:32'), ('E0:48:AF:01:8C:DB', '7A:86:20:3F:05:71'), ('E0:48:AF:01:8C:DB', '44:E9:DD:5E:6E:00'), ('E0:48:AF:01:8C:DB', '24:4C:E3:48:51:C1'), ('E0:48:AF:01:8C:DB', '62:A2:22:09:B1:18'), ('E0:48:AF:01:8C:DB', '38:A6:CE:14:0A:52'), ('E0:48:AF:01:8C:DB', 'E0:48:AF:01:0C:A7'), ('E0:48:AF:01:8C:DB', 'D2:2C:7E:0B:1B:32'), ('E0:48:AF:01:8C:DB', '20:47:ED:9E:A6:12'), ('E0:48:AF:01:8C:DB', '48:D7:05:E5:66:AD'), ('E0:48:AF:01:8C:DB', '78:67:D7:1D:80:02'), ('E0:48:AF:01:8C:DB', '28:28:5D:A6:75:D8'), ('E0:48:AF:01:8C:DB', '10:30:25:11:0B:46'), ('E0:48:AF:01:8C:DB', 'AC:3B:77:14:D4:3D'), ('E0:48:AF:01:8C:DB', 'F4:63:1F:93:89:CB'), ('E0:48:AF:01:8C:DB', '00:11:32:7A:25:3D'), ('E0:48:AF:01:8C:DB', '60:7E:DD:FD:43:EC'), ('E0:48:AF:01:8C:DB', '3C:AB:8E:44:0D:66'), ('E0:48:AF:01:8C:DB', '68:47:49:26:4F:9C'), ('E0:48:AF:01:8C:DB', '90:72:82:7F:AB:F2'), ('E0:48:AF:01:8C:DB', '92:72:82:7F:AB:F2'), ('E0:48:AF:01:8C:DB', '90:4D:4A:50:AE:60'), ('E0:48:AF:01:8C:DB', '7A:86:20:3F:05:73'), ('E0:48:AF:01:8C:DB', '70:BC:10:C2:16:AB'), ('E0:48:AF:01:8C:DB', '70:BC:10:D2:55:33'), ('E0:48:AF:01:8C:DB', '30:F7:72:58:95:61'), ('E0:48:AF:01:8C:DB', '44:E9:DD:F1:C7:12'), ('E0:48:AF:01:8C:DB', '22:23:F6:E6:EA:BA'), ('E0:48:AF:01:8C:DB', 'DC:4A:3E:B9:02:0A'), ('E0:48:AF:01:8C:DB', '30:19:66:FD:70:31'), ('E0:48:AF:01:8C:DB', '4C:57:CA:D4:A9:80'), ('E0:48:AF:01:8C:DB', 'F8:B4:6A:C9:75:9D'), ('E0:48:AF:01:8C:DB', '7C:D9:5C:28:AA:E8'), ('E0:48:AF:01:8C:DB', '00:03:7F:2D:E2:89'), ('E0:48:AF:01:8C:DB', '6A:F4:51:A6:25:41'), ('E0:48:AF:01:8C:DB', 'A8:10:87:53:01:62'), ('E0:48:AF:01:8C:DB', '00:0C:43:00:48:24'), ('E0:48:AF:01:8C:DB', '64:CC:22:9A:65:CD'), ('E0:48:AF:01:8C:DB', '00:25:92:25:E4:2E'), ('E0:48:AF:01:8C:DB', '04:69:F8:56:E6:B7'), ('E0:48:AF:01:8C:DB', '90:4D:4A:27:47:4C'), ('E0:48:AF:01:8C:DB', '34:79:16:20:A6:1C'), ('E0:48:AF:01:8C:DB', 'EC:F4:51:BF:46:CE'), ('E0:48:AF:01:8C:DB', 'E4:F0:42:65:6C:13'), ('E0:48:AF:01:8C:DB', '58:82:A8:11:4D:86'), ('E0:48:AF:01:8C:DB', '04:A2:22:09:B1:19'), ('E0:48:AF:01:8C:DB', '04:69:F8:6C:18:7F'), ('E0:48:AF:01:8C:DB', '90:72:82:87:C8:76'), ('E0:48:AF:01:8C:DB', 'F8:2D:7C:56:04:B5'), ('E0:48:AF:01:8C:DB', 'B0:35:B5:AE:2E:76'), ('E2:48:AF:01:0C:A7', '88:DE:A9:83:E4:E7'), ('E2:48:AF:01:0C:A7', '04:A2:22:09:B1:1C'), ('E2:48:AF:01:0C:A7', 'DA:31:34:3F:4C:CA'), ('E2:48:AF:01:0C:A7', '50:DC:E7:1D:70:32'), ('E2:48:AF:01:0C:A7', 'A4:91:B1:8B:3C:98'), ('E2:48:AF:01:0C:A7', '8C:3B:AD:BA:BA:E9'), ('E2:48:AF:01:0C:A7', '1C:74:0D:5A:03:B0'), ('E2:48:AF:01:0C:A7', 'C0:3E:0F:11:1D:AA'), ('E2:48:AF:01:0C:A7', '30:57:14:E0:02:B1'), ('E2:48:AF:01:0C:A7', '10:94:BB:24:63:2F'), ('E2:48:AF:01:0C:A7', '88:DE:A9:83:E4:E9'), ('E2:48:AF:01:0C:A7', '38:A6:CE:14:0A:50'), ('E2:48:AF:01:0C:A7', 'A4:91:B1:8B:3C:97'), ('E2:48:AF:01:0C:A7', 'C8:3A:6B:34:31:2F'), ('E2:48:AF:01:0C:A7', '44:E9:DD:F1:C7:14'), ('E2:48:AF:01:0C:A7', 'F0:86:20:3F:05:77'), ('E2:48:AF:01:0C:A7', '7A:86:20:3F:05:70'), ('E2:48:AF:01:0C:A7', 'D8:31:34:3F:4C:CA'), ('E2:48:AF:01:0C:A7', 'B2:72:82:7F:AB:F2'), ('E2:48:AF:01:0C:A7', '04:A2:22:09:B1:1A'), ('E2:48:AF:01:0C:A7', 'D2:AC:7E:21:50:32'), ('E2:48:AF:01:0C:A7', '7A:86:20:3F:05:71'), ('E2:48:AF:01:0C:A7', '44:E9:DD:5E:6E:00'), ('E2:48:AF:01:0C:A7', '24:4C:E3:48:51:C1'), ('E2:48:AF:01:0C:A7', '62:A2:22:09:B1:18'), ('E2:48:AF:01:0C:A7', '38:A6:CE:14:0A:52'), ('E2:48:AF:01:0C:A7', 'E0:48:AF:01:0C:A7'), ('E2:48:AF:01:0C:A7', 'D2:2C:7E:0B:1B:32'), ('E2:48:AF:01:0C:A7', '20:47:ED:9E:A6:12'), ('E2:48:AF:01:0C:A7', '48:D7:05:E5:66:AD'), ('E2:48:AF:01:0C:A7', '78:67:D7:1D:80:02'), ('E2:48:AF:01:0C:A7', '28:28:5D:A6:75:D8'), ('E2:48:AF:01:0C:A7', '10:30:25:11:0B:46'), ('E2:48:AF:01:0C:A7', 'AC:3B:77:14:D4:3D'), ('E2:48:AF:01:0C:A7', 'F4:63:1F:93:89:CB'), ('E2:48:AF:01:0C:A7', '00:11:32:7A:25:3D'), ('E2:48:AF:01:0C:A7', '60:7E:DD:FD:43:EC'), ('E2:48:AF:01:0C:A7', '3C:AB:8E:44:0D:66'), ('E2:48:AF:01:0C:A7', '68:47:49:26:4F:9C'), ('E2:48:AF:01:0C:A7', '90:72:82:7F:AB:F2'), ('E2:48:AF:01:0C:A7', '92:72:82:7F:AB:F2'), ('E2:48:AF:01:0C:A7', '90:4D:4A:50:AE:60'), ('E2:48:AF:01:0C:A7', '7A:86:20:3F:05:73'), ('E2:48:AF:01:0C:A7', '70:BC:10:C2:16:AB'), ('E2:48:AF:01:0C:A7', '70:BC:10:D2:55:33'), ('E2:48:AF:01:0C:A7', '30:F7:72:58:95:61'), ('E2:48:AF:01:0C:A7', '44:E9:DD:F1:C7:12'), ('E2:48:AF:01:0C:A7', '22:23:F6:E6:EA:BA'), ('E2:48:AF:01:0C:A7', 'DC:4A:3E:B9:02:0A'), ('E2:48:AF:01:0C:A7', '30:19:66:FD:70:31'), ('E2:48:AF:01:0C:A7', '4C:57:CA:D4:A9:80'), ('E2:48:AF:01:0C:A7', 'F8:B4:6A:C9:75:9D'), ('E2:48:AF:01:0C:A7', '7C:D9:5C:28:AA:E8'), ('E2:48:AF:01:0C:A7', '00:03:7F:2D:E2:89'), ('E2:48:AF:01:0C:A7', '6A:F4:51:A6:25:41'), ('E2:48:AF:01:0C:A7', 'A8:10:87:53:01:62'), ('E2:48:AF:01:0C:A7', '00:0C:43:00:48:24'), ('E2:48:AF:01:0C:A7', '64:CC:22:9A:65:CD'), ('E2:48:AF:01:0C:A7', '00:25:92:25:E4:2E'), ('E2:48:AF:01:0C:A7', '04:69:F8:56:E6:B7'), ('E2:48:AF:01:0C:A7', '90:4D:4A:27:47:4C'), ('E2:48:AF:01:0C:A7', '34:79:16:20:A6:1C'), ('E2:48:AF:01:0C:A7', 'EC:F4:51:BF:46:CE'), ('E2:48:AF:01:0C:A7', 'E4:F0:42:65:6C:13'), ('E2:48:AF:01:0C:A7', '58:82:A8:11:4D:86'), ('E2:48:AF:01:0C:A7', '04:A2:22:09:B1:19'), ('E2:48:AF:01:0C:A7', '04:69:F8:6C:18:7F'), ('E2:48:AF:01:0C:A7', '90:72:82:87:C8:76'), ('E2:48:AF:01:0C:A7', 'F8:2D:7C:56:04:B5'), ('E2:48:AF:01:0C:A7', 'B0:35:B5:AE:2E:76'), ('88:DE:A9:83:E4:E7', '04:A2:22:09:B1:1C'), ('88:DE:A9:83:E4:E7', 'DA:31:34:3F:4C:CA'), ('88:DE:A9:83:E4:E7', '50:DC:E7:1D:70:32'), ('88:DE:A9:83:E4:E7', 'A4:91:B1:8B:3C:98'), ('88:DE:A9:83:E4:E7', '8C:3B:AD:BA:BA:E9'), ('88:DE:A9:83:E4:E7', '1C:74:0D:5A:03:B0'), ('88:DE:A9:83:E4:E7', 'C0:3E:0F:11:1D:AA'), ('88:DE:A9:83:E4:E7', '30:57:14:E0:02:B1'), ('88:DE:A9:83:E4:E7', '10:94:BB:24:63:2F'), ('88:DE:A9:83:E4:E7', '88:DE:A9:83:E4:E9'), ('88:DE:A9:83:E4:E7', '38:A6:CE:14:0A:50'), ('88:DE:A9:83:E4:E7', 'A4:91:B1:8B:3C:97'), ('88:DE:A9:83:E4:E7', 'C8:3A:6B:34:31:2F'), ('88:DE:A9:83:E4:E7', '44:E9:DD:F1:C7:14'), ('88:DE:A9:83:E4:E7', 'F0:86:20:3F:05:77'), ('88:DE:A9:83:E4:E7', '7A:86:20:3F:05:70'), ('88:DE:A9:83:E4:E7', 'D8:31:34:3F:4C:CA'), ('88:DE:A9:83:E4:E7', 'B2:72:82:7F:AB:F2'), ('88:DE:A9:83:E4:E7', '04:A2:22:09:B1:1A'), ('88:DE:A9:83:E4:E7', 'D2:AC:7E:21:50:32'), ('88:DE:A9:83:E4:E7', '7A:86:20:3F:05:71'), ('88:DE:A9:83:E4:E7', '44:E9:DD:5E:6E:00'), ('88:DE:A9:83:E4:E7', '24:4C:E3:48:51:C1'), ('88:DE:A9:83:E4:E7', '62:A2:22:09:B1:18'), ('88:DE:A9:83:E4:E7', '38:A6:CE:14:0A:52'), ('88:DE:A9:83:E4:E7', 'E0:48:AF:01:0C:A7'), ('88:DE:A9:83:E4:E7', 'D2:2C:7E:0B:1B:32'), ('88:DE:A9:83:E4:E7', '20:47:ED:9E:A6:12'), ('88:DE:A9:83:E4:E7', '48:D7:05:E5:66:AD'), ('88:DE:A9:83:E4:E7', '78:67:D7:1D:80:02'), ('88:DE:A9:83:E4:E7', '28:28:5D:A6:75:D8'), ('88:DE:A9:83:E4:E7', '10:30:25:11:0B:46'), ('88:DE:A9:83:E4:E7', 'AC:3B:77:14:D4:3D'), ('88:DE:A9:83:E4:E7', 'F4:63:1F:93:89:CB'), ('88:DE:A9:83:E4:E7', '00:11:32:7A:25:3D'), ('88:DE:A9:83:E4:E7', '60:7E:DD:FD:43:EC'), ('88:DE:A9:83:E4:E7', '3C:AB:8E:44:0D:66'), ('88:DE:A9:83:E4:E7', '68:47:49:26:4F:9C'), ('88:DE:A9:83:E4:E7', '90:72:82:7F:AB:F2'), ('88:DE:A9:83:E4:E7', '92:72:82:7F:AB:F2'), ('88:DE:A9:83:E4:E7', '90:4D:4A:50:AE:60'), ('88:DE:A9:83:E4:E7', '7A:86:20:3F:05:73'), ('88:DE:A9:83:E4:E7', '70:BC:10:C2:16:AB'), ('88:DE:A9:83:E4:E7', '70:BC:10:D2:55:33'), ('88:DE:A9:83:E4:E7', '30:F7:72:58:95:61'), ('88:DE:A9:83:E4:E7', '44:E9:DD:F1:C7:12'), ('88:DE:A9:83:E4:E7', '22:23:F6:E6:EA:BA'), ('88:DE:A9:83:E4:E7', 'DC:4A:3E:B9:02:0A'), ('88:DE:A9:83:E4:E7', '30:19:66:FD:70:31'), ('88:DE:A9:83:E4:E7', '4C:57:CA:D4:A9:80'), ('88:DE:A9:83:E4:E7', 'F8:B4:6A:C9:75:9D'), ('88:DE:A9:83:E4:E7', '7C:D9:5C:28:AA:E8'), ('88:DE:A9:83:E4:E7', '00:03:7F:2D:E2:89'), ('88:DE:A9:83:E4:E7', '6A:F4:51:A6:25:41'), ('88:DE:A9:83:E4:E7', 'A8:10:87:53:01:62'), ('88:DE:A9:83:E4:E7', '00:0C:43:00:48:24'), ('88:DE:A9:83:E4:E7', '64:CC:22:9A:65:CD'), ('88:DE:A9:83:E4:E7', '00:25:92:25:E4:2E'), ('88:DE:A9:83:E4:E7', '04:69:F8:56:E6:B7'), ('88:DE:A9:83:E4:E7', '90:4D:4A:27:47:4C'), ('88:DE:A9:83:E4:E7', '34:79:16:20:A6:1C'), ('88:DE:A9:83:E4:E7', 'EC:F4:51:BF:46:CE'), ('88:DE:A9:83:E4:E7', 'E4:F0:42:65:6C:13'), ('88:DE:A9:83:E4:E7', '58:82:A8:11:4D:86'), ('88:DE:A9:83:E4:E7', '04:A2:22:09:B1:19'), ('04:A2:22:09:B1:1C', 'DA:31:34:3F:4C:CA'), ('04:A2:22:09:B1:1C', '50:DC:E7:1D:70:32'), ('04:A2:22:09:B1:1C', 'A4:91:B1:8B:3C:98'), ('04:A2:22:09:B1:1C', '8C:3B:AD:BA:BA:E9'), ('04:A2:22:09:B1:1C', '1C:74:0D:5A:03:B0'), ('04:A2:22:09:B1:1C', 'C0:3E:0F:11:1D:AA'), ('04:A2:22:09:B1:1C', '30:57:14:E0:02:B1'), ('04:A2:22:09:B1:1C', '10:94:BB:24:63:2F'), ('04:A2:22:09:B1:1C', '88:DE:A9:83:E4:E9'), ('04:A2:22:09:B1:1C', '38:A6:CE:14:0A:50'), ('04:A2:22:09:B1:1C', 'A4:91:B1:8B:3C:97'), ('04:A2:22:09:B1:1C', 'C8:3A:6B:34:31:2F'), ('04:A2:22:09:B1:1C', '44:E9:DD:F1:C7:14'), ('04:A2:22:09:B1:1C', 'F0:86:20:3F:05:77'), ('04:A2:22:09:B1:1C', '7A:86:20:3F:05:70'), ('04:A2:22:09:B1:1C', 'D8:31:34:3F:4C:CA'), ('04:A2:22:09:B1:1C', 'B2:72:82:7F:AB:F2'), ('04:A2:22:09:B1:1C', '04:A2:22:09:B1:1A'), ('04:A2:22:09:B1:1C', 'D2:AC:7E:21:50:32'), ('04:A2:22:09:B1:1C', '7A:86:20:3F:05:71'), ('04:A2:22:09:B1:1C', '44:E9:DD:5E:6E:00'), ('04:A2:22:09:B1:1C', '24:4C:E3:48:51:C1'), ('04:A2:22:09:B1:1C', '62:A2:22:09:B1:18'), ('04:A2:22:09:B1:1C', '38:A6:CE:14:0A:52'), ('04:A2:22:09:B1:1C', 'E0:48:AF:01:0C:A7'), ('04:A2:22:09:B1:1C', 'D2:2C:7E:0B:1B:32'), ('04:A2:22:09:B1:1C', '20:47:ED:9E:A6:12'), ('04:A2:22:09:B1:1C', '48:D7:05:E5:66:AD'), ('04:A2:22:09:B1:1C', '78:67:D7:1D:80:02'), ('04:A2:22:09:B1:1C', '28:28:5D:A6:75:D8'), ('04:A2:22:09:B1:1C', '10:30:25:11:0B:46'), ('04:A2:22:09:B1:1C', 'AC:3B:77:14:D4:3D'), ('04:A2:22:09:B1:1C', 'F4:63:1F:93:89:CB'), ('04:A2:22:09:B1:1C', '00:11:32:7A:25:3D'), ('04:A2:22:09:B1:1C', '60:7E:DD:FD:43:EC'), ('04:A2:22:09:B1:1C', '3C:AB:8E:44:0D:66'), ('04:A2:22:09:B1:1C', '68:47:49:26:4F:9C'), ('04:A2:22:09:B1:1C', '90:72:82:7F:AB:F2'), ('04:A2:22:09:B1:1C', '92:72:82:7F:AB:F2'), ('04:A2:22:09:B1:1C', '90:4D:4A:50:AE:60'), ('04:A2:22:09:B1:1C', '7A:86:20:3F:05:73'), ('04:A2:22:09:B1:1C', '70:BC:10:C2:16:AB'), ('04:A2:22:09:B1:1C', '70:BC:10:D2:55:33'), ('04:A2:22:09:B1:1C', '30:F7:72:58:95:61'), ('04:A2:22:09:B1:1C', '44:E9:DD:F1:C7:12'), ('04:A2:22:09:B1:1C', '22:23:F6:E6:EA:BA'), ('04:A2:22:09:B1:1C', 'DC:4A:3E:B9:02:0A'), ('04:A2:22:09:B1:1C', '30:19:66:FD:70:31'), ('04:A2:22:09:B1:1C', '4C:57:CA:D4:A9:80'), ('04:A2:22:09:B1:1C', 'F8:B4:6A:C9:75:9D'), ('04:A2:22:09:B1:1C', '7C:D9:5C:28:AA:E8'), ('04:A2:22:09:B1:1C', '00:03:7F:2D:E2:89'), ('04:A2:22:09:B1:1C', '6A:F4:51:A6:25:41'), ('04:A2:22:09:B1:1C', 'A8:10:87:53:01:62'), ('04:A2:22:09:B1:1C', '00:0C:43:00:48:24'), ('04:A2:22:09:B1:1C', '64:CC:22:9A:65:CD'), ('04:A2:22:09:B1:1C', '00:25:92:25:E4:2E'), ('04:A2:22:09:B1:1C', '04:69:F8:56:E6:B7'), ('04:A2:22:09:B1:1C', '90:4D:4A:27:47:4C'), ('04:A2:22:09:B1:1C', '34:79:16:20:A6:1C'), ('04:A2:22:09:B1:1C', 'EC:F4:51:BF:46:CE'), ('04:A2:22:09:B1:1C', 'E4:F0:42:65:6C:13'), ('04:A2:22:09:B1:1C', '58:82:A8:11:4D:86'), ('04:A2:22:09:B1:1C', '04:A2:22:09:B1:19'), ('04:A2:22:09:B1:1C', '04:69:F8:6C:18:7F'), ('04:A2:22:09:B1:1C', '90:72:82:87:C8:76'), ('04:A2:22:09:B1:1C', 'F8:2D:7C:56:04:B5'), ('04:A2:22:09:B1:1C', 'B0:35:B5:AE:2E:76'), ('DA:31:34:3F:4C:CA', '50:DC:E7:1D:70:32'), ('DA:31:34:3F:4C:CA', 'A4:91:B1:8B:3C:98'), ('DA:31:34:3F:4C:CA', '8C:3B:AD:BA:BA:E9'), ('DA:31:34:3F:4C:CA', '1C:74:0D:5A:03:B0'), ('DA:31:34:3F:4C:CA', 'C0:3E:0F:11:1D:AA'), ('DA:31:34:3F:4C:CA', '30:57:14:E0:02:B1'), ('DA:31:34:3F:4C:CA', '10:94:BB:24:63:2F'), ('DA:31:34:3F:4C:CA', '88:DE:A9:83:E4:E9'), ('DA:31:34:3F:4C:CA', '38:A6:CE:14:0A:50'), ('DA:31:34:3F:4C:CA', 'A4:91:B1:8B:3C:97'), ('DA:31:34:3F:4C:CA', 'C8:3A:6B:34:31:2F'), ('DA:31:34:3F:4C:CA', '44:E9:DD:F1:C7:14'), ('DA:31:34:3F:4C:CA', 'F0:86:20:3F:05:77'), ('DA:31:34:3F:4C:CA', '7A:86:20:3F:05:70'), ('DA:31:34:3F:4C:CA', 'D8:31:34:3F:4C:CA'), ('DA:31:34:3F:4C:CA', 'B2:72:82:7F:AB:F2'), ('DA:31:34:3F:4C:CA', '04:A2:22:09:B1:1A'), ('DA:31:34:3F:4C:CA', 'D2:AC:7E:21:50:32'), ('DA:31:34:3F:4C:CA', '7A:86:20:3F:05:71'), ('DA:31:34:3F:4C:CA', '44:E9:DD:5E:6E:00'), ('DA:31:34:3F:4C:CA', '24:4C:E3:48:51:C1'), ('DA:31:34:3F:4C:CA', '62:A2:22:09:B1:18'), ('DA:31:34:3F:4C:CA', '38:A6:CE:14:0A:52'), ('DA:31:34:3F:4C:CA', 'E0:48:AF:01:0C:A7'), ('DA:31:34:3F:4C:CA', 'D2:2C:7E:0B:1B:32'), ('DA:31:34:3F:4C:CA', '20:47:ED:9E:A6:12'), ('DA:31:34:3F:4C:CA', '48:D7:05:E5:66:AD'), ('DA:31:34:3F:4C:CA', '78:67:D7:1D:80:02'), ('DA:31:34:3F:4C:CA', '28:28:5D:A6:75:D8'), ('DA:31:34:3F:4C:CA', '10:30:25:11:0B:46'), ('DA:31:34:3F:4C:CA', 'AC:3B:77:14:D4:3D'), ('DA:31:34:3F:4C:CA', 'F4:63:1F:93:89:CB'), ('DA:31:34:3F:4C:CA', '00:11:32:7A:25:3D'), ('DA:31:34:3F:4C:CA', '60:7E:DD:FD:43:EC'), ('DA:31:34:3F:4C:CA', '3C:AB:8E:44:0D:66'), ('DA:31:34:3F:4C:CA', '68:47:49:26:4F:9C'), ('DA:31:34:3F:4C:CA', '90:72:82:7F:AB:F2'), ('DA:31:34:3F:4C:CA', '92:72:82:7F:AB:F2'), ('DA:31:34:3F:4C:CA', '90:4D:4A:50:AE:60'), ('DA:31:34:3F:4C:CA', '7A:86:20:3F:05:73'), ('DA:31:34:3F:4C:CA', '70:BC:10:C2:16:AB'), ('DA:31:34:3F:4C:CA', '70:BC:10:D2:55:33'), ('DA:31:34:3F:4C:CA', '30:F7:72:58:95:61'), ('DA:31:34:3F:4C:CA', '44:E9:DD:F1:C7:12'), ('DA:31:34:3F:4C:CA', '22:23:F6:E6:EA:BA'), ('DA:31:34:3F:4C:CA', 'DC:4A:3E:B9:02:0A'), ('DA:31:34:3F:4C:CA', '30:19:66:FD:70:31'), ('DA:31:34:3F:4C:CA', '4C:57:CA:D4:A9:80'), ('DA:31:34:3F:4C:CA', 'F8:B4:6A:C9:75:9D'), ('DA:31:34:3F:4C:CA', '7C:D9:5C:28:AA:E8'), ('DA:31:34:3F:4C:CA', '00:03:7F:2D:E2:89'), ('DA:31:34:3F:4C:CA', '6A:F4:51:A6:25:41'), ('DA:31:34:3F:4C:CA', 'A8:10:87:53:01:62'), ('DA:31:34:3F:4C:CA', '00:0C:43:00:48:24'), ('DA:31:34:3F:4C:CA', '64:CC:22:9A:65:CD'), ('DA:31:34:3F:4C:CA', '00:25:92:25:E4:2E'), ('DA:31:34:3F:4C:CA', '04:69:F8:56:E6:B7'), ('DA:31:34:3F:4C:CA', '90:4D:4A:27:47:4C'), ('DA:31:34:3F:4C:CA', '34:79:16:20:A6:1C'), ('DA:31:34:3F:4C:CA', 'EC:F4:51:BF:46:CE'), ('DA:31:34:3F:4C:CA', 'E4:F0:42:65:6C:13'), ('DA:31:34:3F:4C:CA', '58:82:A8:11:4D:86'), ('DA:31:34:3F:4C:CA', '04:A2:22:09:B1:19'), ('DA:31:34:3F:4C:CA', '04:69:F8:6C:18:7F'), ('DA:31:34:3F:4C:CA', '90:72:82:87:C8:76'), ('50:DC:E7:1D:70:32', 'A4:91:B1:8B:3C:98'), ('50:DC:E7:1D:70:32', '8C:3B:AD:BA:BA:E9'), ('50:DC:E7:1D:70:32', '1C:74:0D:5A:03:B0'), ('50:DC:E7:1D:70:32', 'C0:3E:0F:11:1D:AA'), ('50:DC:E7:1D:70:32', '30:57:14:E0:02:B1'), ('50:DC:E7:1D:70:32', '10:94:BB:24:63:2F'), ('50:DC:E7:1D:70:32', '88:DE:A9:83:E4:E9'), ('50:DC:E7:1D:70:32', '38:A6:CE:14:0A:50'), ('50:DC:E7:1D:70:32', 'A4:91:B1:8B:3C:97'), ('50:DC:E7:1D:70:32', 'C8:3A:6B:34:31:2F'), ('50:DC:E7:1D:70:32', '44:E9:DD:F1:C7:14'), ('50:DC:E7:1D:70:32', 'F0:86:20:3F:05:77'), ('50:DC:E7:1D:70:32', '7A:86:20:3F:05:70'), ('50:DC:E7:1D:70:32', 'D8:31:34:3F:4C:CA'), ('50:DC:E7:1D:70:32', 'B2:72:82:7F:AB:F2'), ('50:DC:E7:1D:70:32', '04:A2:22:09:B1:1A'), ('50:DC:E7:1D:70:32', 'D2:AC:7E:21:50:32'), ('50:DC:E7:1D:70:32', '7A:86:20:3F:05:71'), ('50:DC:E7:1D:70:32', '44:E9:DD:5E:6E:00'), ('50:DC:E7:1D:70:32', '24:4C:E3:48:51:C1'), ('50:DC:E7:1D:70:32', '62:A2:22:09:B1:18'), ('50:DC:E7:1D:70:32', '38:A6:CE:14:0A:52'), ('50:DC:E7:1D:70:32', 'E0:48:AF:01:0C:A7'), ('50:DC:E7:1D:70:32', 'D2:2C:7E:0B:1B:32'), ('50:DC:E7:1D:70:32', '20:47:ED:9E:A6:12'), ('50:DC:E7:1D:70:32', '48:D7:05:E5:66:AD'), ('50:DC:E7:1D:70:32', '78:67:D7:1D:80:02'), ('50:DC:E7:1D:70:32', '28:28:5D:A6:75:D8'), ('50:DC:E7:1D:70:32', '10:30:25:11:0B:46'), ('50:DC:E7:1D:70:32', 'AC:3B:77:14:D4:3D'), ('50:DC:E7:1D:70:32', 'F4:63:1F:93:89:CB'), ('50:DC:E7:1D:70:32', '00:11:32:7A:25:3D'), ('50:DC:E7:1D:70:32', '60:7E:DD:FD:43:EC'), ('50:DC:E7:1D:70:32', '3C:AB:8E:44:0D:66'), ('50:DC:E7:1D:70:32', '68:47:49:26:4F:9C'), ('50:DC:E7:1D:70:32', '90:72:82:7F:AB:F2'), ('50:DC:E7:1D:70:32', '92:72:82:7F:AB:F2'), ('50:DC:E7:1D:70:32', '90:4D:4A:50:AE:60'), ('50:DC:E7:1D:70:32', '7A:86:20:3F:05:73'), ('50:DC:E7:1D:70:32', '70:BC:10:C2:16:AB'), ('50:DC:E7:1D:70:32', '70:BC:10:D2:55:33'), ('50:DC:E7:1D:70:32', '30:F7:72:58:95:61'), ('50:DC:E7:1D:70:32', '44:E9:DD:F1:C7:12'), ('50:DC:E7:1D:70:32', '22:23:F6:E6:EA:BA'), ('50:DC:E7:1D:70:32', 'DC:4A:3E:B9:02:0A'), ('50:DC:E7:1D:70:32', '30:19:66:FD:70:31'), ('50:DC:E7:1D:70:32', '4C:57:CA:D4:A9:80'), ('50:DC:E7:1D:70:32', 'F8:B4:6A:C9:75:9D'), ('50:DC:E7:1D:70:32', '7C:D9:5C:28:AA:E8'), ('50:DC:E7:1D:70:32', '00:03:7F:2D:E2:89'), ('50:DC:E7:1D:70:32', '6A:F4:51:A6:25:41'), ('50:DC:E7:1D:70:32', 'A8:10:87:53:01:62'), ('50:DC:E7:1D:70:32', '00:0C:43:00:48:24'), ('50:DC:E7:1D:70:32', '64:CC:22:9A:65:CD'), ('50:DC:E7:1D:70:32', '00:25:92:25:E4:2E'), ('50:DC:E7:1D:70:32', '04:69:F8:56:E6:B7'), ('50:DC:E7:1D:70:32', '90:4D:4A:27:47:4C'), ('50:DC:E7:1D:70:32', '34:79:16:20:A6:1C'), ('50:DC:E7:1D:70:32', 'EC:F4:51:BF:46:CE'), ('50:DC:E7:1D:70:32', 'E4:F0:42:65:6C:13'), ('50:DC:E7:1D:70:32', '58:82:A8:11:4D:86'), ('50:DC:E7:1D:70:32', '04:A2:22:09:B1:19'), ('A4:91:B1:8B:3C:98', '8C:3B:AD:BA:BA:E9'), ('A4:91:B1:8B:3C:98', '1C:74:0D:5A:03:B0'), ('A4:91:B1:8B:3C:98', 'C0:3E:0F:11:1D:AA'), ('A4:91:B1:8B:3C:98', '30:57:14:E0:02:B1'), ('A4:91:B1:8B:3C:98', '10:94:BB:24:63:2F'), ('A4:91:B1:8B:3C:98', '88:DE:A9:83:E4:E9'), ('A4:91:B1:8B:3C:98', '38:A6:CE:14:0A:50'), ('A4:91:B1:8B:3C:98', 'A4:91:B1:8B:3C:97'), ('A4:91:B1:8B:3C:98', 'C8:3A:6B:34:31:2F'), ('A4:91:B1:8B:3C:98', '44:E9:DD:F1:C7:14'), ('A4:91:B1:8B:3C:98', 'F0:86:20:3F:05:77'), ('A4:91:B1:8B:3C:98', '7A:86:20:3F:05:70'), ('A4:91:B1:8B:3C:98', 'D8:31:34:3F:4C:CA'), ('A4:91:B1:8B:3C:98', 'B2:72:82:7F:AB:F2'), ('A4:91:B1:8B:3C:98', '04:A2:22:09:B1:1A'), ('A4:91:B1:8B:3C:98', 'D2:AC:7E:21:50:32'), ('A4:91:B1:8B:3C:98', '7A:86:20:3F:05:71'), ('A4:91:B1:8B:3C:98', '44:E9:DD:5E:6E:00'), ('A4:91:B1:8B:3C:98', '24:4C:E3:48:51:C1'), ('A4:91:B1:8B:3C:98', '62:A2:22:09:B1:18'), ('A4:91:B1:8B:3C:98', '38:A6:CE:14:0A:52'), ('A4:91:B1:8B:3C:98', 'E0:48:AF:01:0C:A7'), ('A4:91:B1:8B:3C:98', 'D2:2C:7E:0B:1B:32'), ('A4:91:B1:8B:3C:98', '20:47:ED:9E:A6:12'), ('A4:91:B1:8B:3C:98', '48:D7:05:E5:66:AD'), ('A4:91:B1:8B:3C:98', '78:67:D7:1D:80:02'), ('A4:91:B1:8B:3C:98', '28:28:5D:A6:75:D8'), ('A4:91:B1:8B:3C:98', '10:30:25:11:0B:46'), ('A4:91:B1:8B:3C:98', 'AC:3B:77:14:D4:3D'), ('A4:91:B1:8B:3C:98', 'F4:63:1F:93:89:CB'), ('A4:91:B1:8B:3C:98', '00:11:32:7A:25:3D'), ('A4:91:B1:8B:3C:98', '60:7E:DD:FD:43:EC'), ('A4:91:B1:8B:3C:98', '3C:AB:8E:44:0D:66'), ('A4:91:B1:8B:3C:98', '68:47:49:26:4F:9C'), ('A4:91:B1:8B:3C:98', '90:72:82:7F:AB:F2'), ('A4:91:B1:8B:3C:98', '92:72:82:7F:AB:F2'), ('A4:91:B1:8B:3C:98', '90:4D:4A:50:AE:60'), ('A4:91:B1:8B:3C:98', '7A:86:20:3F:05:73'), ('A4:91:B1:8B:3C:98', '70:BC:10:C2:16:AB'), ('A4:91:B1:8B:3C:98', '70:BC:10:D2:55:33'), ('A4:91:B1:8B:3C:98', '30:F7:72:58:95:61'), ('A4:91:B1:8B:3C:98', '44:E9:DD:F1:C7:12'), ('A4:91:B1:8B:3C:98', '22:23:F6:E6:EA:BA'), ('A4:91:B1:8B:3C:98', 'DC:4A:3E:B9:02:0A'), ('A4:91:B1:8B:3C:98', '30:19:66:FD:70:31'), ('A4:91:B1:8B:3C:98', '4C:57:CA:D4:A9:80'), ('A4:91:B1:8B:3C:98', 'F8:B4:6A:C9:75:9D'), ('A4:91:B1:8B:3C:98', '7C:D9:5C:28:AA:E8'), ('A4:91:B1:8B:3C:98', '00:03:7F:2D:E2:89'), ('A4:91:B1:8B:3C:98', '6A:F4:51:A6:25:41'), ('A4:91:B1:8B:3C:98', 'A8:10:87:53:01:62'), ('A4:91:B1:8B:3C:98', '00:0C:43:00:48:24'), ('A4:91:B1:8B:3C:98', '64:CC:22:9A:65:CD'), ('A4:91:B1:8B:3C:98', '00:25:92:25:E4:2E'), ('A4:91:B1:8B:3C:98', '04:69:F8:56:E6:B7'), ('A4:91:B1:8B:3C:98', '90:4D:4A:27:47:4C'), ('A4:91:B1:8B:3C:98', '34:79:16:20:A6:1C'), ('A4:91:B1:8B:3C:98', 'EC:F4:51:BF:46:CE'), ('A4:91:B1:8B:3C:98', 'E4:F0:42:65:6C:13'), ('A4:91:B1:8B:3C:98', '58:82:A8:11:4D:86'), ('A4:91:B1:8B:3C:98', '04:A2:22:09:B1:19'), ('8C:3B:AD:BA:BA:E9', '1C:74:0D:5A:03:B0'), ('8C:3B:AD:BA:BA:E9', 'C0:3E:0F:11:1D:AA'), ('8C:3B:AD:BA:BA:E9', '30:57:14:E0:02:B1'), ('8C:3B:AD:BA:BA:E9', '10:94:BB:24:63:2F'), ('8C:3B:AD:BA:BA:E9', '88:DE:A9:83:E4:E9'), ('8C:3B:AD:BA:BA:E9', '38:A6:CE:14:0A:50'), ('8C:3B:AD:BA:BA:E9', 'A4:91:B1:8B:3C:97'), ('8C:3B:AD:BA:BA:E9', 'C8:3A:6B:34:31:2F'), ('8C:3B:AD:BA:BA:E9', '44:E9:DD:F1:C7:14'), ('8C:3B:AD:BA:BA:E9', 'F0:86:20:3F:05:77'), ('8C:3B:AD:BA:BA:E9', '7A:86:20:3F:05:70'), ('8C:3B:AD:BA:BA:E9', 'D8:31:34:3F:4C:CA'), ('8C:3B:AD:BA:BA:E9', 'B2:72:82:7F:AB:F2'), ('8C:3B:AD:BA:BA:E9', '04:A2:22:09:B1:1A'), ('8C:3B:AD:BA:BA:E9', 'D2:AC:7E:21:50:32'), ('8C:3B:AD:BA:BA:E9', '7A:86:20:3F:05:71'), ('8C:3B:AD:BA:BA:E9', '44:E9:DD:5E:6E:00'), ('8C:3B:AD:BA:BA:E9', '24:4C:E3:48:51:C1'), ('8C:3B:AD:BA:BA:E9', '62:A2:22:09:B1:18'), ('8C:3B:AD:BA:BA:E9', '38:A6:CE:14:0A:52'), ('8C:3B:AD:BA:BA:E9', 'E0:48:AF:01:0C:A7'), ('8C:3B:AD:BA:BA:E9', 'D2:2C:7E:0B:1B:32'), ('8C:3B:AD:BA:BA:E9', '20:47:ED:9E:A6:12'), ('8C:3B:AD:BA:BA:E9', '48:D7:05:E5:66:AD'), ('8C:3B:AD:BA:BA:E9', '78:67:D7:1D:80:02'), ('8C:3B:AD:BA:BA:E9', '28:28:5D:A6:75:D8'), ('8C:3B:AD:BA:BA:E9', '10:30:25:11:0B:46'), ('8C:3B:AD:BA:BA:E9', 'AC:3B:77:14:D4:3D'), ('8C:3B:AD:BA:BA:E9', 'F4:63:1F:93:89:CB'), ('8C:3B:AD:BA:BA:E9', '00:11:32:7A:25:3D'), ('8C:3B:AD:BA:BA:E9', '60:7E:DD:FD:43:EC'), ('8C:3B:AD:BA:BA:E9', '3C:AB:8E:44:0D:66'), ('8C:3B:AD:BA:BA:E9', '68:47:49:26:4F:9C'), ('8C:3B:AD:BA:BA:E9', '90:72:82:7F:AB:F2'), ('8C:3B:AD:BA:BA:E9', '92:72:82:7F:AB:F2'), ('8C:3B:AD:BA:BA:E9', '90:4D:4A:50:AE:60'), ('8C:3B:AD:BA:BA:E9', '7A:86:20:3F:05:73'), ('8C:3B:AD:BA:BA:E9', '70:BC:10:C2:16:AB'), ('8C:3B:AD:BA:BA:E9', '70:BC:10:D2:55:33'), ('8C:3B:AD:BA:BA:E9', '30:F7:72:58:95:61'), ('8C:3B:AD:BA:BA:E9', '44:E9:DD:F1:C7:12'), ('8C:3B:AD:BA:BA:E9', '22:23:F6:E6:EA:BA'), ('8C:3B:AD:BA:BA:E9', 'DC:4A:3E:B9:02:0A'), ('8C:3B:AD:BA:BA:E9', '30:19:66:FD:70:31'), ('8C:3B:AD:BA:BA:E9', '4C:57:CA:D4:A9:80'), ('8C:3B:AD:BA:BA:E9', 'F8:B4:6A:C9:75:9D'), ('8C:3B:AD:BA:BA:E9', '7C:D9:5C:28:AA:E8'), ('8C:3B:AD:BA:BA:E9', '00:03:7F:2D:E2:89'), ('8C:3B:AD:BA:BA:E9', '6A:F4:51:A6:25:41'), ('8C:3B:AD:BA:BA:E9', 'A8:10:87:53:01:62'), ('8C:3B:AD:BA:BA:E9', '00:0C:43:00:48:24'), ('8C:3B:AD:BA:BA:E9', '64:CC:22:9A:65:CD'), ('8C:3B:AD:BA:BA:E9', '00:25:92:25:E4:2E'), ('8C:3B:AD:BA:BA:E9', '04:69:F8:56:E6:B7'), ('8C:3B:AD:BA:BA:E9', '90:4D:4A:27:47:4C'), ('8C:3B:AD:BA:BA:E9', '34:79:16:20:A6:1C'), ('8C:3B:AD:BA:BA:E9', 'EC:F4:51:BF:46:CE'), ('8C:3B:AD:BA:BA:E9', 'E4:F0:42:65:6C:13'), ('8C:3B:AD:BA:BA:E9', '58:82:A8:11:4D:86'), ('8C:3B:AD:BA:BA:E9', '04:A2:22:09:B1:19'), ('1C:74:0D:5A:03:B0', 'C0:3E:0F:11:1D:AA'), ('1C:74:0D:5A:03:B0', '30:57:14:E0:02:B1'), ('1C:74:0D:5A:03:B0', '10:94:BB:24:63:2F'), ('1C:74:0D:5A:03:B0', '88:DE:A9:83:E4:E9'), ('1C:74:0D:5A:03:B0', '38:A6:CE:14:0A:50'), ('1C:74:0D:5A:03:B0', 'A4:91:B1:8B:3C:97'), ('1C:74:0D:5A:03:B0', 'C8:3A:6B:34:31:2F'), ('1C:74:0D:5A:03:B0', '44:E9:DD:F1:C7:14'), ('1C:74:0D:5A:03:B0', 'F0:86:20:3F:05:77'), ('1C:74:0D:5A:03:B0', '7A:86:20:3F:05:70'), ('1C:74:0D:5A:03:B0', 'D8:31:34:3F:4C:CA'), ('1C:74:0D:5A:03:B0', 'B2:72:82:7F:AB:F2'), ('1C:74:0D:5A:03:B0', '04:A2:22:09:B1:1A'), ('1C:74:0D:5A:03:B0', 'D2:AC:7E:21:50:32'), ('1C:74:0D:5A:03:B0', '7A:86:20:3F:05:71'), ('1C:74:0D:5A:03:B0', '44:E9:DD:5E:6E:00'), ('1C:74:0D:5A:03:B0', '24:4C:E3:48:51:C1'), ('1C:74:0D:5A:03:B0', '62:A2:22:09:B1:18'), ('1C:74:0D:5A:03:B0', '38:A6:CE:14:0A:52'), ('1C:74:0D:5A:03:B0', 'E0:48:AF:01:0C:A7'), ('1C:74:0D:5A:03:B0', 'D2:2C:7E:0B:1B:32'), ('1C:74:0D:5A:03:B0', '20:47:ED:9E:A6:12'), ('1C:74:0D:5A:03:B0', '48:D7:05:E5:66:AD'), ('1C:74:0D:5A:03:B0', '78:67:D7:1D:80:02'), ('1C:74:0D:5A:03:B0', '28:28:5D:A6:75:D8'), ('1C:74:0D:5A:03:B0', '10:30:25:11:0B:46'), ('1C:74:0D:5A:03:B0', 'AC:3B:77:14:D4:3D'), ('1C:74:0D:5A:03:B0', 'F4:63:1F:93:89:CB'), ('1C:74:0D:5A:03:B0', '00:11:32:7A:25:3D'), ('1C:74:0D:5A:03:B0', '60:7E:DD:FD:43:EC'), ('1C:74:0D:5A:03:B0', '3C:AB:8E:44:0D:66'), ('1C:74:0D:5A:03:B0', '68:47:49:26:4F:9C'), ('1C:74:0D:5A:03:B0', '90:72:82:7F:AB:F2'), ('1C:74:0D:5A:03:B0', '92:72:82:7F:AB:F2'), ('1C:74:0D:5A:03:B0', '90:4D:4A:50:AE:60'), ('1C:74:0D:5A:03:B0', '7A:86:20:3F:05:73'), ('1C:74:0D:5A:03:B0', '70:BC:10:C2:16:AB'), ('1C:74:0D:5A:03:B0', '70:BC:10:D2:55:33'), ('1C:74:0D:5A:03:B0', '30:F7:72:58:95:61'), ('1C:74:0D:5A:03:B0', '44:E9:DD:F1:C7:12'), ('1C:74:0D:5A:03:B0', '22:23:F6:E6:EA:BA'), ('1C:74:0D:5A:03:B0', 'DC:4A:3E:B9:02:0A'), ('1C:74:0D:5A:03:B0', '30:19:66:FD:70:31'), ('1C:74:0D:5A:03:B0', '4C:57:CA:D4:A9:80'), ('1C:74:0D:5A:03:B0', 'F8:B4:6A:C9:75:9D'), ('1C:74:0D:5A:03:B0', '7C:D9:5C:28:AA:E8'), ('1C:74:0D:5A:03:B0', '00:03:7F:2D:E2:89'), ('1C:74:0D:5A:03:B0', '6A:F4:51:A6:25:41'), ('1C:74:0D:5A:03:B0', 'A8:10:87:53:01:62'), ('1C:74:0D:5A:03:B0', '00:0C:43:00:48:24'), ('1C:74:0D:5A:03:B0', '64:CC:22:9A:65:CD'), ('1C:74:0D:5A:03:B0', '00:25:92:25:E4:2E'), ('1C:74:0D:5A:03:B0', '04:69:F8:56:E6:B7'), ('1C:74:0D:5A:03:B0', '90:4D:4A:27:47:4C'), ('1C:74:0D:5A:03:B0', '34:79:16:20:A6:1C'), ('1C:74:0D:5A:03:B0', 'EC:F4:51:BF:46:CE'), ('1C:74:0D:5A:03:B0', 'E4:F0:42:65:6C:13'), ('1C:74:0D:5A:03:B0', '58:82:A8:11:4D:86'), ('1C:74:0D:5A:03:B0', '04:A2:22:09:B1:19'), ('C0:3E:0F:11:1D:AA', '30:57:14:E0:02:B1'), ('C0:3E:0F:11:1D:AA', '10:94:BB:24:63:2F'), ('C0:3E:0F:11:1D:AA', '88:DE:A9:83:E4:E9'), ('C0:3E:0F:11:1D:AA', '38:A6:CE:14:0A:50'), ('C0:3E:0F:11:1D:AA', 'A4:91:B1:8B:3C:97'), ('C0:3E:0F:11:1D:AA', 'C8:3A:6B:34:31:2F'), ('C0:3E:0F:11:1D:AA', '44:E9:DD:F1:C7:14'), ('C0:3E:0F:11:1D:AA', 'F0:86:20:3F:05:77'), ('C0:3E:0F:11:1D:AA', '7A:86:20:3F:05:70'), ('C0:3E:0F:11:1D:AA', 'D8:31:34:3F:4C:CA'), ('C0:3E:0F:11:1D:AA', 'B2:72:82:7F:AB:F2'), ('C0:3E:0F:11:1D:AA', '04:A2:22:09:B1:1A'), ('C0:3E:0F:11:1D:AA', 'D2:AC:7E:21:50:32'), ('C0:3E:0F:11:1D:AA', '7A:86:20:3F:05:71'), ('C0:3E:0F:11:1D:AA', '44:E9:DD:5E:6E:00'), ('C0:3E:0F:11:1D:AA', '24:4C:E3:48:51:C1'), ('C0:3E:0F:11:1D:AA', '62:A2:22:09:B1:18'), ('C0:3E:0F:11:1D:AA', '38:A6:CE:14:0A:52'), ('C0:3E:0F:11:1D:AA', 'E0:48:AF:01:0C:A7'), ('C0:3E:0F:11:1D:AA', 'D2:2C:7E:0B:1B:32'), ('C0:3E:0F:11:1D:AA', '20:47:ED:9E:A6:12'), ('C0:3E:0F:11:1D:AA', '48:D7:05:E5:66:AD'), ('C0:3E:0F:11:1D:AA', '78:67:D7:1D:80:02'), ('C0:3E:0F:11:1D:AA', '28:28:5D:A6:75:D8'), ('C0:3E:0F:11:1D:AA', '10:30:25:11:0B:46'), ('C0:3E:0F:11:1D:AA', 'AC:3B:77:14:D4:3D'), ('C0:3E:0F:11:1D:AA', 'F4:63:1F:93:89:CB'), ('C0:3E:0F:11:1D:AA', '00:11:32:7A:25:3D'), ('C0:3E:0F:11:1D:AA', '60:7E:DD:FD:43:EC'), ('C0:3E:0F:11:1D:AA', '3C:AB:8E:44:0D:66'), ('C0:3E:0F:11:1D:AA', '68:47:49:26:4F:9C'), ('C0:3E:0F:11:1D:AA', '90:72:82:7F:AB:F2'), ('C0:3E:0F:11:1D:AA', '92:72:82:7F:AB:F2'), ('C0:3E:0F:11:1D:AA', '90:4D:4A:50:AE:60'), ('C0:3E:0F:11:1D:AA', '7A:86:20:3F:05:73'), ('C0:3E:0F:11:1D:AA', '70:BC:10:C2:16:AB'), ('C0:3E:0F:11:1D:AA', '70:BC:10:D2:55:33'), ('C0:3E:0F:11:1D:AA', '30:F7:72:58:95:61'), ('C0:3E:0F:11:1D:AA', '44:E9:DD:F1:C7:12'), ('C0:3E:0F:11:1D:AA', '22:23:F6:E6:EA:BA'), ('C0:3E:0F:11:1D:AA', 'DC:4A:3E:B9:02:0A'), ('C0:3E:0F:11:1D:AA', '30:19:66:FD:70:31'), ('C0:3E:0F:11:1D:AA', '4C:57:CA:D4:A9:80'), ('C0:3E:0F:11:1D:AA', 'F8:B4:6A:C9:75:9D'), ('C0:3E:0F:11:1D:AA', '7C:D9:5C:28:AA:E8'), ('C0:3E:0F:11:1D:AA', '00:03:7F:2D:E2:89'), ('C0:3E:0F:11:1D:AA', '6A:F4:51:A6:25:41'), ('C0:3E:0F:11:1D:AA', 'A8:10:87:53:01:62'), ('C0:3E:0F:11:1D:AA', '00:0C:43:00:48:24'), ('C0:3E:0F:11:1D:AA', '64:CC:22:9A:65:CD'), ('C0:3E:0F:11:1D:AA', '00:25:92:25:E4:2E'), ('C0:3E:0F:11:1D:AA', '04:69:F8:56:E6:B7'), ('C0:3E:0F:11:1D:AA', '90:4D:4A:27:47:4C'), ('C0:3E:0F:11:1D:AA', '34:79:16:20:A6:1C'), ('C0:3E:0F:11:1D:AA', 'EC:F4:51:BF:46:CE'), ('C0:3E:0F:11:1D:AA', 'E4:F0:42:65:6C:13'), ('C0:3E:0F:11:1D:AA', '58:82:A8:11:4D:86'), ('C0:3E:0F:11:1D:AA', '04:A2:22:09:B1:19'), ('C0:3E:0F:11:1D:AA', '04:69:F8:6C:18:7F'), ('C0:3E:0F:11:1D:AA', '90:72:82:87:C8:76'), ('C0:3E:0F:11:1D:AA', 'F8:2D:7C:56:04:B5'), ('C0:3E:0F:11:1D:AA', 'B0:35:B5:AE:2E:76'), ('30:57:14:E0:02:B1', '10:94:BB:24:63:2F'), ('30:57:14:E0:02:B1', '88:DE:A9:83:E4:E9'), ('30:57:14:E0:02:B1', '38:A6:CE:14:0A:50'), ('30:57:14:E0:02:B1', 'A4:91:B1:8B:3C:97'), ('30:57:14:E0:02:B1', 'C8:3A:6B:34:31:2F'), ('30:57:14:E0:02:B1', '44:E9:DD:F1:C7:14'), ('30:57:14:E0:02:B1', 'F0:86:20:3F:05:77'), ('30:57:14:E0:02:B1', '7A:86:20:3F:05:70'), ('30:57:14:E0:02:B1', 'D8:31:34:3F:4C:CA'), ('30:57:14:E0:02:B1', 'B2:72:82:7F:AB:F2'), ('30:57:14:E0:02:B1', '04:A2:22:09:B1:1A'), ('30:57:14:E0:02:B1', 'D2:AC:7E:21:50:32'), ('30:57:14:E0:02:B1', '7A:86:20:3F:05:71'), ('30:57:14:E0:02:B1', '44:E9:DD:5E:6E:00'), ('30:57:14:E0:02:B1', '24:4C:E3:48:51:C1'), ('30:57:14:E0:02:B1', '62:A2:22:09:B1:18'), ('30:57:14:E0:02:B1', '38:A6:CE:14:0A:52'), ('30:57:14:E0:02:B1', 'E0:48:AF:01:0C:A7'), ('30:57:14:E0:02:B1', 'D2:2C:7E:0B:1B:32'), ('30:57:14:E0:02:B1', '20:47:ED:9E:A6:12'), ('30:57:14:E0:02:B1', '48:D7:05:E5:66:AD'), ('30:57:14:E0:02:B1', '78:67:D7:1D:80:02'), ('30:57:14:E0:02:B1', '28:28:5D:A6:75:D8'), ('30:57:14:E0:02:B1', '10:30:25:11:0B:46'), ('30:57:14:E0:02:B1', 'AC:3B:77:14:D4:3D'), ('30:57:14:E0:02:B1', 'F4:63:1F:93:89:CB'), ('30:57:14:E0:02:B1', '00:11:32:7A:25:3D'), ('30:57:14:E0:02:B1', '60:7E:DD:FD:43:EC'), ('30:57:14:E0:02:B1', '3C:AB:8E:44:0D:66'), ('30:57:14:E0:02:B1', '68:47:49:26:4F:9C'), ('30:57:14:E0:02:B1', '90:72:82:7F:AB:F2'), ('30:57:14:E0:02:B1', '92:72:82:7F:AB:F2'), ('30:57:14:E0:02:B1', '90:4D:4A:50:AE:60'), ('30:57:14:E0:02:B1', '7A:86:20:3F:05:73'), ('30:57:14:E0:02:B1', '70:BC:10:C2:16:AB'), ('30:57:14:E0:02:B1', '70:BC:10:D2:55:33'), ('30:57:14:E0:02:B1', '30:F7:72:58:95:61'), ('30:57:14:E0:02:B1', '44:E9:DD:F1:C7:12'), ('30:57:14:E0:02:B1', '22:23:F6:E6:EA:BA'), ('30:57:14:E0:02:B1', 'DC:4A:3E:B9:02:0A'), ('30:57:14:E0:02:B1', '30:19:66:FD:70:31'), ('30:57:14:E0:02:B1', '4C:57:CA:D4:A9:80'), ('30:57:14:E0:02:B1', 'F8:B4:6A:C9:75:9D'), ('30:57:14:E0:02:B1', '7C:D9:5C:28:AA:E8'), ('30:57:14:E0:02:B1', '00:03:7F:2D:E2:89'), ('30:57:14:E0:02:B1', '6A:F4:51:A6:25:41'), ('30:57:14:E0:02:B1', 'A8:10:87:53:01:62'), ('30:57:14:E0:02:B1', '00:0C:43:00:48:24'), ('30:57:14:E0:02:B1', '64:CC:22:9A:65:CD'), ('30:57:14:E0:02:B1', '00:25:92:25:E4:2E'), ('30:57:14:E0:02:B1', '04:69:F8:56:E6:B7'), ('30:57:14:E0:02:B1', '90:4D:4A:27:47:4C'), ('30:57:14:E0:02:B1', '34:79:16:20:A6:1C'), ('30:57:14:E0:02:B1', 'EC:F4:51:BF:46:CE'), ('30:57:14:E0:02:B1', 'E4:F0:42:65:6C:13'), ('30:57:14:E0:02:B1', '58:82:A8:11:4D:86'), ('30:57:14:E0:02:B1', '04:A2:22:09:B1:19'), ('10:94:BB:24:63:2F', '88:DE:A9:83:E4:E9'), ('10:94:BB:24:63:2F', '38:A6:CE:14:0A:50'), ('10:94:BB:24:63:2F', 'A4:91:B1:8B:3C:97'), ('10:94:BB:24:63:2F', 'C8:3A:6B:34:31:2F'), ('10:94:BB:24:63:2F', '44:E9:DD:F1:C7:14'), ('10:94:BB:24:63:2F', 'F0:86:20:3F:05:77'), ('10:94:BB:24:63:2F', '7A:86:20:3F:05:70'), ('10:94:BB:24:63:2F', 'D8:31:34:3F:4C:CA'), ('10:94:BB:24:63:2F', 'B2:72:82:7F:AB:F2'), ('10:94:BB:24:63:2F', '04:A2:22:09:B1:1A'), ('10:94:BB:24:63:2F', 'D2:AC:7E:21:50:32'), ('10:94:BB:24:63:2F', '7A:86:20:3F:05:71'), ('10:94:BB:24:63:2F', '44:E9:DD:5E:6E:00'), ('10:94:BB:24:63:2F', '24:4C:E3:48:51:C1'), ('10:94:BB:24:63:2F', '62:A2:22:09:B1:18'), ('10:94:BB:24:63:2F', '38:A6:CE:14:0A:52'), ('10:94:BB:24:63:2F', 'E0:48:AF:01:0C:A7'), ('10:94:BB:24:63:2F', 'D2:2C:7E:0B:1B:32'), ('10:94:BB:24:63:2F', '20:47:ED:9E:A6:12'), ('10:94:BB:24:63:2F', '48:D7:05:E5:66:AD'), ('10:94:BB:24:63:2F', '78:67:D7:1D:80:02'), ('10:94:BB:24:63:2F', '28:28:5D:A6:75:D8'), ('10:94:BB:24:63:2F', '10:30:25:11:0B:46'), ('10:94:BB:24:63:2F', 'AC:3B:77:14:D4:3D'), ('10:94:BB:24:63:2F', 'F4:63:1F:93:89:CB'), ('10:94:BB:24:63:2F', '00:11:32:7A:25:3D'), ('10:94:BB:24:63:2F', '60:7E:DD:FD:43:EC'), ('10:94:BB:24:63:2F', '3C:AB:8E:44:0D:66'), ('10:94:BB:24:63:2F', '68:47:49:26:4F:9C'), ('10:94:BB:24:63:2F', '90:72:82:7F:AB:F2'), ('10:94:BB:24:63:2F', '92:72:82:7F:AB:F2'), ('10:94:BB:24:63:2F', '90:4D:4A:50:AE:60'), ('10:94:BB:24:63:2F', '7A:86:20:3F:05:73'), ('10:94:BB:24:63:2F', '70:BC:10:C2:16:AB'), ('10:94:BB:24:63:2F', '70:BC:10:D2:55:33'), ('10:94:BB:24:63:2F', '30:F7:72:58:95:61'), ('10:94:BB:24:63:2F', '44:E9:DD:F1:C7:12'), ('10:94:BB:24:63:2F', '22:23:F6:E6:EA:BA'), ('10:94:BB:24:63:2F', 'DC:4A:3E:B9:02:0A'), ('10:94:BB:24:63:2F', '30:19:66:FD:70:31'), ('10:94:BB:24:63:2F', '4C:57:CA:D4:A9:80'), ('10:94:BB:24:63:2F', 'F8:B4:6A:C9:75:9D'), ('10:94:BB:24:63:2F', '7C:D9:5C:28:AA:E8'), ('10:94:BB:24:63:2F', '00:03:7F:2D:E2:89'), ('10:94:BB:24:63:2F', '6A:F4:51:A6:25:41'), ('10:94:BB:24:63:2F', 'A8:10:87:53:01:62'), ('10:94:BB:24:63:2F', '00:0C:43:00:48:24'), ('10:94:BB:24:63:2F', '64:CC:22:9A:65:CD'), ('10:94:BB:24:63:2F', '00:25:92:25:E4:2E'), ('10:94:BB:24:63:2F', '04:69:F8:56:E6:B7'), ('10:94:BB:24:63:2F', '90:4D:4A:27:47:4C'), ('10:94:BB:24:63:2F', '34:79:16:20:A6:1C'), ('10:94:BB:24:63:2F', 'EC:F4:51:BF:46:CE'), ('10:94:BB:24:63:2F', 'E4:F0:42:65:6C:13'), ('10:94:BB:24:63:2F', '58:82:A8:11:4D:86'), ('10:94:BB:24:63:2F', '04:A2:22:09:B1:19'), ('88:DE:A9:83:E4:E9', '38:A6:CE:14:0A:50'), ('88:DE:A9:83:E4:E9', 'A4:91:B1:8B:3C:97'), ('88:DE:A9:83:E4:E9', 'C8:3A:6B:34:31:2F'), ('88:DE:A9:83:E4:E9', '44:E9:DD:F1:C7:14'), ('88:DE:A9:83:E4:E9', 'F0:86:20:3F:05:77'), ('88:DE:A9:83:E4:E9', '7A:86:20:3F:05:70'), ('88:DE:A9:83:E4:E9', 'D8:31:34:3F:4C:CA'), ('88:DE:A9:83:E4:E9', 'B2:72:82:7F:AB:F2'), ('88:DE:A9:83:E4:E9', '04:A2:22:09:B1:1A'), ('88:DE:A9:83:E4:E9', 'D2:AC:7E:21:50:32'), ('88:DE:A9:83:E4:E9', '7A:86:20:3F:05:71'), ('88:DE:A9:83:E4:E9', '44:E9:DD:5E:6E:00'), ('88:DE:A9:83:E4:E9', '24:4C:E3:48:51:C1'), ('88:DE:A9:83:E4:E9', '62:A2:22:09:B1:18'), ('88:DE:A9:83:E4:E9', '38:A6:CE:14:0A:52'), ('88:DE:A9:83:E4:E9', 'E0:48:AF:01:0C:A7'), ('88:DE:A9:83:E4:E9', 'D2:2C:7E:0B:1B:32'), ('88:DE:A9:83:E4:E9', '20:47:ED:9E:A6:12'), ('88:DE:A9:83:E4:E9', '48:D7:05:E5:66:AD'), ('88:DE:A9:83:E4:E9', '78:67:D7:1D:80:02'), ('88:DE:A9:83:E4:E9', '28:28:5D:A6:75:D8'), ('88:DE:A9:83:E4:E9', '10:30:25:11:0B:46'), ('88:DE:A9:83:E4:E9', 'AC:3B:77:14:D4:3D'), ('88:DE:A9:83:E4:E9', 'F4:63:1F:93:89:CB'), ('88:DE:A9:83:E4:E9', '00:11:32:7A:25:3D'), ('88:DE:A9:83:E4:E9', '60:7E:DD:FD:43:EC'), ('88:DE:A9:83:E4:E9', '3C:AB:8E:44:0D:66'), ('88:DE:A9:83:E4:E9', '68:47:49:26:4F:9C'), ('88:DE:A9:83:E4:E9', '90:72:82:7F:AB:F2'), ('88:DE:A9:83:E4:E9', '92:72:82:7F:AB:F2'), ('88:DE:A9:83:E4:E9', '90:4D:4A:50:AE:60'), ('88:DE:A9:83:E4:E9', '7A:86:20:3F:05:73'), ('88:DE:A9:83:E4:E9', '70:BC:10:C2:16:AB'), ('88:DE:A9:83:E4:E9', '70:BC:10:D2:55:33'), ('88:DE:A9:83:E4:E9', '30:F7:72:58:95:61'), ('88:DE:A9:83:E4:E9', '44:E9:DD:F1:C7:12'), ('88:DE:A9:83:E4:E9', '22:23:F6:E6:EA:BA'), ('88:DE:A9:83:E4:E9', 'DC:4A:3E:B9:02:0A'), ('88:DE:A9:83:E4:E9', '30:19:66:FD:70:31'), ('88:DE:A9:83:E4:E9', '4C:57:CA:D4:A9:80'), ('88:DE:A9:83:E4:E9', 'F8:B4:6A:C9:75:9D'), ('88:DE:A9:83:E4:E9', '7C:D9:5C:28:AA:E8'), ('88:DE:A9:83:E4:E9', '00:03:7F:2D:E2:89'), ('88:DE:A9:83:E4:E9', '6A:F4:51:A6:25:41'), ('88:DE:A9:83:E4:E9', 'A8:10:87:53:01:62'), ('88:DE:A9:83:E4:E9', '00:0C:43:00:48:24'), ('88:DE:A9:83:E4:E9', '64:CC:22:9A:65:CD'), ('88:DE:A9:83:E4:E9', '00:25:92:25:E4:2E'), ('88:DE:A9:83:E4:E9', '04:69:F8:56:E6:B7'), ('88:DE:A9:83:E4:E9', '90:4D:4A:27:47:4C'), ('88:DE:A9:83:E4:E9', '34:79:16:20:A6:1C'), ('88:DE:A9:83:E4:E9', 'EC:F4:51:BF:46:CE'), ('88:DE:A9:83:E4:E9', 'E4:F0:42:65:6C:13'), ('88:DE:A9:83:E4:E9', '58:82:A8:11:4D:86'), ('88:DE:A9:83:E4:E9', '04:A2:22:09:B1:19'), ('88:DE:A9:83:E4:E9', '04:69:F8:6C:18:7F'), ('88:DE:A9:83:E4:E9', '90:72:82:87:C8:76'), ('38:A6:CE:14:0A:50', 'A4:91:B1:8B:3C:97'), ('38:A6:CE:14:0A:50', 'C8:3A:6B:34:31:2F'), ('38:A6:CE:14:0A:50', '44:E9:DD:F1:C7:14'), ('38:A6:CE:14:0A:50', 'F0:86:20:3F:05:77'), ('38:A6:CE:14:0A:50', '7A:86:20:3F:05:70'), ('38:A6:CE:14:0A:50', 'D8:31:34:3F:4C:CA'), ('38:A6:CE:14:0A:50', 'B2:72:82:7F:AB:F2'), ('38:A6:CE:14:0A:50', '04:A2:22:09:B1:1A'), ('38:A6:CE:14:0A:50', 'D2:AC:7E:21:50:32'), ('38:A6:CE:14:0A:50', '7A:86:20:3F:05:71'), ('38:A6:CE:14:0A:50', '44:E9:DD:5E:6E:00'), ('38:A6:CE:14:0A:50', '24:4C:E3:48:51:C1'), ('38:A6:CE:14:0A:50', '62:A2:22:09:B1:18'), ('38:A6:CE:14:0A:50', '38:A6:CE:14:0A:52'), ('38:A6:CE:14:0A:50', 'E0:48:AF:01:0C:A7'), ('38:A6:CE:14:0A:50', 'D2:2C:7E:0B:1B:32'), ('38:A6:CE:14:0A:50', '20:47:ED:9E:A6:12'), ('38:A6:CE:14:0A:50', '48:D7:05:E5:66:AD'), ('38:A6:CE:14:0A:50', '78:67:D7:1D:80:02'), ('38:A6:CE:14:0A:50', '28:28:5D:A6:75:D8'), ('38:A6:CE:14:0A:50', '10:30:25:11:0B:46'), ('38:A6:CE:14:0A:50', 'AC:3B:77:14:D4:3D'), ('38:A6:CE:14:0A:50', 'F4:63:1F:93:89:CB'), ('38:A6:CE:14:0A:50', '00:11:32:7A:25:3D'), ('38:A6:CE:14:0A:50', '60:7E:DD:FD:43:EC'), ('38:A6:CE:14:0A:50', '3C:AB:8E:44:0D:66'), ('38:A6:CE:14:0A:50', '68:47:49:26:4F:9C'), ('38:A6:CE:14:0A:50', '90:72:82:7F:AB:F2'), ('38:A6:CE:14:0A:50', '92:72:82:7F:AB:F2'), ('38:A6:CE:14:0A:50', '90:4D:4A:50:AE:60'), ('38:A6:CE:14:0A:50', '7A:86:20:3F:05:73'), ('38:A6:CE:14:0A:50', '70:BC:10:C2:16:AB'), ('38:A6:CE:14:0A:50', '70:BC:10:D2:55:33'), ('38:A6:CE:14:0A:50', '30:F7:72:58:95:61'), ('38:A6:CE:14:0A:50', '44:E9:DD:F1:C7:12'), ('38:A6:CE:14:0A:50', '22:23:F6:E6:EA:BA'), ('38:A6:CE:14:0A:50', 'DC:4A:3E:B9:02:0A'), ('38:A6:CE:14:0A:50', '30:19:66:FD:70:31'), ('38:A6:CE:14:0A:50', '4C:57:CA:D4:A9:80'), ('38:A6:CE:14:0A:50', 'F8:B4:6A:C9:75:9D'), ('38:A6:CE:14:0A:50', '7C:D9:5C:28:AA:E8'), ('38:A6:CE:14:0A:50', '00:03:7F:2D:E2:89'), ('38:A6:CE:14:0A:50', '6A:F4:51:A6:25:41'), ('38:A6:CE:14:0A:50', 'A8:10:87:53:01:62'), ('38:A6:CE:14:0A:50', '00:0C:43:00:48:24'), ('38:A6:CE:14:0A:50', '64:CC:22:9A:65:CD'), ('38:A6:CE:14:0A:50', '00:25:92:25:E4:2E'), ('38:A6:CE:14:0A:50', '04:69:F8:56:E6:B7'), ('38:A6:CE:14:0A:50', '90:4D:4A:27:47:4C'), ('38:A6:CE:14:0A:50', '34:79:16:20:A6:1C'), ('38:A6:CE:14:0A:50', 'EC:F4:51:BF:46:CE'), ('38:A6:CE:14:0A:50', 'E4:F0:42:65:6C:13'), ('38:A6:CE:14:0A:50', '58:82:A8:11:4D:86'), ('38:A6:CE:14:0A:50', '04:A2:22:09:B1:19'), ('38:A6:CE:14:0A:50', '04:69:F8:6C:18:7F'), ('38:A6:CE:14:0A:50', '90:72:82:87:C8:76'), ('38:A6:CE:14:0A:50', 'F8:2D:7C:56:04:B5'), ('38:A6:CE:14:0A:50', 'B0:35:B5:AE:2E:76'), ('A4:91:B1:8B:3C:97', 'C8:3A:6B:34:31:2F'), ('A4:91:B1:8B:3C:97', '44:E9:DD:F1:C7:14'), ('A4:91:B1:8B:3C:97', 'F0:86:20:3F:05:77'), ('A4:91:B1:8B:3C:97', '7A:86:20:3F:05:70'), ('A4:91:B1:8B:3C:97', 'D8:31:34:3F:4C:CA'), ('A4:91:B1:8B:3C:97', 'B2:72:82:7F:AB:F2'), ('A4:91:B1:8B:3C:97', '04:A2:22:09:B1:1A'), ('A4:91:B1:8B:3C:97', 'D2:AC:7E:21:50:32'), ('A4:91:B1:8B:3C:97', '7A:86:20:3F:05:71'), ('A4:91:B1:8B:3C:97', '44:E9:DD:5E:6E:00'), ('A4:91:B1:8B:3C:97', '24:4C:E3:48:51:C1'), ('A4:91:B1:8B:3C:97', '62:A2:22:09:B1:18'), ('A4:91:B1:8B:3C:97', '38:A6:CE:14:0A:52'), ('A4:91:B1:8B:3C:97', 'E0:48:AF:01:0C:A7'), ('A4:91:B1:8B:3C:97', 'D2:2C:7E:0B:1B:32'), ('A4:91:B1:8B:3C:97', '20:47:ED:9E:A6:12'), ('A4:91:B1:8B:3C:97', '48:D7:05:E5:66:AD'), ('A4:91:B1:8B:3C:97', '78:67:D7:1D:80:02'), ('A4:91:B1:8B:3C:97', '28:28:5D:A6:75:D8'), ('A4:91:B1:8B:3C:97', '10:30:25:11:0B:46'), ('A4:91:B1:8B:3C:97', 'AC:3B:77:14:D4:3D'), ('A4:91:B1:8B:3C:97', 'F4:63:1F:93:89:CB'), ('A4:91:B1:8B:3C:97', '00:11:32:7A:25:3D'), ('A4:91:B1:8B:3C:97', '60:7E:DD:FD:43:EC'), ('A4:91:B1:8B:3C:97', '3C:AB:8E:44:0D:66'), ('A4:91:B1:8B:3C:97', '68:47:49:26:4F:9C'), ('A4:91:B1:8B:3C:97', '90:72:82:7F:AB:F2'), ('A4:91:B1:8B:3C:97', '92:72:82:7F:AB:F2'), ('A4:91:B1:8B:3C:97', '90:4D:4A:50:AE:60'), ('A4:91:B1:8B:3C:97', '7A:86:20:3F:05:73'), ('A4:91:B1:8B:3C:97', '70:BC:10:C2:16:AB'), ('A4:91:B1:8B:3C:97', '70:BC:10:D2:55:33'), ('A4:91:B1:8B:3C:97', '30:F7:72:58:95:61'), ('A4:91:B1:8B:3C:97', '44:E9:DD:F1:C7:12'), ('A4:91:B1:8B:3C:97', '22:23:F6:E6:EA:BA'), ('A4:91:B1:8B:3C:97', 'DC:4A:3E:B9:02:0A'), ('A4:91:B1:8B:3C:97', '30:19:66:FD:70:31'), ('A4:91:B1:8B:3C:97', '4C:57:CA:D4:A9:80'), ('A4:91:B1:8B:3C:97', 'F8:B4:6A:C9:75:9D'), ('A4:91:B1:8B:3C:97', '7C:D9:5C:28:AA:E8'), ('A4:91:B1:8B:3C:97', '00:03:7F:2D:E2:89'), ('A4:91:B1:8B:3C:97', '6A:F4:51:A6:25:41'), ('A4:91:B1:8B:3C:97', 'A8:10:87:53:01:62'), ('A4:91:B1:8B:3C:97', '00:0C:43:00:48:24'), ('A4:91:B1:8B:3C:97', '64:CC:22:9A:65:CD'), ('A4:91:B1:8B:3C:97', '00:25:92:25:E4:2E'), ('A4:91:B1:8B:3C:97', '04:69:F8:56:E6:B7'), ('A4:91:B1:8B:3C:97', '90:4D:4A:27:47:4C'), ('A4:91:B1:8B:3C:97', '34:79:16:20:A6:1C'), ('A4:91:B1:8B:3C:97', 'EC:F4:51:BF:46:CE'), ('A4:91:B1:8B:3C:97', 'E4:F0:42:65:6C:13'), ('A4:91:B1:8B:3C:97', '58:82:A8:11:4D:86'), ('A4:91:B1:8B:3C:97', '04:A2:22:09:B1:19'), ('C8:3A:6B:34:31:2F', '44:E9:DD:F1:C7:14'), ('C8:3A:6B:34:31:2F', 'F0:86:20:3F:05:77'), ('C8:3A:6B:34:31:2F', '7A:86:20:3F:05:70'), ('C8:3A:6B:34:31:2F', 'D8:31:34:3F:4C:CA'), ('C8:3A:6B:34:31:2F', 'B2:72:82:7F:AB:F2'), ('C8:3A:6B:34:31:2F', '04:A2:22:09:B1:1A'), ('C8:3A:6B:34:31:2F', 'D2:AC:7E:21:50:32'), ('C8:3A:6B:34:31:2F', '7A:86:20:3F:05:71'), ('C8:3A:6B:34:31:2F', '44:E9:DD:5E:6E:00'), ('C8:3A:6B:34:31:2F', '24:4C:E3:48:51:C1'), ('C8:3A:6B:34:31:2F', '62:A2:22:09:B1:18'), ('C8:3A:6B:34:31:2F', '38:A6:CE:14:0A:52'), ('C8:3A:6B:34:31:2F', 'E0:48:AF:01:0C:A7'), ('C8:3A:6B:34:31:2F', 'D2:2C:7E:0B:1B:32'), ('C8:3A:6B:34:31:2F', '20:47:ED:9E:A6:12'), ('C8:3A:6B:34:31:2F', '48:D7:05:E5:66:AD'), ('C8:3A:6B:34:31:2F', '78:67:D7:1D:80:02'), ('C8:3A:6B:34:31:2F', '28:28:5D:A6:75:D8'), ('C8:3A:6B:34:31:2F', '10:30:25:11:0B:46'), ('C8:3A:6B:34:31:2F', 'AC:3B:77:14:D4:3D'), ('C8:3A:6B:34:31:2F', 'F4:63:1F:93:89:CB'), ('C8:3A:6B:34:31:2F', '00:11:32:7A:25:3D'), ('C8:3A:6B:34:31:2F', '60:7E:DD:FD:43:EC'), ('C8:3A:6B:34:31:2F', '3C:AB:8E:44:0D:66'), ('C8:3A:6B:34:31:2F', '68:47:49:26:4F:9C'), ('C8:3A:6B:34:31:2F', '90:72:82:7F:AB:F2'), ('C8:3A:6B:34:31:2F', '92:72:82:7F:AB:F2'), ('C8:3A:6B:34:31:2F', '90:4D:4A:50:AE:60'), ('C8:3A:6B:34:31:2F', '7A:86:20:3F:05:73'), ('C8:3A:6B:34:31:2F', '70:BC:10:C2:16:AB'), ('C8:3A:6B:34:31:2F', '70:BC:10:D2:55:33'), ('C8:3A:6B:34:31:2F', '30:F7:72:58:95:61'), ('C8:3A:6B:34:31:2F', '44:E9:DD:F1:C7:12'), ('C8:3A:6B:34:31:2F', '22:23:F6:E6:EA:BA'), ('C8:3A:6B:34:31:2F', 'DC:4A:3E:B9:02:0A'), ('C8:3A:6B:34:31:2F', '30:19:66:FD:70:31'), ('C8:3A:6B:34:31:2F', '4C:57:CA:D4:A9:80'), ('C8:3A:6B:34:31:2F', 'F8:B4:6A:C9:75:9D'), ('C8:3A:6B:34:31:2F', '7C:D9:5C:28:AA:E8'), ('C8:3A:6B:34:31:2F', '00:03:7F:2D:E2:89'), ('C8:3A:6B:34:31:2F', '6A:F4:51:A6:25:41'), ('C8:3A:6B:34:31:2F', 'A8:10:87:53:01:62'), ('C8:3A:6B:34:31:2F', '00:0C:43:00:48:24'), ('C8:3A:6B:34:31:2F', '64:CC:22:9A:65:CD'), ('C8:3A:6B:34:31:2F', '00:25:92:25:E4:2E'), ('C8:3A:6B:34:31:2F', '04:69:F8:56:E6:B7'), ('C8:3A:6B:34:31:2F', '90:4D:4A:27:47:4C'), ('C8:3A:6B:34:31:2F', '34:79:16:20:A6:1C'), ('C8:3A:6B:34:31:2F', 'EC:F4:51:BF:46:CE'), ('C8:3A:6B:34:31:2F', 'E4:F0:42:65:6C:13'), ('C8:3A:6B:34:31:2F', '58:82:A8:11:4D:86'), ('C8:3A:6B:34:31:2F', '04:A2:22:09:B1:19'), ('44:E9:DD:F1:C7:14', 'F0:86:20:3F:05:77'), ('44:E9:DD:F1:C7:14', '7A:86:20:3F:05:70'), ('44:E9:DD:F1:C7:14', 'D8:31:34:3F:4C:CA'), ('44:E9:DD:F1:C7:14', 'B2:72:82:7F:AB:F2'), ('44:E9:DD:F1:C7:14', '04:A2:22:09:B1:1A'), ('44:E9:DD:F1:C7:14', 'D2:AC:7E:21:50:32'), ('44:E9:DD:F1:C7:14', '7A:86:20:3F:05:71'), ('44:E9:DD:F1:C7:14', '44:E9:DD:5E:6E:00'), ('44:E9:DD:F1:C7:14', '24:4C:E3:48:51:C1'), ('44:E9:DD:F1:C7:14', '62:A2:22:09:B1:18'), ('44:E9:DD:F1:C7:14', '38:A6:CE:14:0A:52'), ('44:E9:DD:F1:C7:14', 'E0:48:AF:01:0C:A7'), ('44:E9:DD:F1:C7:14', 'D2:2C:7E:0B:1B:32'), ('44:E9:DD:F1:C7:14', '20:47:ED:9E:A6:12'), ('44:E9:DD:F1:C7:14', '48:D7:05:E5:66:AD'), ('44:E9:DD:F1:C7:14', '78:67:D7:1D:80:02'), ('44:E9:DD:F1:C7:14', '28:28:5D:A6:75:D8'), ('44:E9:DD:F1:C7:14', '10:30:25:11:0B:46'), ('44:E9:DD:F1:C7:14', 'AC:3B:77:14:D4:3D'), ('44:E9:DD:F1:C7:14', 'F4:63:1F:93:89:CB'), ('44:E9:DD:F1:C7:14', '00:11:32:7A:25:3D'), ('44:E9:DD:F1:C7:14', '60:7E:DD:FD:43:EC'), ('44:E9:DD:F1:C7:14', '3C:AB:8E:44:0D:66'), ('44:E9:DD:F1:C7:14', '68:47:49:26:4F:9C'), ('44:E9:DD:F1:C7:14', '90:72:82:7F:AB:F2'), ('44:E9:DD:F1:C7:14', '92:72:82:7F:AB:F2'), ('44:E9:DD:F1:C7:14', '90:4D:4A:50:AE:60'), ('44:E9:DD:F1:C7:14', '7A:86:20:3F:05:73'), ('44:E9:DD:F1:C7:14', '70:BC:10:C2:16:AB'), ('44:E9:DD:F1:C7:14', '70:BC:10:D2:55:33'), ('44:E9:DD:F1:C7:14', '30:F7:72:58:95:61'), ('44:E9:DD:F1:C7:14', '44:E9:DD:F1:C7:12'), ('44:E9:DD:F1:C7:14', '22:23:F6:E6:EA:BA'), ('44:E9:DD:F1:C7:14', 'DC:4A:3E:B9:02:0A'), ('44:E9:DD:F1:C7:14', '30:19:66:FD:70:31'), ('44:E9:DD:F1:C7:14', '4C:57:CA:D4:A9:80'), ('44:E9:DD:F1:C7:14', 'F8:B4:6A:C9:75:9D'), ('44:E9:DD:F1:C7:14', '7C:D9:5C:28:AA:E8'), ('44:E9:DD:F1:C7:14', '00:03:7F:2D:E2:89'), ('44:E9:DD:F1:C7:14', '6A:F4:51:A6:25:41'), ('44:E9:DD:F1:C7:14', 'A8:10:87:53:01:62'), ('44:E9:DD:F1:C7:14', '00:0C:43:00:48:24'), ('44:E9:DD:F1:C7:14', '64:CC:22:9A:65:CD'), ('44:E9:DD:F1:C7:14', '00:25:92:25:E4:2E'), ('44:E9:DD:F1:C7:14', '04:69:F8:56:E6:B7'), ('44:E9:DD:F1:C7:14', '90:4D:4A:27:47:4C'), ('44:E9:DD:F1:C7:14', '34:79:16:20:A6:1C'), ('44:E9:DD:F1:C7:14', 'EC:F4:51:BF:46:CE'), ('44:E9:DD:F1:C7:14', 'E4:F0:42:65:6C:13'), ('44:E9:DD:F1:C7:14', '58:82:A8:11:4D:86'), ('44:E9:DD:F1:C7:14', '04:A2:22:09:B1:19'), ('F0:86:20:3F:05:77', '7A:86:20:3F:05:70'), ('F0:86:20:3F:05:77', 'D8:31:34:3F:4C:CA'), ('F0:86:20:3F:05:77', 'B2:72:82:7F:AB:F2'), ('F0:86:20:3F:05:77', '04:A2:22:09:B1:1A'), ('F0:86:20:3F:05:77', 'D2:AC:7E:21:50:32'), ('F0:86:20:3F:05:77', '7A:86:20:3F:05:71'), ('F0:86:20:3F:05:77', '44:E9:DD:5E:6E:00'), ('F0:86:20:3F:05:77', '24:4C:E3:48:51:C1'), ('F0:86:20:3F:05:77', '62:A2:22:09:B1:18'), ('F0:86:20:3F:05:77', '38:A6:CE:14:0A:52'), ('F0:86:20:3F:05:77', 'E0:48:AF:01:0C:A7'), ('F0:86:20:3F:05:77', 'D2:2C:7E:0B:1B:32'), ('F0:86:20:3F:05:77', '20:47:ED:9E:A6:12'), ('F0:86:20:3F:05:77', '48:D7:05:E5:66:AD'), ('F0:86:20:3F:05:77', '78:67:D7:1D:80:02'), ('F0:86:20:3F:05:77', '28:28:5D:A6:75:D8'), ('F0:86:20:3F:05:77', '10:30:25:11:0B:46'), ('F0:86:20:3F:05:77', 'AC:3B:77:14:D4:3D'), ('F0:86:20:3F:05:77', 'F4:63:1F:93:89:CB'), ('F0:86:20:3F:05:77', '00:11:32:7A:25:3D'), ('F0:86:20:3F:05:77', '60:7E:DD:FD:43:EC'), ('F0:86:20:3F:05:77', '3C:AB:8E:44:0D:66'), ('F0:86:20:3F:05:77', '68:47:49:26:4F:9C'), ('F0:86:20:3F:05:77', '90:72:82:7F:AB:F2'), ('F0:86:20:3F:05:77', '92:72:82:7F:AB:F2'), ('F0:86:20:3F:05:77', '90:4D:4A:50:AE:60'), ('F0:86:20:3F:05:77', '7A:86:20:3F:05:73'), ('F0:86:20:3F:05:77', '70:BC:10:C2:16:AB'), ('F0:86:20:3F:05:77', '70:BC:10:D2:55:33'), ('F0:86:20:3F:05:77', '30:F7:72:58:95:61'), ('F0:86:20:3F:05:77', '44:E9:DD:F1:C7:12'), ('F0:86:20:3F:05:77', '22:23:F6:E6:EA:BA'), ('F0:86:20:3F:05:77', 'DC:4A:3E:B9:02:0A'), ('F0:86:20:3F:05:77', '30:19:66:FD:70:31'), ('F0:86:20:3F:05:77', '4C:57:CA:D4:A9:80'), ('F0:86:20:3F:05:77', 'F8:B4:6A:C9:75:9D'), ('F0:86:20:3F:05:77', '7C:D9:5C:28:AA:E8'), ('F0:86:20:3F:05:77', '00:03:7F:2D:E2:89'), ('F0:86:20:3F:05:77', '6A:F4:51:A6:25:41'), ('F0:86:20:3F:05:77', 'A8:10:87:53:01:62'), ('F0:86:20:3F:05:77', '00:0C:43:00:48:24'), ('F0:86:20:3F:05:77', '64:CC:22:9A:65:CD'), ('F0:86:20:3F:05:77', '00:25:92:25:E4:2E'), ('F0:86:20:3F:05:77', '04:69:F8:56:E6:B7'), ('F0:86:20:3F:05:77', '90:4D:4A:27:47:4C'), ('F0:86:20:3F:05:77', '34:79:16:20:A6:1C'), ('F0:86:20:3F:05:77', 'EC:F4:51:BF:46:CE'), ('F0:86:20:3F:05:77', 'E4:F0:42:65:6C:13'), ('F0:86:20:3F:05:77', '58:82:A8:11:4D:86'), ('F0:86:20:3F:05:77', '04:A2:22:09:B1:19'), ('7A:86:20:3F:05:70', 'D8:31:34:3F:4C:CA'), ('7A:86:20:3F:05:70', 'B2:72:82:7F:AB:F2'), ('7A:86:20:3F:05:70', '04:A2:22:09:B1:1A'), ('7A:86:20:3F:05:70', 'D2:AC:7E:21:50:32'), ('7A:86:20:3F:05:70', '7A:86:20:3F:05:71'), ('7A:86:20:3F:05:70', '44:E9:DD:5E:6E:00'), ('7A:86:20:3F:05:70', '24:4C:E3:48:51:C1'), ('7A:86:20:3F:05:70', '62:A2:22:09:B1:18'), ('7A:86:20:3F:05:70', '38:A6:CE:14:0A:52'), ('7A:86:20:3F:05:70', 'E0:48:AF:01:0C:A7'), ('7A:86:20:3F:05:70', 'D2:2C:7E:0B:1B:32'), ('7A:86:20:3F:05:70', '20:47:ED:9E:A6:12'), ('7A:86:20:3F:05:70', '48:D7:05:E5:66:AD'), ('7A:86:20:3F:05:70', '78:67:D7:1D:80:02'), ('7A:86:20:3F:05:70', '28:28:5D:A6:75:D8'), ('7A:86:20:3F:05:70', '10:30:25:11:0B:46'), ('7A:86:20:3F:05:70', 'AC:3B:77:14:D4:3D'), ('7A:86:20:3F:05:70', 'F4:63:1F:93:89:CB'), ('7A:86:20:3F:05:70', '00:11:32:7A:25:3D'), ('7A:86:20:3F:05:70', '60:7E:DD:FD:43:EC'), ('7A:86:20:3F:05:70', '3C:AB:8E:44:0D:66'), ('7A:86:20:3F:05:70', '68:47:49:26:4F:9C'), ('7A:86:20:3F:05:70', '90:72:82:7F:AB:F2'), ('7A:86:20:3F:05:70', '92:72:82:7F:AB:F2'), ('7A:86:20:3F:05:70', '90:4D:4A:50:AE:60'), ('7A:86:20:3F:05:70', '7A:86:20:3F:05:73'), ('7A:86:20:3F:05:70', '70:BC:10:C2:16:AB'), ('7A:86:20:3F:05:70', '70:BC:10:D2:55:33'), ('7A:86:20:3F:05:70', '30:F7:72:58:95:61'), ('7A:86:20:3F:05:70', '44:E9:DD:F1:C7:12'), ('7A:86:20:3F:05:70', '22:23:F6:E6:EA:BA'), ('7A:86:20:3F:05:70', 'DC:4A:3E:B9:02:0A'), ('7A:86:20:3F:05:70', '30:19:66:FD:70:31'), ('7A:86:20:3F:05:70', '4C:57:CA:D4:A9:80'), ('7A:86:20:3F:05:70', 'F8:B4:6A:C9:75:9D'), ('7A:86:20:3F:05:70', '7C:D9:5C:28:AA:E8'), ('7A:86:20:3F:05:70', '00:03:7F:2D:E2:89'), ('7A:86:20:3F:05:70', '6A:F4:51:A6:25:41'), ('7A:86:20:3F:05:70', 'A8:10:87:53:01:62'), ('7A:86:20:3F:05:70', '00:0C:43:00:48:24'), ('7A:86:20:3F:05:70', '64:CC:22:9A:65:CD'), ('7A:86:20:3F:05:70', '00:25:92:25:E4:2E'), ('7A:86:20:3F:05:70', '04:69:F8:56:E6:B7'), ('7A:86:20:3F:05:70', '90:4D:4A:27:47:4C'), ('7A:86:20:3F:05:70', '34:79:16:20:A6:1C'), ('7A:86:20:3F:05:70', 'EC:F4:51:BF:46:CE'), ('7A:86:20:3F:05:70', 'E4:F0:42:65:6C:13'), ('7A:86:20:3F:05:70', '58:82:A8:11:4D:86'), ('7A:86:20:3F:05:70', '04:A2:22:09:B1:19'), ('7A:86:20:3F:05:70', '04:69:F8:6C:18:7F'), ('7A:86:20:3F:05:70', '90:72:82:87:C8:76'), ('7A:86:20:3F:05:70', 'F8:2D:7C:56:04:B5'), ('7A:86:20:3F:05:70', 'B0:35:B5:AE:2E:76'), ('D8:31:34:3F:4C:CA', 'B2:72:82:7F:AB:F2'), ('D8:31:34:3F:4C:CA', '04:A2:22:09:B1:1A'), ('D8:31:34:3F:4C:CA', 'D2:AC:7E:21:50:32'), ('D8:31:34:3F:4C:CA', '7A:86:20:3F:05:71'), ('D8:31:34:3F:4C:CA', '44:E9:DD:5E:6E:00'), ('D8:31:34:3F:4C:CA', '24:4C:E3:48:51:C1'), ('D8:31:34:3F:4C:CA', '62:A2:22:09:B1:18'), ('D8:31:34:3F:4C:CA', '38:A6:CE:14:0A:52'), ('D8:31:34:3F:4C:CA', 'E0:48:AF:01:0C:A7'), ('D8:31:34:3F:4C:CA', 'D2:2C:7E:0B:1B:32'), ('D8:31:34:3F:4C:CA', '20:47:ED:9E:A6:12'), ('D8:31:34:3F:4C:CA', '48:D7:05:E5:66:AD'), ('D8:31:34:3F:4C:CA', '78:67:D7:1D:80:02'), ('D8:31:34:3F:4C:CA', '28:28:5D:A6:75:D8'), ('D8:31:34:3F:4C:CA', '10:30:25:11:0B:46'), ('D8:31:34:3F:4C:CA', 'AC:3B:77:14:D4:3D'), ('D8:31:34:3F:4C:CA', 'F4:63:1F:93:89:CB'), ('D8:31:34:3F:4C:CA', '00:11:32:7A:25:3D'), ('D8:31:34:3F:4C:CA', '60:7E:DD:FD:43:EC'), ('D8:31:34:3F:4C:CA', '3C:AB:8E:44:0D:66'), ('D8:31:34:3F:4C:CA', '68:47:49:26:4F:9C'), ('D8:31:34:3F:4C:CA', '90:72:82:7F:AB:F2'), ('D8:31:34:3F:4C:CA', '92:72:82:7F:AB:F2'), ('D8:31:34:3F:4C:CA', '90:4D:4A:50:AE:60'), ('D8:31:34:3F:4C:CA', '7A:86:20:3F:05:73'), ('D8:31:34:3F:4C:CA', '70:BC:10:C2:16:AB'), ('D8:31:34:3F:4C:CA', '70:BC:10:D2:55:33'), ('D8:31:34:3F:4C:CA', '30:F7:72:58:95:61'), ('D8:31:34:3F:4C:CA', '44:E9:DD:F1:C7:12'), ('D8:31:34:3F:4C:CA', '22:23:F6:E6:EA:BA'), ('D8:31:34:3F:4C:CA', 'DC:4A:3E:B9:02:0A'), ('D8:31:34:3F:4C:CA', '30:19:66:FD:70:31'), ('D8:31:34:3F:4C:CA', '4C:57:CA:D4:A9:80'), ('D8:31:34:3F:4C:CA', 'F8:B4:6A:C9:75:9D'), ('D8:31:34:3F:4C:CA', '7C:D9:5C:28:AA:E8'), ('D8:31:34:3F:4C:CA', '00:03:7F:2D:E2:89'), ('D8:31:34:3F:4C:CA', '6A:F4:51:A6:25:41'), ('D8:31:34:3F:4C:CA', 'A8:10:87:53:01:62'), ('D8:31:34:3F:4C:CA', '00:0C:43:00:48:24'), ('D8:31:34:3F:4C:CA', '64:CC:22:9A:65:CD'), ('D8:31:34:3F:4C:CA', '00:25:92:25:E4:2E'), ('D8:31:34:3F:4C:CA', '04:69:F8:56:E6:B7'), ('D8:31:34:3F:4C:CA', '90:4D:4A:27:47:4C'), ('D8:31:34:3F:4C:CA', '34:79:16:20:A6:1C'), ('D8:31:34:3F:4C:CA', 'EC:F4:51:BF:46:CE'), ('D8:31:34:3F:4C:CA', 'E4:F0:42:65:6C:13'), ('D8:31:34:3F:4C:CA', '58:82:A8:11:4D:86'), ('D8:31:34:3F:4C:CA', '04:A2:22:09:B1:19'), ('B2:72:82:7F:AB:F2', '04:A2:22:09:B1:1A'), ('B2:72:82:7F:AB:F2', 'D2:AC:7E:21:50:32'), ('B2:72:82:7F:AB:F2', '7A:86:20:3F:05:71'), ('B2:72:82:7F:AB:F2', '44:E9:DD:5E:6E:00'), ('B2:72:82:7F:AB:F2', '24:4C:E3:48:51:C1'), ('B2:72:82:7F:AB:F2', '62:A2:22:09:B1:18'), ('B2:72:82:7F:AB:F2', '38:A6:CE:14:0A:52'), ('B2:72:82:7F:AB:F2', 'E0:48:AF:01:0C:A7'), ('B2:72:82:7F:AB:F2', 'D2:2C:7E:0B:1B:32'), ('B2:72:82:7F:AB:F2', '20:47:ED:9E:A6:12'), ('B2:72:82:7F:AB:F2', '48:D7:05:E5:66:AD'), ('B2:72:82:7F:AB:F2', '78:67:D7:1D:80:02'), ('B2:72:82:7F:AB:F2', '28:28:5D:A6:75:D8'), ('B2:72:82:7F:AB:F2', '10:30:25:11:0B:46'), ('B2:72:82:7F:AB:F2', 'AC:3B:77:14:D4:3D'), ('B2:72:82:7F:AB:F2', 'F4:63:1F:93:89:CB'), ('B2:72:82:7F:AB:F2', '00:11:32:7A:25:3D'), ('B2:72:82:7F:AB:F2', '60:7E:DD:FD:43:EC'), ('B2:72:82:7F:AB:F2', '3C:AB:8E:44:0D:66'), ('B2:72:82:7F:AB:F2', '68:47:49:26:4F:9C'), ('B2:72:82:7F:AB:F2', '90:72:82:7F:AB:F2'), ('B2:72:82:7F:AB:F2', '92:72:82:7F:AB:F2'), ('B2:72:82:7F:AB:F2', '90:4D:4A:50:AE:60'), ('B2:72:82:7F:AB:F2', '7A:86:20:3F:05:73'), ('B2:72:82:7F:AB:F2', '70:BC:10:C2:16:AB'), ('B2:72:82:7F:AB:F2', '70:BC:10:D2:55:33'), ('B2:72:82:7F:AB:F2', '30:F7:72:58:95:61'), ('B2:72:82:7F:AB:F2', '44:E9:DD:F1:C7:12'), ('B2:72:82:7F:AB:F2', '22:23:F6:E6:EA:BA'), ('B2:72:82:7F:AB:F2', 'DC:4A:3E:B9:02:0A'), ('B2:72:82:7F:AB:F2', '30:19:66:FD:70:31'), ('B2:72:82:7F:AB:F2', '4C:57:CA:D4:A9:80'), ('B2:72:82:7F:AB:F2', 'F8:B4:6A:C9:75:9D'), ('B2:72:82:7F:AB:F2', '7C:D9:5C:28:AA:E8'), ('B2:72:82:7F:AB:F2', '00:03:7F:2D:E2:89'), ('B2:72:82:7F:AB:F2', '6A:F4:51:A6:25:41'), ('B2:72:82:7F:AB:F2', 'A8:10:87:53:01:62'), ('B2:72:82:7F:AB:F2', '00:0C:43:00:48:24'), ('B2:72:82:7F:AB:F2', '64:CC:22:9A:65:CD'), ('B2:72:82:7F:AB:F2', '00:25:92:25:E4:2E'), ('B2:72:82:7F:AB:F2', '04:69:F8:56:E6:B7'), ('B2:72:82:7F:AB:F2', '90:4D:4A:27:47:4C'), ('B2:72:82:7F:AB:F2', '34:79:16:20:A6:1C'), ('B2:72:82:7F:AB:F2', 'EC:F4:51:BF:46:CE'), ('B2:72:82:7F:AB:F2', 'E4:F0:42:65:6C:13'), ('B2:72:82:7F:AB:F2', '58:82:A8:11:4D:86'), ('B2:72:82:7F:AB:F2', '04:A2:22:09:B1:19'), ('04:A2:22:09:B1:1A', 'D2:AC:7E:21:50:32'), ('04:A2:22:09:B1:1A', '7A:86:20:3F:05:71'), ('04:A2:22:09:B1:1A', '44:E9:DD:5E:6E:00'), ('04:A2:22:09:B1:1A', '24:4C:E3:48:51:C1'), ('04:A2:22:09:B1:1A', '62:A2:22:09:B1:18'), ('04:A2:22:09:B1:1A', '38:A6:CE:14:0A:52'), ('04:A2:22:09:B1:1A', 'E0:48:AF:01:0C:A7'), ('04:A2:22:09:B1:1A', 'D2:2C:7E:0B:1B:32'), ('04:A2:22:09:B1:1A', '20:47:ED:9E:A6:12'), ('04:A2:22:09:B1:1A', '48:D7:05:E5:66:AD'), ('04:A2:22:09:B1:1A', '78:67:D7:1D:80:02'), ('04:A2:22:09:B1:1A', '28:28:5D:A6:75:D8'), ('04:A2:22:09:B1:1A', '10:30:25:11:0B:46'), ('04:A2:22:09:B1:1A', 'AC:3B:77:14:D4:3D'), ('04:A2:22:09:B1:1A', 'F4:63:1F:93:89:CB'), ('04:A2:22:09:B1:1A', '00:11:32:7A:25:3D'), ('04:A2:22:09:B1:1A', '60:7E:DD:FD:43:EC'), ('04:A2:22:09:B1:1A', '3C:AB:8E:44:0D:66'), ('04:A2:22:09:B1:1A', '68:47:49:26:4F:9C'), ('04:A2:22:09:B1:1A', '90:72:82:7F:AB:F2'), ('04:A2:22:09:B1:1A', '92:72:82:7F:AB:F2'), ('04:A2:22:09:B1:1A', '90:4D:4A:50:AE:60'), ('04:A2:22:09:B1:1A', '7A:86:20:3F:05:73'), ('04:A2:22:09:B1:1A', '70:BC:10:C2:16:AB'), ('04:A2:22:09:B1:1A', '70:BC:10:D2:55:33'), ('04:A2:22:09:B1:1A', '30:F7:72:58:95:61'), ('04:A2:22:09:B1:1A', '44:E9:DD:F1:C7:12'), ('04:A2:22:09:B1:1A', '22:23:F6:E6:EA:BA'), ('04:A2:22:09:B1:1A', 'DC:4A:3E:B9:02:0A'), ('04:A2:22:09:B1:1A', '30:19:66:FD:70:31'), ('04:A2:22:09:B1:1A', '4C:57:CA:D4:A9:80'), ('04:A2:22:09:B1:1A', 'F8:B4:6A:C9:75:9D'), ('04:A2:22:09:B1:1A', '7C:D9:5C:28:AA:E8'), ('04:A2:22:09:B1:1A', '00:03:7F:2D:E2:89'), ('04:A2:22:09:B1:1A', '6A:F4:51:A6:25:41'), ('04:A2:22:09:B1:1A', 'A8:10:87:53:01:62'), ('04:A2:22:09:B1:1A', '00:0C:43:00:48:24'), ('04:A2:22:09:B1:1A', '64:CC:22:9A:65:CD'), ('04:A2:22:09:B1:1A', '00:25:92:25:E4:2E'), ('04:A2:22:09:B1:1A', '04:69:F8:56:E6:B7'), ('04:A2:22:09:B1:1A', '90:4D:4A:27:47:4C'), ('04:A2:22:09:B1:1A', '34:79:16:20:A6:1C'), ('04:A2:22:09:B1:1A', 'EC:F4:51:BF:46:CE'), ('04:A2:22:09:B1:1A', 'E4:F0:42:65:6C:13'), ('04:A2:22:09:B1:1A', '58:82:A8:11:4D:86'), ('04:A2:22:09:B1:1A', '04:A2:22:09:B1:19'), ('04:A2:22:09:B1:1A', '04:69:F8:6C:18:7F'), ('04:A2:22:09:B1:1A', '90:72:82:87:C8:76'), ('04:A2:22:09:B1:1A', 'F8:2D:7C:56:04:B5'), ('04:A2:22:09:B1:1A', 'B0:35:B5:AE:2E:76'), ('D2:AC:7E:21:50:32', '7A:86:20:3F:05:71'), ('D2:AC:7E:21:50:32', '44:E9:DD:5E:6E:00'), ('D2:AC:7E:21:50:32', '24:4C:E3:48:51:C1'), ('D2:AC:7E:21:50:32', '62:A2:22:09:B1:18'), ('D2:AC:7E:21:50:32', '38:A6:CE:14:0A:52'), ('D2:AC:7E:21:50:32', 'E0:48:AF:01:0C:A7'), ('D2:AC:7E:21:50:32', 'D2:2C:7E:0B:1B:32'), ('D2:AC:7E:21:50:32', '20:47:ED:9E:A6:12'), ('D2:AC:7E:21:50:32', '48:D7:05:E5:66:AD'), ('D2:AC:7E:21:50:32', '78:67:D7:1D:80:02'), ('D2:AC:7E:21:50:32', '28:28:5D:A6:75:D8'), ('D2:AC:7E:21:50:32', '10:30:25:11:0B:46'), ('D2:AC:7E:21:50:32', 'AC:3B:77:14:D4:3D'), ('D2:AC:7E:21:50:32', 'F4:63:1F:93:89:CB'), ('D2:AC:7E:21:50:32', '00:11:32:7A:25:3D'), ('D2:AC:7E:21:50:32', '60:7E:DD:FD:43:EC'), ('D2:AC:7E:21:50:32', '3C:AB:8E:44:0D:66'), ('D2:AC:7E:21:50:32', '68:47:49:26:4F:9C'), ('D2:AC:7E:21:50:32', '90:72:82:7F:AB:F2'), ('D2:AC:7E:21:50:32', '92:72:82:7F:AB:F2'), ('D2:AC:7E:21:50:32', '90:4D:4A:50:AE:60'), ('D2:AC:7E:21:50:32', '7A:86:20:3F:05:73'), ('D2:AC:7E:21:50:32', '70:BC:10:C2:16:AB'), ('D2:AC:7E:21:50:32', '70:BC:10:D2:55:33'), ('D2:AC:7E:21:50:32', '30:F7:72:58:95:61'), ('D2:AC:7E:21:50:32', '44:E9:DD:F1:C7:12'), ('D2:AC:7E:21:50:32', '22:23:F6:E6:EA:BA'), ('D2:AC:7E:21:50:32', 'DC:4A:3E:B9:02:0A'), ('D2:AC:7E:21:50:32', '30:19:66:FD:70:31'), ('D2:AC:7E:21:50:32', '4C:57:CA:D4:A9:80'), ('D2:AC:7E:21:50:32', 'F8:B4:6A:C9:75:9D'), ('D2:AC:7E:21:50:32', '7C:D9:5C:28:AA:E8'), ('D2:AC:7E:21:50:32', '00:03:7F:2D:E2:89'), ('D2:AC:7E:21:50:32', '6A:F4:51:A6:25:41'), ('D2:AC:7E:21:50:32', 'A8:10:87:53:01:62'), ('D2:AC:7E:21:50:32', '00:0C:43:00:48:24'), ('D2:AC:7E:21:50:32', '64:CC:22:9A:65:CD'), ('D2:AC:7E:21:50:32', '00:25:92:25:E4:2E'), ('D2:AC:7E:21:50:32', '04:69:F8:56:E6:B7'), ('D2:AC:7E:21:50:32', '90:4D:4A:27:47:4C'), ('D2:AC:7E:21:50:32', '34:79:16:20:A6:1C'), ('D2:AC:7E:21:50:32', 'EC:F4:51:BF:46:CE'), ('D2:AC:7E:21:50:32', 'E4:F0:42:65:6C:13'), ('D2:AC:7E:21:50:32', '58:82:A8:11:4D:86'), ('D2:AC:7E:21:50:32', '04:A2:22:09:B1:19'), ('D2:AC:7E:21:50:32', '04:69:F8:6C:18:7F'), ('7A:86:20:3F:05:71', '44:E9:DD:5E:6E:00'), ('7A:86:20:3F:05:71', '24:4C:E3:48:51:C1'), ('7A:86:20:3F:05:71', '62:A2:22:09:B1:18'), ('7A:86:20:3F:05:71', '38:A6:CE:14:0A:52'), ('7A:86:20:3F:05:71', 'E0:48:AF:01:0C:A7'), ('7A:86:20:3F:05:71', 'D2:2C:7E:0B:1B:32'), ('7A:86:20:3F:05:71', '20:47:ED:9E:A6:12'), ('7A:86:20:3F:05:71', '48:D7:05:E5:66:AD'), ('7A:86:20:3F:05:71', '78:67:D7:1D:80:02'), ('7A:86:20:3F:05:71', '28:28:5D:A6:75:D8'), ('7A:86:20:3F:05:71', '10:30:25:11:0B:46'), ('7A:86:20:3F:05:71', 'AC:3B:77:14:D4:3D'), ('7A:86:20:3F:05:71', 'F4:63:1F:93:89:CB'), ('7A:86:20:3F:05:71', '00:11:32:7A:25:3D'), ('7A:86:20:3F:05:71', '60:7E:DD:FD:43:EC'), ('7A:86:20:3F:05:71', '3C:AB:8E:44:0D:66'), ('7A:86:20:3F:05:71', '68:47:49:26:4F:9C'), ('7A:86:20:3F:05:71', '90:72:82:7F:AB:F2'), ('7A:86:20:3F:05:71', '92:72:82:7F:AB:F2'), ('7A:86:20:3F:05:71', '90:4D:4A:50:AE:60'), ('7A:86:20:3F:05:71', '7A:86:20:3F:05:73'), ('7A:86:20:3F:05:71', '70:BC:10:C2:16:AB'), ('7A:86:20:3F:05:71', '70:BC:10:D2:55:33'), ('7A:86:20:3F:05:71', '30:F7:72:58:95:61'), ('7A:86:20:3F:05:71', '44:E9:DD:F1:C7:12'), ('7A:86:20:3F:05:71', '22:23:F6:E6:EA:BA'), ('7A:86:20:3F:05:71', 'DC:4A:3E:B9:02:0A'), ('7A:86:20:3F:05:71', '30:19:66:FD:70:31'), ('7A:86:20:3F:05:71', '4C:57:CA:D4:A9:80'), ('7A:86:20:3F:05:71', 'F8:B4:6A:C9:75:9D'), ('7A:86:20:3F:05:71', '7C:D9:5C:28:AA:E8'), ('7A:86:20:3F:05:71', '00:03:7F:2D:E2:89'), ('7A:86:20:3F:05:71', '6A:F4:51:A6:25:41'), ('7A:86:20:3F:05:71', 'A8:10:87:53:01:62'), ('7A:86:20:3F:05:71', '00:0C:43:00:48:24'), ('7A:86:20:3F:05:71', '64:CC:22:9A:65:CD'), ('7A:86:20:3F:05:71', '00:25:92:25:E4:2E'), ('7A:86:20:3F:05:71', '04:69:F8:56:E6:B7'), ('7A:86:20:3F:05:71', '90:4D:4A:27:47:4C'), ('7A:86:20:3F:05:71', '34:79:16:20:A6:1C'), ('7A:86:20:3F:05:71', 'EC:F4:51:BF:46:CE'), ('7A:86:20:3F:05:71', 'E4:F0:42:65:6C:13'), ('7A:86:20:3F:05:71', '58:82:A8:11:4D:86'), ('7A:86:20:3F:05:71', '04:A2:22:09:B1:19'), ('7A:86:20:3F:05:71', '04:69:F8:6C:18:7F'), ('7A:86:20:3F:05:71', '90:72:82:87:C8:76'), ('7A:86:20:3F:05:71', 'F8:2D:7C:56:04:B5'), ('7A:86:20:3F:05:71', 'B0:35:B5:AE:2E:76'), ('44:E9:DD:5E:6E:00', '24:4C:E3:48:51:C1'), ('44:E9:DD:5E:6E:00', '62:A2:22:09:B1:18'), ('44:E9:DD:5E:6E:00', '38:A6:CE:14:0A:52'), ('44:E9:DD:5E:6E:00', 'E0:48:AF:01:0C:A7'), ('44:E9:DD:5E:6E:00', 'D2:2C:7E:0B:1B:32'), ('44:E9:DD:5E:6E:00', '20:47:ED:9E:A6:12'), ('44:E9:DD:5E:6E:00', '48:D7:05:E5:66:AD'), ('44:E9:DD:5E:6E:00', '78:67:D7:1D:80:02'), ('44:E9:DD:5E:6E:00', '28:28:5D:A6:75:D8'), ('44:E9:DD:5E:6E:00', '10:30:25:11:0B:46'), ('44:E9:DD:5E:6E:00', 'AC:3B:77:14:D4:3D'), ('44:E9:DD:5E:6E:00', 'F4:63:1F:93:89:CB'), ('44:E9:DD:5E:6E:00', '00:11:32:7A:25:3D'), ('44:E9:DD:5E:6E:00', '60:7E:DD:FD:43:EC'), ('44:E9:DD:5E:6E:00', '3C:AB:8E:44:0D:66'), ('44:E9:DD:5E:6E:00', '68:47:49:26:4F:9C'), ('44:E9:DD:5E:6E:00', '90:72:82:7F:AB:F2'), ('44:E9:DD:5E:6E:00', '92:72:82:7F:AB:F2'), ('44:E9:DD:5E:6E:00', '90:4D:4A:50:AE:60'), ('44:E9:DD:5E:6E:00', '7A:86:20:3F:05:73'), ('44:E9:DD:5E:6E:00', '70:BC:10:C2:16:AB'), ('44:E9:DD:5E:6E:00', '70:BC:10:D2:55:33'), ('44:E9:DD:5E:6E:00', '30:F7:72:58:95:61'), ('44:E9:DD:5E:6E:00', '44:E9:DD:F1:C7:12'), ('44:E9:DD:5E:6E:00', '22:23:F6:E6:EA:BA'), ('44:E9:DD:5E:6E:00', 'DC:4A:3E:B9:02:0A'), ('44:E9:DD:5E:6E:00', '30:19:66:FD:70:31'), ('44:E9:DD:5E:6E:00', '4C:57:CA:D4:A9:80'), ('44:E9:DD:5E:6E:00', 'F8:B4:6A:C9:75:9D'), ('44:E9:DD:5E:6E:00', '7C:D9:5C:28:AA:E8'), ('44:E9:DD:5E:6E:00', '00:03:7F:2D:E2:89'), ('44:E9:DD:5E:6E:00', '6A:F4:51:A6:25:41'), ('44:E9:DD:5E:6E:00', 'A8:10:87:53:01:62'), ('44:E9:DD:5E:6E:00', '00:0C:43:00:48:24'), ('44:E9:DD:5E:6E:00', '64:CC:22:9A:65:CD'), ('44:E9:DD:5E:6E:00', '00:25:92:25:E4:2E'), ('44:E9:DD:5E:6E:00', '04:69:F8:56:E6:B7'), ('44:E9:DD:5E:6E:00', '90:4D:4A:27:47:4C'), ('44:E9:DD:5E:6E:00', '34:79:16:20:A6:1C'), ('44:E9:DD:5E:6E:00', 'EC:F4:51:BF:46:CE'), ('44:E9:DD:5E:6E:00', 'E4:F0:42:65:6C:13'), ('44:E9:DD:5E:6E:00', '58:82:A8:11:4D:86'), ('44:E9:DD:5E:6E:00', '04:A2:22:09:B1:19'), ('24:4C:E3:48:51:C1', '62:A2:22:09:B1:18'), ('24:4C:E3:48:51:C1', '38:A6:CE:14:0A:52'), ('24:4C:E3:48:51:C1', 'E0:48:AF:01:0C:A7'), ('24:4C:E3:48:51:C1', 'D2:2C:7E:0B:1B:32'), ('24:4C:E3:48:51:C1', '20:47:ED:9E:A6:12'), ('24:4C:E3:48:51:C1', '48:D7:05:E5:66:AD'), ('24:4C:E3:48:51:C1', '78:67:D7:1D:80:02'), ('24:4C:E3:48:51:C1', '28:28:5D:A6:75:D8'), ('24:4C:E3:48:51:C1', '10:30:25:11:0B:46'), ('24:4C:E3:48:51:C1', 'AC:3B:77:14:D4:3D'), ('24:4C:E3:48:51:C1', 'F4:63:1F:93:89:CB'), ('24:4C:E3:48:51:C1', '00:11:32:7A:25:3D'), ('24:4C:E3:48:51:C1', '60:7E:DD:FD:43:EC'), ('24:4C:E3:48:51:C1', '3C:AB:8E:44:0D:66'), ('24:4C:E3:48:51:C1', '68:47:49:26:4F:9C'), ('24:4C:E3:48:51:C1', '90:72:82:7F:AB:F2'), ('24:4C:E3:48:51:C1', '92:72:82:7F:AB:F2'), ('24:4C:E3:48:51:C1', '90:4D:4A:50:AE:60'), ('24:4C:E3:48:51:C1', '7A:86:20:3F:05:73'), ('24:4C:E3:48:51:C1', '70:BC:10:C2:16:AB'), ('24:4C:E3:48:51:C1', '70:BC:10:D2:55:33'), ('24:4C:E3:48:51:C1', '30:F7:72:58:95:61'), ('24:4C:E3:48:51:C1', '44:E9:DD:F1:C7:12'), ('24:4C:E3:48:51:C1', '22:23:F6:E6:EA:BA'), ('24:4C:E3:48:51:C1', 'DC:4A:3E:B9:02:0A'), ('24:4C:E3:48:51:C1', '30:19:66:FD:70:31'), ('24:4C:E3:48:51:C1', '4C:57:CA:D4:A9:80'), ('24:4C:E3:48:51:C1', 'F8:B4:6A:C9:75:9D'), ('24:4C:E3:48:51:C1', '7C:D9:5C:28:AA:E8'), ('24:4C:E3:48:51:C1', '00:03:7F:2D:E2:89'), ('24:4C:E3:48:51:C1', '6A:F4:51:A6:25:41'), ('24:4C:E3:48:51:C1', 'A8:10:87:53:01:62'), ('24:4C:E3:48:51:C1', '00:0C:43:00:48:24'), ('24:4C:E3:48:51:C1', '64:CC:22:9A:65:CD'), ('24:4C:E3:48:51:C1', '00:25:92:25:E4:2E'), ('24:4C:E3:48:51:C1', '04:69:F8:56:E6:B7'), ('24:4C:E3:48:51:C1', '90:4D:4A:27:47:4C'), ('24:4C:E3:48:51:C1', '34:79:16:20:A6:1C'), ('24:4C:E3:48:51:C1', 'EC:F4:51:BF:46:CE'), ('24:4C:E3:48:51:C1', 'E4:F0:42:65:6C:13'), ('24:4C:E3:48:51:C1', '58:82:A8:11:4D:86'), ('24:4C:E3:48:51:C1', '04:A2:22:09:B1:19'), ('62:A2:22:09:B1:18', '38:A6:CE:14:0A:52'), ('62:A2:22:09:B1:18', 'E0:48:AF:01:0C:A7'), ('62:A2:22:09:B1:18', 'D2:2C:7E:0B:1B:32'), ('62:A2:22:09:B1:18', '20:47:ED:9E:A6:12'), ('62:A2:22:09:B1:18', '48:D7:05:E5:66:AD'), ('62:A2:22:09:B1:18', '78:67:D7:1D:80:02'), ('62:A2:22:09:B1:18', '28:28:5D:A6:75:D8'), ('62:A2:22:09:B1:18', '10:30:25:11:0B:46'), ('62:A2:22:09:B1:18', 'AC:3B:77:14:D4:3D'), ('62:A2:22:09:B1:18', 'F4:63:1F:93:89:CB'), ('62:A2:22:09:B1:18', '00:11:32:7A:25:3D'), ('62:A2:22:09:B1:18', '60:7E:DD:FD:43:EC'), ('62:A2:22:09:B1:18', '3C:AB:8E:44:0D:66'), ('62:A2:22:09:B1:18', '68:47:49:26:4F:9C'), ('62:A2:22:09:B1:18', '90:72:82:7F:AB:F2'), ('62:A2:22:09:B1:18', '92:72:82:7F:AB:F2'), ('62:A2:22:09:B1:18', '90:4D:4A:50:AE:60'), ('62:A2:22:09:B1:18', '7A:86:20:3F:05:73'), ('62:A2:22:09:B1:18', '70:BC:10:C2:16:AB'), ('62:A2:22:09:B1:18', '70:BC:10:D2:55:33'), ('62:A2:22:09:B1:18', '30:F7:72:58:95:61'), ('62:A2:22:09:B1:18', '44:E9:DD:F1:C7:12'), ('62:A2:22:09:B1:18', '22:23:F6:E6:EA:BA'), ('62:A2:22:09:B1:18', 'DC:4A:3E:B9:02:0A'), ('62:A2:22:09:B1:18', '30:19:66:FD:70:31'), ('62:A2:22:09:B1:18', '4C:57:CA:D4:A9:80'), ('62:A2:22:09:B1:18', 'F8:B4:6A:C9:75:9D'), ('62:A2:22:09:B1:18', '7C:D9:5C:28:AA:E8'), ('62:A2:22:09:B1:18', '00:03:7F:2D:E2:89'), ('62:A2:22:09:B1:18', '6A:F4:51:A6:25:41'), ('62:A2:22:09:B1:18', 'A8:10:87:53:01:62'), ('62:A2:22:09:B1:18', '00:0C:43:00:48:24'), ('62:A2:22:09:B1:18', '64:CC:22:9A:65:CD'), ('62:A2:22:09:B1:18', '00:25:92:25:E4:2E'), ('62:A2:22:09:B1:18', '04:69:F8:56:E6:B7'), ('62:A2:22:09:B1:18', '90:4D:4A:27:47:4C'), ('62:A2:22:09:B1:18', '34:79:16:20:A6:1C'), ('62:A2:22:09:B1:18', 'EC:F4:51:BF:46:CE'), ('62:A2:22:09:B1:18', 'E4:F0:42:65:6C:13'), ('62:A2:22:09:B1:18', '58:82:A8:11:4D:86'), ('62:A2:22:09:B1:18', '04:A2:22:09:B1:19'), ('62:A2:22:09:B1:18', '04:69:F8:6C:18:7F'), ('62:A2:22:09:B1:18', '90:72:82:87:C8:76'), ('62:A2:22:09:B1:18', 'F8:2D:7C:56:04:B5'), ('62:A2:22:09:B1:18', 'B0:35:B5:AE:2E:76'), ('38:A6:CE:14:0A:52', 'E0:48:AF:01:0C:A7'), ('38:A6:CE:14:0A:52', 'D2:2C:7E:0B:1B:32'), ('38:A6:CE:14:0A:52', '20:47:ED:9E:A6:12'), ('38:A6:CE:14:0A:52', '48:D7:05:E5:66:AD'), ('38:A6:CE:14:0A:52', '78:67:D7:1D:80:02'), ('38:A6:CE:14:0A:52', '28:28:5D:A6:75:D8'), ('38:A6:CE:14:0A:52', '10:30:25:11:0B:46'), ('38:A6:CE:14:0A:52', 'AC:3B:77:14:D4:3D'), ('38:A6:CE:14:0A:52', 'F4:63:1F:93:89:CB'), ('38:A6:CE:14:0A:52', '00:11:32:7A:25:3D'), ('38:A6:CE:14:0A:52', '60:7E:DD:FD:43:EC'), ('38:A6:CE:14:0A:52', '3C:AB:8E:44:0D:66'), ('38:A6:CE:14:0A:52', '68:47:49:26:4F:9C'), ('38:A6:CE:14:0A:52', '90:72:82:7F:AB:F2'), ('38:A6:CE:14:0A:52', '92:72:82:7F:AB:F2'), ('38:A6:CE:14:0A:52', '90:4D:4A:50:AE:60'), ('38:A6:CE:14:0A:52', '7A:86:20:3F:05:73'), ('38:A6:CE:14:0A:52', '70:BC:10:C2:16:AB'), ('38:A6:CE:14:0A:52', '70:BC:10:D2:55:33'), ('38:A6:CE:14:0A:52', '30:F7:72:58:95:61'), ('38:A6:CE:14:0A:52', '44:E9:DD:F1:C7:12'), ('38:A6:CE:14:0A:52', '22:23:F6:E6:EA:BA'), ('38:A6:CE:14:0A:52', 'DC:4A:3E:B9:02:0A'), ('38:A6:CE:14:0A:52', '30:19:66:FD:70:31'), ('38:A6:CE:14:0A:52', '4C:57:CA:D4:A9:80'), ('38:A6:CE:14:0A:52', 'F8:B4:6A:C9:75:9D'), ('38:A6:CE:14:0A:52', '7C:D9:5C:28:AA:E8'), ('38:A6:CE:14:0A:52', '00:03:7F:2D:E2:89'), ('38:A6:CE:14:0A:52', '6A:F4:51:A6:25:41'), ('38:A6:CE:14:0A:52', 'A8:10:87:53:01:62'), ('38:A6:CE:14:0A:52', '00:0C:43:00:48:24'), ('38:A6:CE:14:0A:52', '64:CC:22:9A:65:CD'), ('38:A6:CE:14:0A:52', '00:25:92:25:E4:2E'), ('38:A6:CE:14:0A:52', '04:69:F8:56:E6:B7'), ('38:A6:CE:14:0A:52', '90:4D:4A:27:47:4C'), ('38:A6:CE:14:0A:52', '34:79:16:20:A6:1C'), ('38:A6:CE:14:0A:52', 'EC:F4:51:BF:46:CE'), ('38:A6:CE:14:0A:52', 'E4:F0:42:65:6C:13'), ('38:A6:CE:14:0A:52', '58:82:A8:11:4D:86'), ('38:A6:CE:14:0A:52', '04:A2:22:09:B1:19'), ('38:A6:CE:14:0A:52', '04:69:F8:6C:18:7F'), ('38:A6:CE:14:0A:52', '90:72:82:87:C8:76'), ('E0:48:AF:01:0C:A7', 'D2:2C:7E:0B:1B:32'), ('E0:48:AF:01:0C:A7', '20:47:ED:9E:A6:12'), ('E0:48:AF:01:0C:A7', '48:D7:05:E5:66:AD'), ('E0:48:AF:01:0C:A7', '78:67:D7:1D:80:02'), ('E0:48:AF:01:0C:A7', '28:28:5D:A6:75:D8'), ('E0:48:AF:01:0C:A7', '10:30:25:11:0B:46'), ('E0:48:AF:01:0C:A7', 'AC:3B:77:14:D4:3D'), ('E0:48:AF:01:0C:A7', 'F4:63:1F:93:89:CB'), ('E0:48:AF:01:0C:A7', '00:11:32:7A:25:3D'), ('E0:48:AF:01:0C:A7', '60:7E:DD:FD:43:EC'), ('E0:48:AF:01:0C:A7', '3C:AB:8E:44:0D:66'), ('E0:48:AF:01:0C:A7', '68:47:49:26:4F:9C'), ('E0:48:AF:01:0C:A7', '90:72:82:7F:AB:F2'), ('E0:48:AF:01:0C:A7', '92:72:82:7F:AB:F2'), ('E0:48:AF:01:0C:A7', '90:4D:4A:50:AE:60'), ('E0:48:AF:01:0C:A7', '7A:86:20:3F:05:73'), ('E0:48:AF:01:0C:A7', '70:BC:10:C2:16:AB'), ('E0:48:AF:01:0C:A7', '70:BC:10:D2:55:33'), ('E0:48:AF:01:0C:A7', '30:F7:72:58:95:61'), ('E0:48:AF:01:0C:A7', '44:E9:DD:F1:C7:12'), ('E0:48:AF:01:0C:A7', '22:23:F6:E6:EA:BA'), ('E0:48:AF:01:0C:A7', 'DC:4A:3E:B9:02:0A'), ('E0:48:AF:01:0C:A7', '30:19:66:FD:70:31'), ('E0:48:AF:01:0C:A7', '4C:57:CA:D4:A9:80'), ('E0:48:AF:01:0C:A7', 'F8:B4:6A:C9:75:9D'), ('E0:48:AF:01:0C:A7', '7C:D9:5C:28:AA:E8'), ('E0:48:AF:01:0C:A7', '00:03:7F:2D:E2:89'), ('E0:48:AF:01:0C:A7', '6A:F4:51:A6:25:41'), ('E0:48:AF:01:0C:A7', 'A8:10:87:53:01:62'), ('E0:48:AF:01:0C:A7', '00:0C:43:00:48:24'), ('E0:48:AF:01:0C:A7', '64:CC:22:9A:65:CD'), ('E0:48:AF:01:0C:A7', '00:25:92:25:E4:2E'), ('E0:48:AF:01:0C:A7', '04:69:F8:56:E6:B7'), ('E0:48:AF:01:0C:A7', '90:4D:4A:27:47:4C'), ('E0:48:AF:01:0C:A7', '34:79:16:20:A6:1C'), ('E0:48:AF:01:0C:A7', 'EC:F4:51:BF:46:CE'), ('E0:48:AF:01:0C:A7', 'E4:F0:42:65:6C:13'), ('E0:48:AF:01:0C:A7', '58:82:A8:11:4D:86'), ('E0:48:AF:01:0C:A7', '04:A2:22:09:B1:19'), ('E0:48:AF:01:0C:A7', '04:69:F8:6C:18:7F'), ('E0:48:AF:01:0C:A7', '90:72:82:87:C8:76'), ('D2:2C:7E:0B:1B:32', '20:47:ED:9E:A6:12'), ('D2:2C:7E:0B:1B:32', '48:D7:05:E5:66:AD'), ('D2:2C:7E:0B:1B:32', '78:67:D7:1D:80:02'), ('D2:2C:7E:0B:1B:32', '28:28:5D:A6:75:D8'), ('D2:2C:7E:0B:1B:32', '10:30:25:11:0B:46'), ('D2:2C:7E:0B:1B:32', 'AC:3B:77:14:D4:3D'), ('D2:2C:7E:0B:1B:32', 'F4:63:1F:93:89:CB'), ('D2:2C:7E:0B:1B:32', '00:11:32:7A:25:3D'), ('D2:2C:7E:0B:1B:32', '60:7E:DD:FD:43:EC'), ('D2:2C:7E:0B:1B:32', '3C:AB:8E:44:0D:66'), ('D2:2C:7E:0B:1B:32', '68:47:49:26:4F:9C'), ('D2:2C:7E:0B:1B:32', '90:72:82:7F:AB:F2'), ('D2:2C:7E:0B:1B:32', '92:72:82:7F:AB:F2'), ('D2:2C:7E:0B:1B:32', '90:4D:4A:50:AE:60'), ('D2:2C:7E:0B:1B:32', '7A:86:20:3F:05:73'), ('D2:2C:7E:0B:1B:32', '70:BC:10:C2:16:AB'), ('D2:2C:7E:0B:1B:32', '70:BC:10:D2:55:33'), ('D2:2C:7E:0B:1B:32', '30:F7:72:58:95:61'), ('D2:2C:7E:0B:1B:32', '44:E9:DD:F1:C7:12'), ('D2:2C:7E:0B:1B:32', '22:23:F6:E6:EA:BA'), ('D2:2C:7E:0B:1B:32', 'DC:4A:3E:B9:02:0A'), ('D2:2C:7E:0B:1B:32', '30:19:66:FD:70:31'), ('D2:2C:7E:0B:1B:32', '4C:57:CA:D4:A9:80'), ('D2:2C:7E:0B:1B:32', 'F8:B4:6A:C9:75:9D'), ('D2:2C:7E:0B:1B:32', '7C:D9:5C:28:AA:E8'), ('D2:2C:7E:0B:1B:32', '00:03:7F:2D:E2:89'), ('D2:2C:7E:0B:1B:32', '6A:F4:51:A6:25:41'), ('D2:2C:7E:0B:1B:32', 'A8:10:87:53:01:62'), ('D2:2C:7E:0B:1B:32', '00:0C:43:00:48:24'), ('D2:2C:7E:0B:1B:32', '64:CC:22:9A:65:CD'), ('D2:2C:7E:0B:1B:32', '00:25:92:25:E4:2E'), ('D2:2C:7E:0B:1B:32', '04:69:F8:56:E6:B7'), ('D2:2C:7E:0B:1B:32', '90:4D:4A:27:47:4C'), ('D2:2C:7E:0B:1B:32', '34:79:16:20:A6:1C'), ('D2:2C:7E:0B:1B:32', 'EC:F4:51:BF:46:CE'), ('D2:2C:7E:0B:1B:32', 'E4:F0:42:65:6C:13'), ('D2:2C:7E:0B:1B:32', '58:82:A8:11:4D:86'), ('D2:2C:7E:0B:1B:32', '04:A2:22:09:B1:19'), ('D2:2C:7E:0B:1B:32', '04:69:F8:6C:18:7F'), ('D2:2C:7E:0B:1B:32', '90:72:82:87:C8:76'), ('20:47:ED:9E:A6:12', '48:D7:05:E5:66:AD'), ('20:47:ED:9E:A6:12', '78:67:D7:1D:80:02'), ('20:47:ED:9E:A6:12', '28:28:5D:A6:75:D8'), ('20:47:ED:9E:A6:12', '10:30:25:11:0B:46'), ('20:47:ED:9E:A6:12', 'AC:3B:77:14:D4:3D'), ('20:47:ED:9E:A6:12', 'F4:63:1F:93:89:CB'), ('20:47:ED:9E:A6:12', '00:11:32:7A:25:3D'), ('20:47:ED:9E:A6:12', '60:7E:DD:FD:43:EC'), ('20:47:ED:9E:A6:12', '3C:AB:8E:44:0D:66'), ('20:47:ED:9E:A6:12', '68:47:49:26:4F:9C'), ('20:47:ED:9E:A6:12', '90:72:82:7F:AB:F2'), ('20:47:ED:9E:A6:12', '92:72:82:7F:AB:F2'), ('20:47:ED:9E:A6:12', '90:4D:4A:50:AE:60'), ('20:47:ED:9E:A6:12', '7A:86:20:3F:05:73'), ('20:47:ED:9E:A6:12', '70:BC:10:C2:16:AB'), ('20:47:ED:9E:A6:12', '70:BC:10:D2:55:33'), ('20:47:ED:9E:A6:12', '30:F7:72:58:95:61'), ('20:47:ED:9E:A6:12', '44:E9:DD:F1:C7:12'), ('20:47:ED:9E:A6:12', '22:23:F6:E6:EA:BA'), ('20:47:ED:9E:A6:12', 'DC:4A:3E:B9:02:0A'), ('20:47:ED:9E:A6:12', '30:19:66:FD:70:31'), ('20:47:ED:9E:A6:12', '4C:57:CA:D4:A9:80'), ('20:47:ED:9E:A6:12', 'F8:B4:6A:C9:75:9D'), ('20:47:ED:9E:A6:12', '7C:D9:5C:28:AA:E8'), ('20:47:ED:9E:A6:12', '00:03:7F:2D:E2:89'), ('20:47:ED:9E:A6:12', '6A:F4:51:A6:25:41'), ('20:47:ED:9E:A6:12', 'A8:10:87:53:01:62'), ('20:47:ED:9E:A6:12', '00:0C:43:00:48:24'), ('20:47:ED:9E:A6:12', '64:CC:22:9A:65:CD'), ('20:47:ED:9E:A6:12', '00:25:92:25:E4:2E'), ('20:47:ED:9E:A6:12', '04:69:F8:56:E6:B7'), ('20:47:ED:9E:A6:12', '90:4D:4A:27:47:4C'), ('20:47:ED:9E:A6:12', '34:79:16:20:A6:1C'), ('20:47:ED:9E:A6:12', 'EC:F4:51:BF:46:CE'), ('20:47:ED:9E:A6:12', 'E4:F0:42:65:6C:13'), ('20:47:ED:9E:A6:12', '58:82:A8:11:4D:86'), ('20:47:ED:9E:A6:12', '04:A2:22:09:B1:19'), ('20:47:ED:9E:A6:12', '04:69:F8:6C:18:7F'), ('20:47:ED:9E:A6:12', '90:72:82:87:C8:76'), ('48:D7:05:E5:66:AD', '78:67:D7:1D:80:02'), ('48:D7:05:E5:66:AD', '28:28:5D:A6:75:D8'), ('48:D7:05:E5:66:AD', '10:30:25:11:0B:46'), ('48:D7:05:E5:66:AD', 'AC:3B:77:14:D4:3D'), ('48:D7:05:E5:66:AD', 'F4:63:1F:93:89:CB'), ('48:D7:05:E5:66:AD', '00:11:32:7A:25:3D'), ('48:D7:05:E5:66:AD', '60:7E:DD:FD:43:EC'), ('48:D7:05:E5:66:AD', '3C:AB:8E:44:0D:66'), ('48:D7:05:E5:66:AD', '68:47:49:26:4F:9C'), ('48:D7:05:E5:66:AD', '90:72:82:7F:AB:F2'), ('48:D7:05:E5:66:AD', '92:72:82:7F:AB:F2'), ('48:D7:05:E5:66:AD', '90:4D:4A:50:AE:60'), ('48:D7:05:E5:66:AD', '7A:86:20:3F:05:73'), ('48:D7:05:E5:66:AD', '70:BC:10:C2:16:AB'), ('48:D7:05:E5:66:AD', '70:BC:10:D2:55:33'), ('48:D7:05:E5:66:AD', '30:F7:72:58:95:61'), ('48:D7:05:E5:66:AD', '44:E9:DD:F1:C7:12'), ('48:D7:05:E5:66:AD', '22:23:F6:E6:EA:BA'), ('48:D7:05:E5:66:AD', 'DC:4A:3E:B9:02:0A'), ('48:D7:05:E5:66:AD', '30:19:66:FD:70:31'), ('48:D7:05:E5:66:AD', '4C:57:CA:D4:A9:80'), ('48:D7:05:E5:66:AD', 'F8:B4:6A:C9:75:9D'), ('48:D7:05:E5:66:AD', '7C:D9:5C:28:AA:E8'), ('48:D7:05:E5:66:AD', '00:03:7F:2D:E2:89'), ('48:D7:05:E5:66:AD', '6A:F4:51:A6:25:41'), ('48:D7:05:E5:66:AD', 'A8:10:87:53:01:62'), ('48:D7:05:E5:66:AD', '00:0C:43:00:48:24'), ('48:D7:05:E5:66:AD', '64:CC:22:9A:65:CD'), ('48:D7:05:E5:66:AD', '00:25:92:25:E4:2E'), ('48:D7:05:E5:66:AD', '04:69:F8:56:E6:B7'), ('48:D7:05:E5:66:AD', '90:4D:4A:27:47:4C'), ('48:D7:05:E5:66:AD', '34:79:16:20:A6:1C'), ('48:D7:05:E5:66:AD', 'EC:F4:51:BF:46:CE'), ('48:D7:05:E5:66:AD', 'E4:F0:42:65:6C:13'), ('48:D7:05:E5:66:AD', '58:82:A8:11:4D:86'), ('48:D7:05:E5:66:AD', '04:A2:22:09:B1:19'), ('48:D7:05:E5:66:AD', '04:69:F8:6C:18:7F'), ('48:D7:05:E5:66:AD', '90:72:82:87:C8:76'), ('78:67:D7:1D:80:02', '28:28:5D:A6:75:D8'), ('78:67:D7:1D:80:02', '10:30:25:11:0B:46'), ('78:67:D7:1D:80:02', 'AC:3B:77:14:D4:3D'), ('78:67:D7:1D:80:02', 'F4:63:1F:93:89:CB'), ('78:67:D7:1D:80:02', '00:11:32:7A:25:3D'), ('78:67:D7:1D:80:02', '60:7E:DD:FD:43:EC'), ('78:67:D7:1D:80:02', '3C:AB:8E:44:0D:66'), ('78:67:D7:1D:80:02', '68:47:49:26:4F:9C'), ('78:67:D7:1D:80:02', '90:72:82:7F:AB:F2'), ('78:67:D7:1D:80:02', '92:72:82:7F:AB:F2'), ('78:67:D7:1D:80:02', '90:4D:4A:50:AE:60'), ('78:67:D7:1D:80:02', '7A:86:20:3F:05:73'), ('78:67:D7:1D:80:02', '70:BC:10:C2:16:AB'), ('78:67:D7:1D:80:02', '70:BC:10:D2:55:33'), ('78:67:D7:1D:80:02', '30:F7:72:58:95:61'), ('78:67:D7:1D:80:02', '44:E9:DD:F1:C7:12'), ('78:67:D7:1D:80:02', '22:23:F6:E6:EA:BA'), ('78:67:D7:1D:80:02', 'DC:4A:3E:B9:02:0A'), ('78:67:D7:1D:80:02', '30:19:66:FD:70:31'), ('78:67:D7:1D:80:02', '4C:57:CA:D4:A9:80'), ('78:67:D7:1D:80:02', 'F8:B4:6A:C9:75:9D'), ('78:67:D7:1D:80:02', '7C:D9:5C:28:AA:E8'), ('78:67:D7:1D:80:02', '00:03:7F:2D:E2:89'), ('78:67:D7:1D:80:02', '6A:F4:51:A6:25:41'), ('78:67:D7:1D:80:02', 'A8:10:87:53:01:62'), ('78:67:D7:1D:80:02', '00:0C:43:00:48:24'), ('78:67:D7:1D:80:02', '64:CC:22:9A:65:CD'), ('78:67:D7:1D:80:02', '00:25:92:25:E4:2E'), ('78:67:D7:1D:80:02', '04:69:F8:56:E6:B7'), ('78:67:D7:1D:80:02', '90:4D:4A:27:47:4C'), ('78:67:D7:1D:80:02', '34:79:16:20:A6:1C'), ('78:67:D7:1D:80:02', 'EC:F4:51:BF:46:CE'), ('78:67:D7:1D:80:02', 'E4:F0:42:65:6C:13'), ('78:67:D7:1D:80:02', '58:82:A8:11:4D:86'), ('78:67:D7:1D:80:02', '04:A2:22:09:B1:19'), ('78:67:D7:1D:80:02', '04:69:F8:6C:18:7F'), ('78:67:D7:1D:80:02', '90:72:82:87:C8:76'), ('28:28:5D:A6:75:D8', '10:30:25:11:0B:46'), ('28:28:5D:A6:75:D8', 'AC:3B:77:14:D4:3D'), ('28:28:5D:A6:75:D8', 'F4:63:1F:93:89:CB'), ('28:28:5D:A6:75:D8', '00:11:32:7A:25:3D'), ('28:28:5D:A6:75:D8', '60:7E:DD:FD:43:EC'), ('28:28:5D:A6:75:D8', '3C:AB:8E:44:0D:66'), ('28:28:5D:A6:75:D8', '68:47:49:26:4F:9C'), ('28:28:5D:A6:75:D8', '90:72:82:7F:AB:F2'), ('28:28:5D:A6:75:D8', '92:72:82:7F:AB:F2'), ('28:28:5D:A6:75:D8', '90:4D:4A:50:AE:60'), ('28:28:5D:A6:75:D8', '7A:86:20:3F:05:73'), ('28:28:5D:A6:75:D8', '70:BC:10:C2:16:AB'), ('28:28:5D:A6:75:D8', '70:BC:10:D2:55:33'), ('28:28:5D:A6:75:D8', '30:F7:72:58:95:61'), ('28:28:5D:A6:75:D8', '44:E9:DD:F1:C7:12'), ('28:28:5D:A6:75:D8', '22:23:F6:E6:EA:BA'), ('28:28:5D:A6:75:D8', 'DC:4A:3E:B9:02:0A'), ('28:28:5D:A6:75:D8', '30:19:66:FD:70:31'), ('28:28:5D:A6:75:D8', '4C:57:CA:D4:A9:80'), ('28:28:5D:A6:75:D8', 'F8:B4:6A:C9:75:9D'), ('28:28:5D:A6:75:D8', '7C:D9:5C:28:AA:E8'), ('28:28:5D:A6:75:D8', '00:03:7F:2D:E2:89'), ('28:28:5D:A6:75:D8', '6A:F4:51:A6:25:41'), ('28:28:5D:A6:75:D8', 'A8:10:87:53:01:62'), ('28:28:5D:A6:75:D8', '00:0C:43:00:48:24'), ('28:28:5D:A6:75:D8', '64:CC:22:9A:65:CD'), ('28:28:5D:A6:75:D8', '00:25:92:25:E4:2E'), ('28:28:5D:A6:75:D8', '04:69:F8:56:E6:B7'), ('28:28:5D:A6:75:D8', '90:4D:4A:27:47:4C'), ('28:28:5D:A6:75:D8', '34:79:16:20:A6:1C'), ('28:28:5D:A6:75:D8', 'EC:F4:51:BF:46:CE'), ('28:28:5D:A6:75:D8', 'E4:F0:42:65:6C:13'), ('28:28:5D:A6:75:D8', '58:82:A8:11:4D:86'), ('28:28:5D:A6:75:D8', '04:A2:22:09:B1:19'), ('28:28:5D:A6:75:D8', '04:69:F8:6C:18:7F'), ('28:28:5D:A6:75:D8', '90:72:82:87:C8:76'), ('28:28:5D:A6:75:D8', 'F8:2D:7C:56:04:B5'), ('28:28:5D:A6:75:D8', 'B0:35:B5:AE:2E:76'), ('10:30:25:11:0B:46', 'AC:3B:77:14:D4:3D'), ('10:30:25:11:0B:46', 'F4:63:1F:93:89:CB'), ('10:30:25:11:0B:46', '00:11:32:7A:25:3D'), ('10:30:25:11:0B:46', '60:7E:DD:FD:43:EC'), ('10:30:25:11:0B:46', '3C:AB:8E:44:0D:66'), ('10:30:25:11:0B:46', '68:47:49:26:4F:9C'), ('10:30:25:11:0B:46', '90:72:82:7F:AB:F2'), ('10:30:25:11:0B:46', '92:72:82:7F:AB:F2'), ('10:30:25:11:0B:46', '90:4D:4A:50:AE:60'), ('10:30:25:11:0B:46', '7A:86:20:3F:05:73'), ('10:30:25:11:0B:46', '70:BC:10:C2:16:AB'), ('10:30:25:11:0B:46', '70:BC:10:D2:55:33'), ('10:30:25:11:0B:46', '30:F7:72:58:95:61'), ('10:30:25:11:0B:46', '44:E9:DD:F1:C7:12'), ('10:30:25:11:0B:46', '22:23:F6:E6:EA:BA'), ('10:30:25:11:0B:46', 'DC:4A:3E:B9:02:0A'), ('10:30:25:11:0B:46', '30:19:66:FD:70:31'), ('10:30:25:11:0B:46', '4C:57:CA:D4:A9:80'), ('10:30:25:11:0B:46', 'F8:B4:6A:C9:75:9D'), ('10:30:25:11:0B:46', '7C:D9:5C:28:AA:E8'), ('10:30:25:11:0B:46', '00:03:7F:2D:E2:89'), ('10:30:25:11:0B:46', '6A:F4:51:A6:25:41'), ('10:30:25:11:0B:46', 'A8:10:87:53:01:62'), ('10:30:25:11:0B:46', '00:0C:43:00:48:24'), ('10:30:25:11:0B:46', '64:CC:22:9A:65:CD'), ('10:30:25:11:0B:46', '00:25:92:25:E4:2E'), ('10:30:25:11:0B:46', '04:69:F8:56:E6:B7'), ('10:30:25:11:0B:46', '90:4D:4A:27:47:4C'), ('10:30:25:11:0B:46', '34:79:16:20:A6:1C'), ('10:30:25:11:0B:46', 'EC:F4:51:BF:46:CE'), ('10:30:25:11:0B:46', 'E4:F0:42:65:6C:13'), ('10:30:25:11:0B:46', '58:82:A8:11:4D:86'), ('10:30:25:11:0B:46', '04:A2:22:09:B1:19'), ('10:30:25:11:0B:46', '04:69:F8:6C:18:7F'), ('10:30:25:11:0B:46', '90:72:82:87:C8:76'), ('10:30:25:11:0B:46', 'F8:2D:7C:56:04:B5'), ('10:30:25:11:0B:46', 'B0:35:B5:AE:2E:76'), ('AC:3B:77:14:D4:3D', 'F4:63:1F:93:89:CB'), ('AC:3B:77:14:D4:3D', '00:11:32:7A:25:3D'), ('AC:3B:77:14:D4:3D', '60:7E:DD:FD:43:EC'), ('AC:3B:77:14:D4:3D', '3C:AB:8E:44:0D:66'), ('AC:3B:77:14:D4:3D', '68:47:49:26:4F:9C'), ('AC:3B:77:14:D4:3D', '90:72:82:7F:AB:F2'), ('AC:3B:77:14:D4:3D', '92:72:82:7F:AB:F2'), ('AC:3B:77:14:D4:3D', '90:4D:4A:50:AE:60'), ('AC:3B:77:14:D4:3D', '7A:86:20:3F:05:73'), ('AC:3B:77:14:D4:3D', '70:BC:10:C2:16:AB'), ('AC:3B:77:14:D4:3D', '70:BC:10:D2:55:33'), ('AC:3B:77:14:D4:3D', '30:F7:72:58:95:61'), ('AC:3B:77:14:D4:3D', '44:E9:DD:F1:C7:12'), ('AC:3B:77:14:D4:3D', '22:23:F6:E6:EA:BA'), ('AC:3B:77:14:D4:3D', 'DC:4A:3E:B9:02:0A'), ('AC:3B:77:14:D4:3D', '30:19:66:FD:70:31'), ('AC:3B:77:14:D4:3D', '4C:57:CA:D4:A9:80'), ('AC:3B:77:14:D4:3D', 'F8:B4:6A:C9:75:9D'), ('AC:3B:77:14:D4:3D', '7C:D9:5C:28:AA:E8'), ('AC:3B:77:14:D4:3D', '00:03:7F:2D:E2:89'), ('AC:3B:77:14:D4:3D', '6A:F4:51:A6:25:41'), ('AC:3B:77:14:D4:3D', 'A8:10:87:53:01:62'), ('AC:3B:77:14:D4:3D', '00:0C:43:00:48:24'), ('AC:3B:77:14:D4:3D', '64:CC:22:9A:65:CD'), ('AC:3B:77:14:D4:3D', '00:25:92:25:E4:2E'), ('AC:3B:77:14:D4:3D', '04:69:F8:56:E6:B7'), ('AC:3B:77:14:D4:3D', '90:4D:4A:27:47:4C'), ('AC:3B:77:14:D4:3D', '34:79:16:20:A6:1C'), ('AC:3B:77:14:D4:3D', 'EC:F4:51:BF:46:CE'), ('AC:3B:77:14:D4:3D', 'E4:F0:42:65:6C:13'), ('AC:3B:77:14:D4:3D', '58:82:A8:11:4D:86'), ('AC:3B:77:14:D4:3D', '04:A2:22:09:B1:19'), ('AC:3B:77:14:D4:3D', '04:69:F8:6C:18:7F'), ('AC:3B:77:14:D4:3D', '90:72:82:87:C8:76'), ('AC:3B:77:14:D4:3D', 'F8:2D:7C:56:04:B5'), ('AC:3B:77:14:D4:3D', 'B0:35:B5:AE:2E:76'), ('F4:63:1F:93:89:CB', '00:11:32:7A:25:3D'), ('F4:63:1F:93:89:CB', '60:7E:DD:FD:43:EC'), ('F4:63:1F:93:89:CB', '3C:AB:8E:44:0D:66'), ('F4:63:1F:93:89:CB', '68:47:49:26:4F:9C'), ('F4:63:1F:93:89:CB', '90:72:82:7F:AB:F2'), ('F4:63:1F:93:89:CB', '92:72:82:7F:AB:F2'), ('F4:63:1F:93:89:CB', '90:4D:4A:50:AE:60'), ('F4:63:1F:93:89:CB', '7A:86:20:3F:05:73'), ('F4:63:1F:93:89:CB', '70:BC:10:C2:16:AB'), ('F4:63:1F:93:89:CB', '70:BC:10:D2:55:33'), ('F4:63:1F:93:89:CB', '30:F7:72:58:95:61'), ('F4:63:1F:93:89:CB', '44:E9:DD:F1:C7:12'), ('F4:63:1F:93:89:CB', '22:23:F6:E6:EA:BA'), ('F4:63:1F:93:89:CB', 'DC:4A:3E:B9:02:0A'), ('F4:63:1F:93:89:CB', '30:19:66:FD:70:31'), ('F4:63:1F:93:89:CB', '4C:57:CA:D4:A9:80'), ('F4:63:1F:93:89:CB', 'F8:B4:6A:C9:75:9D'), ('F4:63:1F:93:89:CB', '7C:D9:5C:28:AA:E8'), ('F4:63:1F:93:89:CB', '00:03:7F:2D:E2:89'), ('F4:63:1F:93:89:CB', '6A:F4:51:A6:25:41'), ('F4:63:1F:93:89:CB', 'A8:10:87:53:01:62'), ('F4:63:1F:93:89:CB', '00:0C:43:00:48:24'), ('F4:63:1F:93:89:CB', '64:CC:22:9A:65:CD'), ('F4:63:1F:93:89:CB', '00:25:92:25:E4:2E'), ('F4:63:1F:93:89:CB', '04:69:F8:56:E6:B7'), ('F4:63:1F:93:89:CB', '90:4D:4A:27:47:4C'), ('F4:63:1F:93:89:CB', '34:79:16:20:A6:1C'), ('F4:63:1F:93:89:CB', 'EC:F4:51:BF:46:CE'), ('F4:63:1F:93:89:CB', 'E4:F0:42:65:6C:13'), ('F4:63:1F:93:89:CB', '58:82:A8:11:4D:86'), ('F4:63:1F:93:89:CB', '04:A2:22:09:B1:19'), ('F4:63:1F:93:89:CB', '04:69:F8:6C:18:7F'), ('F4:63:1F:93:89:CB', '90:72:82:87:C8:76'), ('F4:63:1F:93:89:CB', 'F8:2D:7C:56:04:B5'), ('F4:63:1F:93:89:CB', 'B0:35:B5:AE:2E:76'), ('F4:63:1F:93:89:CB', 'B8:EE:0E:4E:FB:8D')]\n"
     ]
    }
   ],
   "source": [
    "print(nx.edges(MACnw))"
   ]
  },
  {
   "cell_type": "code",
   "execution_count": 404,
   "metadata": {},
   "outputs": [],
   "source": [
    "G = nx.Graph()\n",
    "nx.add_path(G, [1, 2, 3], color='red')\n",
    "color = nx.get_edge_attributes(G, 'color')\n"
   ]
  },
  {
   "cell_type": "code",
   "execution_count": 405,
   "metadata": {},
   "outputs": [
    {
     "name": "stdout",
     "output_type": "stream",
     "text": [
      "[(1, 2), (2, 3)]\n"
     ]
    }
   ],
   "source": [
    "print(nx.edges(G))"
   ]
  },
  {
   "cell_type": "code",
   "execution_count": 406,
   "metadata": {},
   "outputs": [
    {
     "name": "stdout",
     "output_type": "stream",
     "text": [
      "{(1, 2): 'red', (2, 3): 'red'}\n"
     ]
    }
   ],
   "source": [
    "print(color)"
   ]
  },
  {
   "cell_type": "code",
   "execution_count": 417,
   "metadata": {},
   "outputs": [
    {
     "name": "stdout",
     "output_type": "stream",
     "text": [
      "<class 'pandas.core.frame.DataFrame'>\n",
      "RangeIndex: 233463 entries, 0 to 233462\n",
      "Data columns (total 3 columns):\n",
      " #   Column      Non-Null Count   Dtype  \n",
      "---  ------      --------------   -----  \n",
      " 0   mac         233463 non-null  object \n",
      " 1   latitude    233463 non-null  float64\n",
      " 2   longtitude  233463 non-null  float64\n",
      "dtypes: float64(2), object(1)\n",
      "memory usage: 5.3+ MB\n"
     ]
    }
   ],
   "source": [
    "cnoc_test.info()"
   ]
  },
  {
   "cell_type": "code",
   "execution_count": 410,
   "metadata": {},
   "outputs": [],
   "source": [
    "cnoc_nt = cnoc_test"
   ]
  },
  {
   "cell_type": "code",
   "execution_count": 413,
   "metadata": {},
   "outputs": [],
   "source": [
    "cnoc_nt.reset_index(drop=True, inplace=True)"
   ]
  },
  {
   "cell_type": "code",
   "execution_count": 416,
   "metadata": {},
   "outputs": [
    {
     "data": {
      "text/plain": [
       "RangeIndex(start=0, stop=233463, step=1)"
      ]
     },
     "execution_count": 416,
     "metadata": {},
     "output_type": "execute_result"
    }
   ],
   "source": [
    "cnoc_nt.index\n"
   ]
  },
  {
   "cell_type": "code",
   "execution_count": 418,
   "metadata": {},
   "outputs": [],
   "source": [
    "cnoc_nt['location']=list(zip(cnoc_nt['latitude'],cnoc_nt['longtitude']))"
   ]
  },
  {
   "cell_type": "code",
   "execution_count": 419,
   "metadata": {},
   "outputs": [
    {
     "data": {
      "text/html": [
       "<div>\n",
       "<style scoped>\n",
       "    .dataframe tbody tr th:only-of-type {\n",
       "        vertical-align: middle;\n",
       "    }\n",
       "\n",
       "    .dataframe tbody tr th {\n",
       "        vertical-align: top;\n",
       "    }\n",
       "\n",
       "    .dataframe thead th {\n",
       "        text-align: right;\n",
       "    }\n",
       "</style>\n",
       "<table border=\"1\" class=\"dataframe\">\n",
       "  <thead>\n",
       "    <tr style=\"text-align: right;\">\n",
       "      <th></th>\n",
       "      <th>mac</th>\n",
       "      <th>latitude</th>\n",
       "      <th>longtitude</th>\n",
       "      <th>location</th>\n",
       "    </tr>\n",
       "  </thead>\n",
       "  <tbody>\n",
       "    <tr>\n",
       "      <th>0</th>\n",
       "      <td>48:6D:BB:87:56:2B</td>\n",
       "      <td>52.130274</td>\n",
       "      <td>-2.749344</td>\n",
       "      <td>(52.130274, -2.749344)</td>\n",
       "    </tr>\n",
       "    <tr>\n",
       "      <th>1</th>\n",
       "      <td>48:6D:BB:87:56:2B</td>\n",
       "      <td>52.130274</td>\n",
       "      <td>-2.749344</td>\n",
       "      <td>(52.130274, -2.749344)</td>\n",
       "    </tr>\n",
       "    <tr>\n",
       "      <th>2</th>\n",
       "      <td>48:6D:BB:87:56:2B</td>\n",
       "      <td>52.130274</td>\n",
       "      <td>-2.749344</td>\n",
       "      <td>(52.130274, -2.749344)</td>\n",
       "    </tr>\n",
       "    <tr>\n",
       "      <th>3</th>\n",
       "      <td>48:6D:BB:87:56:2B</td>\n",
       "      <td>52.130274</td>\n",
       "      <td>-2.749344</td>\n",
       "      <td>(52.130274, -2.749344)</td>\n",
       "    </tr>\n",
       "    <tr>\n",
       "      <th>4</th>\n",
       "      <td>86:25:19:29:18:A7</td>\n",
       "      <td>52.130274</td>\n",
       "      <td>-2.749344</td>\n",
       "      <td>(52.130274, -2.749344)</td>\n",
       "    </tr>\n",
       "  </tbody>\n",
       "</table>\n",
       "</div>"
      ],
      "text/plain": [
       "                 mac   latitude  longtitude                location\n",
       "0  48:6D:BB:87:56:2B  52.130274   -2.749344  (52.130274, -2.749344)\n",
       "1  48:6D:BB:87:56:2B  52.130274   -2.749344  (52.130274, -2.749344)\n",
       "2  48:6D:BB:87:56:2B  52.130274   -2.749344  (52.130274, -2.749344)\n",
       "3  48:6D:BB:87:56:2B  52.130274   -2.749344  (52.130274, -2.749344)\n",
       "4  86:25:19:29:18:A7  52.130274   -2.749344  (52.130274, -2.749344)"
      ]
     },
     "execution_count": 419,
     "metadata": {},
     "output_type": "execute_result"
    }
   ],
   "source": [
    "cnoc_nt.head()"
   ]
  },
  {
   "cell_type": "code",
   "execution_count": 420,
   "metadata": {},
   "outputs": [
    {
     "name": "stdout",
     "output_type": "stream",
     "text": [
      "<class 'pandas.core.frame.DataFrame'>\n",
      "RangeIndex: 233463 entries, 0 to 233462\n",
      "Data columns (total 4 columns):\n",
      " #   Column      Non-Null Count   Dtype  \n",
      "---  ------      --------------   -----  \n",
      " 0   mac         233463 non-null  object \n",
      " 1   latitude    233463 non-null  float64\n",
      " 2   longtitude  233463 non-null  float64\n",
      " 3   location    233463 non-null  object \n",
      "dtypes: float64(2), object(2)\n",
      "memory usage: 7.1+ MB\n"
     ]
    }
   ],
   "source": [
    "cnoc_nt.info()"
   ]
  },
  {
   "cell_type": "code",
   "execution_count": 421,
   "metadata": {},
   "outputs": [],
   "source": [
    "cnoc_nt2 = cnoc_nt"
   ]
  },
  {
   "cell_type": "code",
   "execution_count": 422,
   "metadata": {},
   "outputs": [
    {
     "ename": "TypeError",
     "evalue": "Index does not support mutable operations",
     "output_type": "error",
     "traceback": [
      "\u001b[0;31m---------------------------------------------------------------------------\u001b[0m",
      "\u001b[0;31mTypeError\u001b[0m                                 Traceback (most recent call last)",
      "\u001b[0;32m<ipython-input-422-7b0088a2bdab>\u001b[0m in \u001b[0;36m<module>\u001b[0;34m\u001b[0m\n\u001b[0;32m----> 1\u001b[0;31m \u001b[0mcnoc_nt2\u001b[0m\u001b[0;34m.\u001b[0m\u001b[0mindex\u001b[0m\u001b[0;34m[\u001b[0m\u001b[0;34m:\u001b[0m\u001b[0;34m]\u001b[0m\u001b[0;34m=\u001b[0m \u001b[0mcnoc_nt\u001b[0m\u001b[0;34m.\u001b[0m\u001b[0mindex\u001b[0m\u001b[0;34m[\u001b[0m\u001b[0;34m:\u001b[0m\u001b[0;34m]\u001b[0m \u001b[0;34m=\u001b[0m \u001b[0;36m0\u001b[0m\u001b[0;34m\u001b[0m\u001b[0;34m\u001b[0m\u001b[0m\n\u001b[0m",
      "\u001b[0;32m~/yes/envs/py37/lib/python3.7/site-packages/pandas/core/indexes/base.py\u001b[0m in \u001b[0;36m__setitem__\u001b[0;34m(self, key, value)\u001b[0m\n\u001b[1;32m   3907\u001b[0m         \u001b[0;32mraise\u001b[0m \u001b[0mTypeError\u001b[0m\u001b[0;34m(\u001b[0m\u001b[0;34mf\"unhashable type: {repr(type(self).__name__)}\"\u001b[0m\u001b[0;34m)\u001b[0m\u001b[0;34m\u001b[0m\u001b[0;34m\u001b[0m\u001b[0m\n\u001b[1;32m   3908\u001b[0m \u001b[0;34m\u001b[0m\u001b[0m\n\u001b[0;32m-> 3909\u001b[0;31m     \u001b[0;32mdef\u001b[0m \u001b[0m__setitem__\u001b[0m\u001b[0;34m(\u001b[0m\u001b[0mself\u001b[0m\u001b[0;34m,\u001b[0m \u001b[0mkey\u001b[0m\u001b[0;34m,\u001b[0m \u001b[0mvalue\u001b[0m\u001b[0;34m)\u001b[0m\u001b[0;34m:\u001b[0m\u001b[0;34m\u001b[0m\u001b[0;34m\u001b[0m\u001b[0m\n\u001b[0m\u001b[1;32m   3910\u001b[0m         \u001b[0;32mraise\u001b[0m \u001b[0mTypeError\u001b[0m\u001b[0;34m(\u001b[0m\u001b[0;34m\"Index does not support mutable operations\"\u001b[0m\u001b[0;34m)\u001b[0m\u001b[0;34m\u001b[0m\u001b[0;34m\u001b[0m\u001b[0m\n\u001b[1;32m   3911\u001b[0m \u001b[0;34m\u001b[0m\u001b[0m\n",
      "\u001b[0;31mTypeError\u001b[0m: Index does not support mutable operations"
     ]
    }
   ],
   "source": [
    "cnoc_nt2.index[:]= cnoc_nt.index[:] = 0"
   ]
  },
  {
   "cell_type": "code",
   "execution_count": 425,
   "metadata": {},
   "outputs": [
    {
     "data": {
      "text/plain": [
       "dtype('int64')"
      ]
     },
     "execution_count": 425,
     "metadata": {},
     "output_type": "execute_result"
    }
   ],
   "source": [
    "cnoc_nt.index.dtype"
   ]
  },
  {
   "cell_type": "code",
   "execution_count": 429,
   "metadata": {},
   "outputs": [],
   "source": [
    "cnoc_nt['key'] = cnoc_nt.index\n",
    "cnoc_nt2['key'] = cnoc_nt2.index"
   ]
  },
  {
   "cell_type": "code",
   "execution_count": 430,
   "metadata": {},
   "outputs": [
    {
     "data": {
      "text/html": [
       "<div>\n",
       "<style scoped>\n",
       "    .dataframe tbody tr th:only-of-type {\n",
       "        vertical-align: middle;\n",
       "    }\n",
       "\n",
       "    .dataframe tbody tr th {\n",
       "        vertical-align: top;\n",
       "    }\n",
       "\n",
       "    .dataframe thead th {\n",
       "        text-align: right;\n",
       "    }\n",
       "</style>\n",
       "<table border=\"1\" class=\"dataframe\">\n",
       "  <thead>\n",
       "    <tr style=\"text-align: right;\">\n",
       "      <th></th>\n",
       "      <th>mac</th>\n",
       "      <th>latitude</th>\n",
       "      <th>longtitude</th>\n",
       "      <th>location</th>\n",
       "      <th>key</th>\n",
       "    </tr>\n",
       "  </thead>\n",
       "  <tbody>\n",
       "    <tr>\n",
       "      <th>0</th>\n",
       "      <td>48:6D:BB:87:56:2B</td>\n",
       "      <td>52.130274</td>\n",
       "      <td>-2.749344</td>\n",
       "      <td>(52.130274, -2.749344)</td>\n",
       "      <td>0</td>\n",
       "    </tr>\n",
       "    <tr>\n",
       "      <th>1</th>\n",
       "      <td>48:6D:BB:87:56:2B</td>\n",
       "      <td>52.130274</td>\n",
       "      <td>-2.749344</td>\n",
       "      <td>(52.130274, -2.749344)</td>\n",
       "      <td>1</td>\n",
       "    </tr>\n",
       "    <tr>\n",
       "      <th>2</th>\n",
       "      <td>48:6D:BB:87:56:2B</td>\n",
       "      <td>52.130274</td>\n",
       "      <td>-2.749344</td>\n",
       "      <td>(52.130274, -2.749344)</td>\n",
       "      <td>2</td>\n",
       "    </tr>\n",
       "    <tr>\n",
       "      <th>3</th>\n",
       "      <td>48:6D:BB:87:56:2B</td>\n",
       "      <td>52.130274</td>\n",
       "      <td>-2.749344</td>\n",
       "      <td>(52.130274, -2.749344)</td>\n",
       "      <td>3</td>\n",
       "    </tr>\n",
       "    <tr>\n",
       "      <th>4</th>\n",
       "      <td>86:25:19:29:18:A7</td>\n",
       "      <td>52.130274</td>\n",
       "      <td>-2.749344</td>\n",
       "      <td>(52.130274, -2.749344)</td>\n",
       "      <td>4</td>\n",
       "    </tr>\n",
       "  </tbody>\n",
       "</table>\n",
       "</div>"
      ],
      "text/plain": [
       "                 mac   latitude  longtitude                location  key\n",
       "0  48:6D:BB:87:56:2B  52.130274   -2.749344  (52.130274, -2.749344)    0\n",
       "1  48:6D:BB:87:56:2B  52.130274   -2.749344  (52.130274, -2.749344)    1\n",
       "2  48:6D:BB:87:56:2B  52.130274   -2.749344  (52.130274, -2.749344)    2\n",
       "3  48:6D:BB:87:56:2B  52.130274   -2.749344  (52.130274, -2.749344)    3\n",
       "4  86:25:19:29:18:A7  52.130274   -2.749344  (52.130274, -2.749344)    4"
      ]
     },
     "execution_count": 430,
     "metadata": {},
     "output_type": "execute_result"
    }
   ],
   "source": [
    "cnoc_nt.head()"
   ]
  },
  {
   "cell_type": "code",
   "execution_count": 432,
   "metadata": {},
   "outputs": [],
   "source": [
    "cnoc_xc = pd.merge(cnoc_nt, cnoc_nt2, on = 'key')"
   ]
  },
  {
   "cell_type": "code",
   "execution_count": 435,
   "metadata": {},
   "outputs": [
    {
     "name": "stdout",
     "output_type": "stream",
     "text": [
      "<class 'pandas.core.frame.DataFrame'>\n",
      "Int64Index: 233463 entries, 0 to 233462\n",
      "Data columns (total 9 columns):\n",
      " #   Column        Non-Null Count   Dtype  \n",
      "---  ------        --------------   -----  \n",
      " 0   mac_x         233463 non-null  object \n",
      " 1   latitude_x    233463 non-null  float64\n",
      " 2   longtitude_x  233463 non-null  float64\n",
      " 3   location_x    233463 non-null  object \n",
      " 4   key           233463 non-null  int64  \n",
      " 5   mac_y         233463 non-null  object \n",
      " 6   latitude_y    233463 non-null  float64\n",
      " 7   longtitude_y  233463 non-null  float64\n",
      " 8   location_y    233463 non-null  object \n",
      "dtypes: float64(4), int64(1), object(4)\n",
      "memory usage: 17.8+ MB\n"
     ]
    }
   ],
   "source": [
    "cnoc_xc.info()"
   ]
  },
  {
   "cell_type": "code",
   "execution_count": 436,
   "metadata": {},
   "outputs": [
    {
     "data": {
      "text/html": [
       "<div>\n",
       "<style scoped>\n",
       "    .dataframe tbody tr th:only-of-type {\n",
       "        vertical-align: middle;\n",
       "    }\n",
       "\n",
       "    .dataframe tbody tr th {\n",
       "        vertical-align: top;\n",
       "    }\n",
       "\n",
       "    .dataframe thead th {\n",
       "        text-align: right;\n",
       "    }\n",
       "</style>\n",
       "<table border=\"1\" class=\"dataframe\">\n",
       "  <thead>\n",
       "    <tr style=\"text-align: right;\">\n",
       "      <th></th>\n",
       "      <th>mac_x</th>\n",
       "      <th>latitude_x</th>\n",
       "      <th>longtitude_x</th>\n",
       "      <th>location_x</th>\n",
       "      <th>key</th>\n",
       "      <th>mac_y</th>\n",
       "      <th>latitude_y</th>\n",
       "      <th>longtitude_y</th>\n",
       "      <th>location_y</th>\n",
       "    </tr>\n",
       "  </thead>\n",
       "  <tbody>\n",
       "    <tr>\n",
       "      <th>0</th>\n",
       "      <td>48:6D:BB:87:56:2B</td>\n",
       "      <td>52.130274</td>\n",
       "      <td>-2.749344</td>\n",
       "      <td>(52.130274, -2.749344)</td>\n",
       "      <td>0</td>\n",
       "      <td>48:6D:BB:87:56:2B</td>\n",
       "      <td>52.130274</td>\n",
       "      <td>-2.749344</td>\n",
       "      <td>(52.130274, -2.749344)</td>\n",
       "    </tr>\n",
       "    <tr>\n",
       "      <th>1</th>\n",
       "      <td>48:6D:BB:87:56:2B</td>\n",
       "      <td>52.130274</td>\n",
       "      <td>-2.749344</td>\n",
       "      <td>(52.130274, -2.749344)</td>\n",
       "      <td>1</td>\n",
       "      <td>48:6D:BB:87:56:2B</td>\n",
       "      <td>52.130274</td>\n",
       "      <td>-2.749344</td>\n",
       "      <td>(52.130274, -2.749344)</td>\n",
       "    </tr>\n",
       "    <tr>\n",
       "      <th>2</th>\n",
       "      <td>48:6D:BB:87:56:2B</td>\n",
       "      <td>52.130274</td>\n",
       "      <td>-2.749344</td>\n",
       "      <td>(52.130274, -2.749344)</td>\n",
       "      <td>2</td>\n",
       "      <td>48:6D:BB:87:56:2B</td>\n",
       "      <td>52.130274</td>\n",
       "      <td>-2.749344</td>\n",
       "      <td>(52.130274, -2.749344)</td>\n",
       "    </tr>\n",
       "    <tr>\n",
       "      <th>3</th>\n",
       "      <td>48:6D:BB:87:56:2B</td>\n",
       "      <td>52.130274</td>\n",
       "      <td>-2.749344</td>\n",
       "      <td>(52.130274, -2.749344)</td>\n",
       "      <td>3</td>\n",
       "      <td>48:6D:BB:87:56:2B</td>\n",
       "      <td>52.130274</td>\n",
       "      <td>-2.749344</td>\n",
       "      <td>(52.130274, -2.749344)</td>\n",
       "    </tr>\n",
       "    <tr>\n",
       "      <th>4</th>\n",
       "      <td>86:25:19:29:18:A7</td>\n",
       "      <td>52.130274</td>\n",
       "      <td>-2.749344</td>\n",
       "      <td>(52.130274, -2.749344)</td>\n",
       "      <td>4</td>\n",
       "      <td>86:25:19:29:18:A7</td>\n",
       "      <td>52.130274</td>\n",
       "      <td>-2.749344</td>\n",
       "      <td>(52.130274, -2.749344)</td>\n",
       "    </tr>\n",
       "    <tr>\n",
       "      <th>...</th>\n",
       "      <td>...</td>\n",
       "      <td>...</td>\n",
       "      <td>...</td>\n",
       "      <td>...</td>\n",
       "      <td>...</td>\n",
       "      <td>...</td>\n",
       "      <td>...</td>\n",
       "      <td>...</td>\n",
       "      <td>...</td>\n",
       "    </tr>\n",
       "    <tr>\n",
       "      <th>233458</th>\n",
       "      <td>E2:48:AF:01:0C:A7</td>\n",
       "      <td>52.130286</td>\n",
       "      <td>-2.749342</td>\n",
       "      <td>(52.130286, -2.749342)</td>\n",
       "      <td>233458</td>\n",
       "      <td>E2:48:AF:01:0C:A7</td>\n",
       "      <td>52.130286</td>\n",
       "      <td>-2.749342</td>\n",
       "      <td>(52.130286, -2.749342)</td>\n",
       "    </tr>\n",
       "    <tr>\n",
       "      <th>233459</th>\n",
       "      <td>E0:48:AF:01:8C:DB</td>\n",
       "      <td>52.130286</td>\n",
       "      <td>-2.749342</td>\n",
       "      <td>(52.130286, -2.749342)</td>\n",
       "      <td>233459</td>\n",
       "      <td>E0:48:AF:01:8C:DB</td>\n",
       "      <td>52.130286</td>\n",
       "      <td>-2.749342</td>\n",
       "      <td>(52.130286, -2.749342)</td>\n",
       "    </tr>\n",
       "    <tr>\n",
       "      <th>233460</th>\n",
       "      <td>E0:48:AF:01:8C:DB</td>\n",
       "      <td>52.130286</td>\n",
       "      <td>-2.749342</td>\n",
       "      <td>(52.130286, -2.749342)</td>\n",
       "      <td>233460</td>\n",
       "      <td>E0:48:AF:01:8C:DB</td>\n",
       "      <td>52.130286</td>\n",
       "      <td>-2.749342</td>\n",
       "      <td>(52.130286, -2.749342)</td>\n",
       "    </tr>\n",
       "    <tr>\n",
       "      <th>233461</th>\n",
       "      <td>E2:48:AF:01:0C:A7</td>\n",
       "      <td>52.130286</td>\n",
       "      <td>-2.749342</td>\n",
       "      <td>(52.130286, -2.749342)</td>\n",
       "      <td>233461</td>\n",
       "      <td>E2:48:AF:01:0C:A7</td>\n",
       "      <td>52.130286</td>\n",
       "      <td>-2.749342</td>\n",
       "      <td>(52.130286, -2.749342)</td>\n",
       "    </tr>\n",
       "    <tr>\n",
       "      <th>233462</th>\n",
       "      <td>E2:48:AF:01:0C:A7</td>\n",
       "      <td>52.130286</td>\n",
       "      <td>-2.749342</td>\n",
       "      <td>(52.130286, -2.749342)</td>\n",
       "      <td>233462</td>\n",
       "      <td>E2:48:AF:01:0C:A7</td>\n",
       "      <td>52.130286</td>\n",
       "      <td>-2.749342</td>\n",
       "      <td>(52.130286, -2.749342)</td>\n",
       "    </tr>\n",
       "  </tbody>\n",
       "</table>\n",
       "<p>233463 rows × 9 columns</p>\n",
       "</div>"
      ],
      "text/plain": [
       "                    mac_x  latitude_x  longtitude_x              location_x  \\\n",
       "0       48:6D:BB:87:56:2B   52.130274     -2.749344  (52.130274, -2.749344)   \n",
       "1       48:6D:BB:87:56:2B   52.130274     -2.749344  (52.130274, -2.749344)   \n",
       "2       48:6D:BB:87:56:2B   52.130274     -2.749344  (52.130274, -2.749344)   \n",
       "3       48:6D:BB:87:56:2B   52.130274     -2.749344  (52.130274, -2.749344)   \n",
       "4       86:25:19:29:18:A7   52.130274     -2.749344  (52.130274, -2.749344)   \n",
       "...                   ...         ...           ...                     ...   \n",
       "233458  E2:48:AF:01:0C:A7   52.130286     -2.749342  (52.130286, -2.749342)   \n",
       "233459  E0:48:AF:01:8C:DB   52.130286     -2.749342  (52.130286, -2.749342)   \n",
       "233460  E0:48:AF:01:8C:DB   52.130286     -2.749342  (52.130286, -2.749342)   \n",
       "233461  E2:48:AF:01:0C:A7   52.130286     -2.749342  (52.130286, -2.749342)   \n",
       "233462  E2:48:AF:01:0C:A7   52.130286     -2.749342  (52.130286, -2.749342)   \n",
       "\n",
       "           key              mac_y  latitude_y  longtitude_y  \\\n",
       "0            0  48:6D:BB:87:56:2B   52.130274     -2.749344   \n",
       "1            1  48:6D:BB:87:56:2B   52.130274     -2.749344   \n",
       "2            2  48:6D:BB:87:56:2B   52.130274     -2.749344   \n",
       "3            3  48:6D:BB:87:56:2B   52.130274     -2.749344   \n",
       "4            4  86:25:19:29:18:A7   52.130274     -2.749344   \n",
       "...        ...                ...         ...           ...   \n",
       "233458  233458  E2:48:AF:01:0C:A7   52.130286     -2.749342   \n",
       "233459  233459  E0:48:AF:01:8C:DB   52.130286     -2.749342   \n",
       "233460  233460  E0:48:AF:01:8C:DB   52.130286     -2.749342   \n",
       "233461  233461  E2:48:AF:01:0C:A7   52.130286     -2.749342   \n",
       "233462  233462  E2:48:AF:01:0C:A7   52.130286     -2.749342   \n",
       "\n",
       "                    location_y  \n",
       "0       (52.130274, -2.749344)  \n",
       "1       (52.130274, -2.749344)  \n",
       "2       (52.130274, -2.749344)  \n",
       "3       (52.130274, -2.749344)  \n",
       "4       (52.130274, -2.749344)  \n",
       "...                        ...  \n",
       "233458  (52.130286, -2.749342)  \n",
       "233459  (52.130286, -2.749342)  \n",
       "233460  (52.130286, -2.749342)  \n",
       "233461  (52.130286, -2.749342)  \n",
       "233462  (52.130286, -2.749342)  \n",
       "\n",
       "[233463 rows x 9 columns]"
      ]
     },
     "execution_count": 436,
     "metadata": {},
     "output_type": "execute_result"
    }
   ],
   "source": [
    "cnoc_xc"
   ]
  },
  {
   "cell_type": "code",
   "execution_count": null,
   "metadata": {},
   "outputs": [],
   "source": []
  }
 ],
 "metadata": {
  "kernelspec": {
   "display_name": "py37",
   "language": "python",
   "name": "py37"
  },
  "language_info": {
   "codemirror_mode": {
    "name": "ipython",
    "version": 3
   },
   "file_extension": ".py",
   "mimetype": "text/x-python",
   "name": "python",
   "nbconvert_exporter": "python",
   "pygments_lexer": "ipython3",
   "version": "3.7.6"
  }
 },
 "nbformat": 4,
 "nbformat_minor": 4
}
